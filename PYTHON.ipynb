{
 "cells": [
  {
   "cell_type": "markdown",
   "id": "e8fd9a8c",
   "metadata": {},
   "source": [
    "# VALUES\n"
   ]
  },
  {
   "cell_type": "code",
   "execution_count": null,
   "id": "c890e4ff",
   "metadata": {},
   "outputs": [],
   "source": [
    "#updared git test"
   ]
  },
  {
   "cell_type": "markdown",
   "id": "19f78c1b",
   "metadata": {},
   "source": [
    "1.INT\n",
    "   .Numerical values with no decimal\n",
    "   .can be either negative or positive or zero"
   ]
  },
  {
   "cell_type": "code",
   "execution_count": 1,
   "id": "06e53d3d",
   "metadata": {},
   "outputs": [
    {
     "data": {
      "text/plain": [
       "int"
      ]
     },
     "execution_count": 1,
     "metadata": {},
     "output_type": "execute_result"
    }
   ],
   "source": [
    "type(99)\n"
   ]
  },
  {
   "cell_type": "code",
   "execution_count": 2,
   "id": "8ac94e9c",
   "metadata": {
    "scrolled": true
   },
   "outputs": [
    {
     "data": {
      "text/plain": [
       "int"
      ]
     },
     "execution_count": 2,
     "metadata": {},
     "output_type": "execute_result"
    }
   ],
   "source": [
    "type(0)"
   ]
  },
  {
   "cell_type": "code",
   "execution_count": 3,
   "id": "26ac5ede",
   "metadata": {},
   "outputs": [
    {
     "ename": "NameError",
     "evalue": "name 'subha' is not defined",
     "output_type": "error",
     "traceback": [
      "\u001b[1;31m---------------------------------------------------------------------------\u001b[0m",
      "\u001b[1;31mNameError\u001b[0m                                 Traceback (most recent call last)",
      "Cell \u001b[1;32mIn[3], line 1\u001b[0m\n\u001b[1;32m----> 1\u001b[0m \u001b[38;5;28mtype\u001b[39m(\u001b[43msubha\u001b[49m)\n",
      "\u001b[1;31mNameError\u001b[0m: name 'subha' is not defined"
     ]
    }
   ],
   "source": [
    "type(subha)"
   ]
  },
  {
   "cell_type": "markdown",
   "id": "dbb58a5b",
   "metadata": {},
   "source": [
    "2.FLOAT\n",
    "   A numerical valve with decimal"
   ]
  },
  {
   "cell_type": "code",
   "execution_count": 4,
   "id": "76ebc4f1",
   "metadata": {},
   "outputs": [
    {
     "data": {
      "text/plain": [
       "float"
      ]
     },
     "execution_count": 4,
     "metadata": {},
     "output_type": "execute_result"
    }
   ],
   "source": [
    "type(99.0)"
   ]
  },
  {
   "cell_type": "code",
   "execution_count": 5,
   "id": "1b6025a2",
   "metadata": {},
   "outputs": [
    {
     "ename": "SyntaxError",
     "evalue": "invalid syntax. Perhaps you forgot a comma? (4110007752.py, line 1)",
     "output_type": "error",
     "traceback": [
      "\u001b[1;36m  Cell \u001b[1;32mIn[5], line 1\u001b[1;36m\u001b[0m\n\u001b[1;33m    type(99.0.2.1)\u001b[0m\n\u001b[1;37m         ^\u001b[0m\n\u001b[1;31mSyntaxError\u001b[0m\u001b[1;31m:\u001b[0m invalid syntax. Perhaps you forgot a comma?\n"
     ]
    }
   ],
   "source": [
    "type(99.0.2.1)"
   ]
  },
  {
   "cell_type": "code",
   "execution_count": 6,
   "id": "ee7d5409",
   "metadata": {
    "scrolled": true
   },
   "outputs": [
    {
     "data": {
      "text/plain": [
       "str"
      ]
     },
     "execution_count": 6,
     "metadata": {},
     "output_type": "execute_result"
    }
   ],
   "source": [
    "type(\"99.0.2.1\")     #if morethan one decimal value is there it is consider as \"txt\""
   ]
  },
  {
   "cell_type": "code",
   "execution_count": 7,
   "id": "0f9ab63d",
   "metadata": {},
   "outputs": [
    {
     "ename": "SyntaxError",
     "evalue": "invalid syntax (2435149043.py, line 1)",
     "output_type": "error",
     "traceback": [
      "\u001b[1;36m  Cell \u001b[1;32mIn[7], line 1\u001b[1;36m\u001b[0m\n\u001b[1;33m    99.0.2.1\u001b[0m\n\u001b[1;37m        ^\u001b[0m\n\u001b[1;31mSyntaxError\u001b[0m\u001b[1;31m:\u001b[0m invalid syntax\n"
     ]
    }
   ],
   "source": [
    "99.0.2.1\n"
   ]
  },
  {
   "cell_type": "code",
   "execution_count": 8,
   "id": "2bab15d3",
   "metadata": {},
   "outputs": [
    {
     "data": {
      "text/plain": [
       "'99.0.2.1'"
      ]
     },
     "execution_count": 8,
     "metadata": {},
     "output_type": "execute_result"
    }
   ],
   "source": [
    "\"99.0.2.1\""
   ]
  },
  {
   "cell_type": "markdown",
   "id": "501f59ab",
   "metadata": {},
   "source": [
    "3.STRING\n",
    "   A combination of characters(letters,number,specialcharacter)\n",
    "    each one is called as character\n",
    "    Ex:\"srk\"-> s,r,k are 3 characters\n",
    "   "
   ]
  },
  {
   "cell_type": "code",
   "execution_count": 9,
   "id": "795759f9",
   "metadata": {},
   "outputs": [
    {
     "data": {
      "text/plain": [
       "'srk'"
      ]
     },
     "execution_count": 9,
     "metadata": {},
     "output_type": "execute_result"
    }
   ],
   "source": [
    "\"srk\"\n"
   ]
  },
  {
   "cell_type": "code",
   "execution_count": 10,
   "id": "6ebad2e0",
   "metadata": {},
   "outputs": [
    {
     "data": {
      "text/plain": [
       "'s1'"
      ]
     },
     "execution_count": 10,
     "metadata": {},
     "output_type": "execute_result"
    }
   ],
   "source": [
    "\"s1\""
   ]
  },
  {
   "cell_type": "code",
   "execution_count": 11,
   "id": "40d0ada4",
   "metadata": {},
   "outputs": [
    {
     "data": {
      "text/plain": [
       "'2...'"
      ]
     },
     "execution_count": 11,
     "metadata": {},
     "output_type": "execute_result"
    }
   ],
   "source": [
    "\"2...\""
   ]
  },
  {
   "cell_type": "code",
   "execution_count": 12,
   "id": "82af3f4a",
   "metadata": {},
   "outputs": [
    {
     "data": {
      "text/plain": [
       "'.,|'"
      ]
     },
     "execution_count": 12,
     "metadata": {},
     "output_type": "execute_result"
    }
   ],
   "source": [
    "\".,|\""
   ]
  },
  {
   "cell_type": "code",
   "execution_count": 13,
   "id": "da14f09d",
   "metadata": {},
   "outputs": [
    {
     "data": {
      "text/plain": [
       "'123'"
      ]
     },
     "execution_count": 13,
     "metadata": {},
     "output_type": "execute_result"
    }
   ],
   "source": [
    "\"123\""
   ]
  },
  {
   "cell_type": "code",
   "execution_count": 14,
   "id": "56ca4f3d",
   "metadata": {},
   "outputs": [
    {
     "data": {
      "text/plain": [
       "str"
      ]
     },
     "execution_count": 14,
     "metadata": {},
     "output_type": "execute_result"
    }
   ],
   "source": [
    "type(\"123\")      #anything with in inverted commas is a string"
   ]
  },
  {
   "cell_type": "code",
   "execution_count": 15,
   "id": "66e05763",
   "metadata": {},
   "outputs": [
    {
     "data": {
      "text/plain": [
       "int"
      ]
     },
     "execution_count": 15,
     "metadata": {},
     "output_type": "execute_result"
    }
   ],
   "source": [
    "type(123)"
   ]
  },
  {
   "cell_type": "markdown",
   "id": "184b314d",
   "metadata": {},
   "source": [
    "# TYPE CASTING\n",
    "   Converting the value from one datatype to another datatype"
   ]
  },
  {
   "cell_type": "code",
   "execution_count": 17,
   "id": "b2f6cae1",
   "metadata": {},
   "outputs": [
    {
     "data": {
      "text/plain": [
       "123"
      ]
     },
     "execution_count": 17,
     "metadata": {},
     "output_type": "execute_result"
    }
   ],
   "source": [
    "int(\"123\")"
   ]
  },
  {
   "cell_type": "code",
   "execution_count": 18,
   "id": "615934fc",
   "metadata": {},
   "outputs": [
    {
     "ename": "ValueError",
     "evalue": "invalid literal for int() with base 10: '132s'",
     "output_type": "error",
     "traceback": [
      "\u001b[1;31m---------------------------------------------------------------------------\u001b[0m",
      "\u001b[1;31mValueError\u001b[0m                                Traceback (most recent call last)",
      "Cell \u001b[1;32mIn[18], line 1\u001b[0m\n\u001b[1;32m----> 1\u001b[0m \u001b[38;5;28;43mint\u001b[39;49m\u001b[43m(\u001b[49m\u001b[38;5;124;43m\"\u001b[39;49m\u001b[38;5;124;43m132s\u001b[39;49m\u001b[38;5;124;43m\"\u001b[39;49m\u001b[43m)\u001b[49m\n",
      "\u001b[1;31mValueError\u001b[0m: invalid literal for int() with base 10: '132s'"
     ]
    }
   ],
   "source": [
    "int(\"132s\")"
   ]
  },
  {
   "cell_type": "code",
   "execution_count": 19,
   "id": "67daa2e6",
   "metadata": {},
   "outputs": [
    {
     "data": {
      "text/plain": [
       "123"
      ]
     },
     "execution_count": 19,
     "metadata": {},
     "output_type": "execute_result"
    }
   ],
   "source": [
    "int(123.0)"
   ]
  },
  {
   "cell_type": "code",
   "execution_count": 20,
   "id": "c8aded67",
   "metadata": {},
   "outputs": [
    {
     "data": {
      "text/plain": [
       "123"
      ]
     },
     "execution_count": 20,
     "metadata": {},
     "output_type": "execute_result"
    }
   ],
   "source": [
    "int(123.99999)"
   ]
  },
  {
   "cell_type": "code",
   "execution_count": 21,
   "id": "837c1cc8",
   "metadata": {},
   "outputs": [
    {
     "ename": "NameError",
     "evalue": "name 'subha' is not defined",
     "output_type": "error",
     "traceback": [
      "\u001b[1;31m---------------------------------------------------------------------------\u001b[0m",
      "\u001b[1;31mNameError\u001b[0m                                 Traceback (most recent call last)",
      "Cell \u001b[1;32mIn[21], line 1\u001b[0m\n\u001b[1;32m----> 1\u001b[0m \u001b[38;5;28mint\u001b[39m(\u001b[43msubha\u001b[49m)\n",
      "\u001b[1;31mNameError\u001b[0m: name 'subha' is not defined"
     ]
    }
   ],
   "source": [
    "int(subha)"
   ]
  },
  {
   "cell_type": "code",
   "execution_count": 22,
   "id": "a5080fda",
   "metadata": {},
   "outputs": [
    {
     "ename": "ValueError",
     "evalue": "invalid literal for int() with base 10: 'subha'",
     "output_type": "error",
     "traceback": [
      "\u001b[1;31m---------------------------------------------------------------------------\u001b[0m",
      "\u001b[1;31mValueError\u001b[0m                                Traceback (most recent call last)",
      "Cell \u001b[1;32mIn[22], line 1\u001b[0m\n\u001b[1;32m----> 1\u001b[0m \u001b[38;5;28;43mint\u001b[39;49m\u001b[43m(\u001b[49m\u001b[38;5;124;43m\"\u001b[39;49m\u001b[38;5;124;43msubha\u001b[39;49m\u001b[38;5;124;43m\"\u001b[39;49m\u001b[43m)\u001b[49m\n",
      "\u001b[1;31mValueError\u001b[0m: invalid literal for int() with base 10: 'subha'"
     ]
    }
   ],
   "source": [
    "int(\"subha\")"
   ]
  },
  {
   "cell_type": "markdown",
   "id": "4790fafa",
   "metadata": {},
   "source": [
    "THE STRING CAN BE CONVERTED INTO INT, IF THE STRING CONSISTS OF ONLY NUMERIC"
   ]
  },
  {
   "cell_type": "code",
   "execution_count": 23,
   "id": "a37ad448",
   "metadata": {},
   "outputs": [
    {
     "data": {
      "text/plain": [
       "123.0"
      ]
     },
     "execution_count": 23,
     "metadata": {},
     "output_type": "execute_result"
    }
   ],
   "source": [
    "float(123)"
   ]
  },
  {
   "cell_type": "code",
   "execution_count": 24,
   "id": "3fbe0010",
   "metadata": {},
   "outputs": [
    {
     "data": {
      "text/plain": [
       "123.0"
      ]
     },
     "execution_count": 24,
     "metadata": {},
     "output_type": "execute_result"
    }
   ],
   "source": [
    "float(\"123\")"
   ]
  },
  {
   "cell_type": "code",
   "execution_count": 25,
   "id": "7a7846d3",
   "metadata": {},
   "outputs": [
    {
     "data": {
      "text/plain": [
       "123.23"
      ]
     },
     "execution_count": 25,
     "metadata": {},
     "output_type": "execute_result"
    }
   ],
   "source": [
    "float(\"123.23\")"
   ]
  },
  {
   "cell_type": "code",
   "execution_count": 26,
   "id": "708a7138",
   "metadata": {
    "scrolled": true
   },
   "outputs": [
    {
     "ename": "ValueError",
     "evalue": "invalid literal for int() with base 10: '123.23'",
     "output_type": "error",
     "traceback": [
      "\u001b[1;31m---------------------------------------------------------------------------\u001b[0m",
      "\u001b[1;31mValueError\u001b[0m                                Traceback (most recent call last)",
      "Cell \u001b[1;32mIn[26], line 1\u001b[0m\n\u001b[1;32m----> 1\u001b[0m \u001b[38;5;28;43mint\u001b[39;49m\u001b[43m(\u001b[49m\u001b[38;5;124;43m\"\u001b[39;49m\u001b[38;5;124;43m123.23\u001b[39;49m\u001b[38;5;124;43m\"\u001b[39;49m\u001b[43m)\u001b[49m\n",
      "\u001b[1;31mValueError\u001b[0m: invalid literal for int() with base 10: '123.23'"
     ]
    }
   ],
   "source": [
    "int(\"123.23\")"
   ]
  },
  {
   "cell_type": "code",
   "execution_count": 27,
   "id": "bcaa9f47",
   "metadata": {},
   "outputs": [
    {
     "ename": "ValueError",
     "evalue": "could not convert string to float: '123s'",
     "output_type": "error",
     "traceback": [
      "\u001b[1;31m---------------------------------------------------------------------------\u001b[0m",
      "\u001b[1;31mValueError\u001b[0m                                Traceback (most recent call last)",
      "Cell \u001b[1;32mIn[27], line 1\u001b[0m\n\u001b[1;32m----> 1\u001b[0m \u001b[38;5;28;43mfloat\u001b[39;49m\u001b[43m(\u001b[49m\u001b[38;5;124;43m\"\u001b[39;49m\u001b[38;5;124;43m123s\u001b[39;49m\u001b[38;5;124;43m\"\u001b[39;49m\u001b[43m)\u001b[49m\n",
      "\u001b[1;31mValueError\u001b[0m: could not convert string to float: '123s'"
     ]
    }
   ],
   "source": [
    "float(\"123s\")"
   ]
  },
  {
   "cell_type": "code",
   "execution_count": 28,
   "id": "d1ebea33",
   "metadata": {},
   "outputs": [
    {
     "data": {
      "text/plain": [
       "'123'"
      ]
     },
     "execution_count": 28,
     "metadata": {},
     "output_type": "execute_result"
    }
   ],
   "source": [
    "str(123)"
   ]
  },
  {
   "cell_type": "code",
   "execution_count": 29,
   "id": "c1842e61",
   "metadata": {},
   "outputs": [
    {
     "data": {
      "text/plain": [
       "'123.0'"
      ]
     },
     "execution_count": 29,
     "metadata": {},
     "output_type": "execute_result"
    }
   ],
   "source": [
    "str(123.0)"
   ]
  },
  {
   "cell_type": "markdown",
   "id": "d3692a0d",
   "metadata": {},
   "source": [
    "4.BOOL\n",
    "   BOOLEAN DATATYPE(True/False)"
   ]
  },
  {
   "cell_type": "code",
   "execution_count": 30,
   "id": "b614b916",
   "metadata": {},
   "outputs": [
    {
     "ename": "NameError",
     "evalue": "name 'true' is not defined",
     "output_type": "error",
     "traceback": [
      "\u001b[1;31m---------------------------------------------------------------------------\u001b[0m",
      "\u001b[1;31mNameError\u001b[0m                                 Traceback (most recent call last)",
      "Cell \u001b[1;32mIn[30], line 1\u001b[0m\n\u001b[1;32m----> 1\u001b[0m \u001b[38;5;28mtype\u001b[39m(\u001b[43mtrue\u001b[49m)\n",
      "\u001b[1;31mNameError\u001b[0m: name 'true' is not defined"
     ]
    }
   ],
   "source": [
    "type(true)\n"
   ]
  },
  {
   "cell_type": "code",
   "execution_count": 31,
   "id": "a47f9649",
   "metadata": {},
   "outputs": [
    {
     "data": {
      "text/plain": [
       "bool"
      ]
     },
     "execution_count": 31,
     "metadata": {},
     "output_type": "execute_result"
    }
   ],
   "source": [
    "type(True)"
   ]
  },
  {
   "cell_type": "code",
   "execution_count": 33,
   "id": "6b9e06a4",
   "metadata": {},
   "outputs": [
    {
     "data": {
      "text/plain": [
       "bool"
      ]
     },
     "execution_count": 33,
     "metadata": {},
     "output_type": "execute_result"
    }
   ],
   "source": [
    "type(False)"
   ]
  },
  {
   "cell_type": "code",
   "execution_count": 34,
   "id": "1cbf24d0",
   "metadata": {},
   "outputs": [
    {
     "data": {
      "text/plain": [
       "1"
      ]
     },
     "execution_count": 34,
     "metadata": {},
     "output_type": "execute_result"
    }
   ],
   "source": [
    "int(True)"
   ]
  },
  {
   "cell_type": "code",
   "execution_count": 35,
   "id": "b8e36577",
   "metadata": {},
   "outputs": [
    {
     "data": {
      "text/plain": [
       "0.0"
      ]
     },
     "execution_count": 35,
     "metadata": {},
     "output_type": "execute_result"
    }
   ],
   "source": [
    "float(False)"
   ]
  },
  {
   "cell_type": "code",
   "execution_count": 37,
   "id": "fef6cb00",
   "metadata": {},
   "outputs": [
    {
     "data": {
      "text/plain": [
       "True"
      ]
     },
     "execution_count": 37,
     "metadata": {},
     "output_type": "execute_result"
    }
   ],
   "source": [
    "bool(123)"
   ]
  },
  {
   "cell_type": "code",
   "execution_count": 38,
   "id": "30058d8b",
   "metadata": {},
   "outputs": [
    {
     "data": {
      "text/plain": [
       "False"
      ]
     },
     "execution_count": 38,
     "metadata": {},
     "output_type": "execute_result"
    }
   ],
   "source": [
    "bool(0)"
   ]
  },
  {
   "cell_type": "code",
   "execution_count": 39,
   "id": "78589a1f",
   "metadata": {},
   "outputs": [
    {
     "data": {
      "text/plain": [
       "1.0"
      ]
     },
     "execution_count": 39,
     "metadata": {},
     "output_type": "execute_result"
    }
   ],
   "source": [
    "float(True)"
   ]
  },
  {
   "cell_type": "code",
   "execution_count": 40,
   "id": "269ff438",
   "metadata": {},
   "outputs": [
    {
     "data": {
      "text/plain": [
       "True"
      ]
     },
     "execution_count": 40,
     "metadata": {},
     "output_type": "execute_result"
    }
   ],
   "source": [
    "bool(1.1)"
   ]
  },
  {
   "cell_type": "code",
   "execution_count": 41,
   "id": "d3cb1cf6",
   "metadata": {},
   "outputs": [
    {
     "data": {
      "text/plain": [
       "True"
      ]
     },
     "execution_count": 41,
     "metadata": {},
     "output_type": "execute_result"
    }
   ],
   "source": [
    "bool(-0.00001)"
   ]
  },
  {
   "cell_type": "code",
   "execution_count": 42,
   "id": "0a3bcad9",
   "metadata": {},
   "outputs": [
    {
     "data": {
      "text/plain": [
       "float"
      ]
     },
     "execution_count": 42,
     "metadata": {},
     "output_type": "execute_result"
    }
   ],
   "source": [
    "type(22.6)"
   ]
  },
  {
   "cell_type": "markdown",
   "id": "1aaad1f3",
   "metadata": {},
   "source": [
    "# print(output of python)\n",
    "   "
   ]
  },
  {
   "cell_type": "markdown",
   "id": "21465c20",
   "metadata": {},
   "source": [
    "type()------>used to check datatype\n",
    "id()-------->to check address\n",
    "print()----->print the values\n"
   ]
  },
  {
   "cell_type": "markdown",
   "id": "b3b49b96",
   "metadata": {},
   "source": [
    "print single value"
   ]
  },
  {
   "cell_type": "code",
   "execution_count": 43,
   "id": "8af98ca7",
   "metadata": {},
   "outputs": [
    {
     "name": "stdout",
     "output_type": "stream",
     "text": [
      "12\n",
      "srk\n"
     ]
    }
   ],
   "source": [
    "print(12)\n",
    "print(\"srk\")\n"
   ]
  },
  {
   "cell_type": "markdown",
   "id": "b3faa6cf",
   "metadata": {},
   "source": [
    "print multiple values\n",
    "    print(v1,v2,v3.....vn)"
   ]
  },
  {
   "cell_type": "code",
   "execution_count": 44,
   "id": "03ece3a6",
   "metadata": {},
   "outputs": [
    {
     "name": "stdout",
     "output_type": "stream",
     "text": [
      "12 22\n"
     ]
    }
   ],
   "source": [
    "print(12,22)"
   ]
  },
  {
   "cell_type": "code",
   "execution_count": 45,
   "id": "59e211a8",
   "metadata": {},
   "outputs": [
    {
     "ename": "NameError",
     "evalue": "name 'ds' is not defined",
     "output_type": "error",
     "traceback": [
      "\u001b[1;31m---------------------------------------------------------------------------\u001b[0m",
      "\u001b[1;31mNameError\u001b[0m                                 Traceback (most recent call last)",
      "Cell \u001b[1;32mIn[45], line 1\u001b[0m\n\u001b[1;32m----> 1\u001b[0m \u001b[38;5;28mprint\u001b[39m(\u001b[38;5;124m\"\u001b[39m\u001b[38;5;124msrk\u001b[39m\u001b[38;5;124m\"\u001b[39m,\u001b[38;5;241m10\u001b[39m,\u001b[38;5;241m11\u001b[39m,\u001b[43mds\u001b[49m)\n",
      "\u001b[1;31mNameError\u001b[0m: name 'ds' is not defined"
     ]
    }
   ],
   "source": [
    "print(\"srk\",10,11,ds)"
   ]
  },
  {
   "cell_type": "code",
   "execution_count": 46,
   "id": "7aa6c3f8",
   "metadata": {},
   "outputs": [
    {
     "name": "stdout",
     "output_type": "stream",
     "text": [
      "srk 10 11 ds\n"
     ]
    }
   ],
   "source": [
    "print(\"srk\",10,11,\"ds\")"
   ]
  },
  {
   "cell_type": "markdown",
   "id": "b583f435",
   "metadata": {},
   "source": [
    "print single variable"
   ]
  },
  {
   "cell_type": "code",
   "execution_count": 47,
   "id": "fe07c458",
   "metadata": {},
   "outputs": [
    {
     "name": "stdout",
     "output_type": "stream",
     "text": [
      "99\n"
     ]
    }
   ],
   "source": [
    "a=99\n",
    "print(a)"
   ]
  },
  {
   "cell_type": "markdown",
   "id": "6e61ec7d",
   "metadata": {},
   "source": [
    "print multiple variables\n",
    "print(v1,v2,v3,....vn)"
   ]
  },
  {
   "cell_type": "code",
   "execution_count": 48,
   "id": "966c8471",
   "metadata": {},
   "outputs": [
    {
     "name": "stdout",
     "output_type": "stream",
     "text": [
      "90 25\n"
     ]
    }
   ],
   "source": [
    "a,b=90,25\n",
    "print(a,b)"
   ]
  },
  {
   "cell_type": "markdown",
   "id": "e2ef3781",
   "metadata": {},
   "source": [
    "print combination of value and variable\n"
   ]
  },
  {
   "cell_type": "code",
   "execution_count": 49,
   "id": "01460544",
   "metadata": {},
   "outputs": [
    {
     "name": "stdout",
     "output_type": "stream",
     "text": [
      "the value of z: 90\n"
     ]
    }
   ],
   "source": [
    "z=144\n",
    "print(\"the value of z:\",a)"
   ]
  },
  {
   "cell_type": "code",
   "execution_count": 50,
   "id": "edd53195",
   "metadata": {},
   "outputs": [
    {
     "name": "stdout",
     "output_type": "stream",
     "text": [
      "20 10 10 1 srk 10\n"
     ]
    }
   ],
   "source": [
    "a=10\n",
    "print(20,a,a,1,\"srk\",a)"
   ]
  },
  {
   "cell_type": "markdown",
   "id": "8b56dbbe",
   "metadata": {},
   "source": [
    "# INPUT\n",
    " ASK THE USER TO ENTER THE VALUE"
   ]
  },
  {
   "cell_type": "code",
   "execution_count": 51,
   "id": "cfd16b27",
   "metadata": {},
   "outputs": [
    {
     "name": "stdout",
     "output_type": "stream",
     "text": [
      "6\n"
     ]
    },
    {
     "data": {
      "text/plain": [
       "'6'"
      ]
     },
     "execution_count": 51,
     "metadata": {},
     "output_type": "execute_result"
    }
   ],
   "source": [
    "input()"
   ]
  },
  {
   "cell_type": "code",
   "execution_count": 52,
   "id": "51c23241",
   "metadata": {},
   "outputs": [
    {
     "name": "stdout",
     "output_type": "stream",
     "text": [
      "89\n"
     ]
    }
   ],
   "source": [
    "ad=input()"
   ]
  },
  {
   "cell_type": "code",
   "execution_count": 53,
   "id": "94f9143f",
   "metadata": {},
   "outputs": [
    {
     "name": "stdout",
     "output_type": "stream",
     "text": [
      "89\n"
     ]
    }
   ],
   "source": [
    "print(ad)"
   ]
  },
  {
   "cell_type": "code",
   "execution_count": 54,
   "id": "d34c4030",
   "metadata": {},
   "outputs": [
    {
     "name": "stdout",
     "output_type": "stream",
     "text": [
      "65\n"
     ]
    }
   ],
   "source": [
    "s=input()"
   ]
  },
  {
   "cell_type": "code",
   "execution_count": 55,
   "id": "5c428e1e",
   "metadata": {},
   "outputs": [
    {
     "name": "stdout",
     "output_type": "stream",
     "text": [
      "enter your age:100\n"
     ]
    }
   ],
   "source": [
    "s=input(\"enter your age:\")"
   ]
  },
  {
   "cell_type": "code",
   "execution_count": 56,
   "id": "b20ece8b",
   "metadata": {
    "scrolled": true
   },
   "outputs": [
    {
     "name": "stdout",
     "output_type": "stream",
     "text": [
      "enter your any one option of either a or b:b\n"
     ]
    }
   ],
   "source": [
    "s=input(\"enter your any one option of either a or b:\")"
   ]
  },
  {
   "cell_type": "markdown",
   "id": "68e7dc9b",
   "metadata": {},
   "source": [
    "# simple Model"
   ]
  },
  {
   "cell_type": "code",
   "execution_count": 57,
   "id": "d5cb03e5",
   "metadata": {
    "scrolled": true
   },
   "outputs": [
    {
     "name": "stdout",
     "output_type": "stream",
     "text": [
      "enter your age:100\n",
      "100\n"
     ]
    },
    {
     "data": {
      "text/plain": [
       "int"
      ]
     },
     "execution_count": 57,
     "metadata": {},
     "output_type": "execute_result"
    }
   ],
   "source": [
    "s=int(input(\"enter your age:\"))\n",
    "print(s)\n",
    "type(s)"
   ]
  },
  {
   "cell_type": "code",
   "execution_count": 58,
   "id": "a62871e4",
   "metadata": {},
   "outputs": [
    {
     "name": "stdout",
     "output_type": "stream",
     "text": [
      "enter your age:56\n",
      "56\n"
     ]
    },
    {
     "data": {
      "text/plain": [
       "str"
      ]
     },
     "execution_count": 58,
     "metadata": {},
     "output_type": "execute_result"
    }
   ],
   "source": [
    "s=input(\"enter your age:\")\n",
    "print(s)\n",
    "type(s)"
   ]
  },
  {
   "cell_type": "markdown",
   "id": "70e60a62",
   "metadata": {},
   "source": [
    "# OPERATORS\n",
    "    THEY ARE SOME SPECIAL CHARACTERS OR RESERVE WORDS USED TO PERFORM OPERATION\n",
    "    1.ARITHMETIC OPERATORS\n",
    "    2.ASSIGNMENT OPERATORS\n",
    "    3.COMPARISION OPERATORS              #BITWISE OPERATOR IS THERE BUT IT IS NOT USE IN PYTHON\n",
    "    4.LOGICAL OPERATORS\n",
    "    5.IDENTITY OPERATORS\n",
    "    6.MEMBERSHIP OPERATORS"
   ]
  },
  {
   "cell_type": "markdown",
   "id": "84e6a578",
   "metadata": {},
   "source": [
    "1.ARITHMETIC OPERATORS\n",
    "     OPERATORS WHICH ARE USED FOR MATHEMATICAL OPERATION\n",
    "     +,-,*,/,%,//,%,**,() are arithmetic operators\n"
   ]
  },
  {
   "cell_type": "code",
   "execution_count": 59,
   "id": "b353e61a",
   "metadata": {},
   "outputs": [
    {
     "name": "stdout",
     "output_type": "stream",
     "text": [
      "14\n"
     ]
    }
   ],
   "source": [
    "print(10+4)"
   ]
  },
  {
   "cell_type": "code",
   "execution_count": 60,
   "id": "cd90c8c1",
   "metadata": {},
   "outputs": [
    {
     "data": {
      "text/plain": [
       "6"
      ]
     },
     "execution_count": 60,
     "metadata": {},
     "output_type": "execute_result"
    }
   ],
   "source": [
    "10-4"
   ]
  },
  {
   "cell_type": "code",
   "execution_count": 61,
   "id": "a2f0b4b3",
   "metadata": {},
   "outputs": [
    {
     "name": "stdout",
     "output_type": "stream",
     "text": [
      "6\n"
     ]
    }
   ],
   "source": [
    "print(10-4)"
   ]
  },
  {
   "cell_type": "code",
   "execution_count": 62,
   "id": "a99a9fcf",
   "metadata": {},
   "outputs": [
    {
     "name": "stdout",
     "output_type": "stream",
     "text": [
      "40\n"
     ]
    }
   ],
   "source": [
    "print(10*4)"
   ]
  },
  {
   "cell_type": "code",
   "execution_count": 63,
   "id": "662720d6",
   "metadata": {},
   "outputs": [
    {
     "data": {
      "text/plain": [
       "40"
      ]
     },
     "execution_count": 63,
     "metadata": {},
     "output_type": "execute_result"
    }
   ],
   "source": [
    "10*4\n"
   ]
  },
  {
   "cell_type": "code",
   "execution_count": 64,
   "id": "f86e37e8",
   "metadata": {},
   "outputs": [
    {
     "data": {
      "text/plain": [
       "40"
      ]
     },
     "execution_count": 64,
     "metadata": {},
     "output_type": "execute_result"
    }
   ],
   "source": [
    "10+4\n",
    "10-4       # in jupyter notebook what ever in the lastline ,it will be printed\n",
    "10*4"
   ]
  },
  {
   "cell_type": "code",
   "execution_count": 65,
   "id": "045b25e8",
   "metadata": {},
   "outputs": [
    {
     "name": "stdout",
     "output_type": "stream",
     "text": [
      "14\n",
      "6\n",
      "40\n"
     ]
    }
   ],
   "source": [
    "print(10+4)\n",
    "print(10-4)    #if we want 3 outputs we have to write print statement\n",
    "print(10*4)\n"
   ]
  },
  {
   "cell_type": "markdown",
   "id": "8b050201",
   "metadata": {},
   "source": [
    "### TRUE DIVISION:\n",
    "   WHENEVER YOU ARE USING DIVISION SYMBOL,THE OUTPUT WILL GIVE IN FLOAT VALUE\n"
   ]
  },
  {
   "cell_type": "code",
   "execution_count": 66,
   "id": "e474abe3",
   "metadata": {},
   "outputs": [
    {
     "data": {
      "text/plain": [
       "2.0"
      ]
     },
     "execution_count": 66,
     "metadata": {},
     "output_type": "execute_result"
    }
   ],
   "source": [
    "10/5"
   ]
  },
  {
   "cell_type": "code",
   "execution_count": 67,
   "id": "c2d6ee99",
   "metadata": {},
   "outputs": [
    {
     "data": {
      "text/plain": [
       "3.3333333333333335"
      ]
     },
     "execution_count": 67,
     "metadata": {},
     "output_type": "execute_result"
    }
   ],
   "source": [
    "10/3\n"
   ]
  },
  {
   "cell_type": "markdown",
   "id": "331717d4",
   "metadata": {},
   "source": [
    "### FLOOR DIVISION:\n",
    "   HERE THE OUTPUT IS QUOTIENT VALUE"
   ]
  },
  {
   "cell_type": "code",
   "execution_count": 10,
   "id": "33808336",
   "metadata": {},
   "outputs": [
    {
     "data": {
      "text/plain": [
       "2"
      ]
     },
     "execution_count": 10,
     "metadata": {},
     "output_type": "execute_result"
    }
   ],
   "source": [
    "10//4"
   ]
  },
  {
   "cell_type": "code",
   "execution_count": 11,
   "id": "2f4f81a3",
   "metadata": {},
   "outputs": [
    {
     "data": {
      "text/plain": [
       "3"
      ]
     },
     "execution_count": 11,
     "metadata": {},
     "output_type": "execute_result"
    }
   ],
   "source": [
    "10//3"
   ]
  },
  {
   "cell_type": "markdown",
   "id": "a05b6114",
   "metadata": {},
   "source": [
    "### MODULO DIVISION:\n",
    "   HERE THE OUTPUT IS THE REMAINDER VALUE"
   ]
  },
  {
   "cell_type": "code",
   "execution_count": 68,
   "id": "84eb8c1a",
   "metadata": {},
   "outputs": [
    {
     "data": {
      "text/plain": [
       "0"
      ]
     },
     "execution_count": 68,
     "metadata": {},
     "output_type": "execute_result"
    }
   ],
   "source": [
    "10%5"
   ]
  },
  {
   "cell_type": "code",
   "execution_count": 69,
   "id": "6c8b0678",
   "metadata": {},
   "outputs": [
    {
     "data": {
      "text/plain": [
       "1"
      ]
     },
     "execution_count": 69,
     "metadata": {},
     "output_type": "execute_result"
    }
   ],
   "source": [
    "10%3"
   ]
  },
  {
   "cell_type": "code",
   "execution_count": 70,
   "id": "c855a1f4",
   "metadata": {},
   "outputs": [
    {
     "data": {
      "text/plain": [
       "10000"
      ]
     },
     "execution_count": 70,
     "metadata": {},
     "output_type": "execute_result"
    }
   ],
   "source": [
    "#EXPONENT\n",
    "10**4"
   ]
  },
  {
   "cell_type": "code",
   "execution_count": 73,
   "id": "65ff04de",
   "metadata": {},
   "outputs": [
    {
     "data": {
      "text/plain": [
       "25"
      ]
     },
     "execution_count": 73,
     "metadata": {},
     "output_type": "execute_result"
    }
   ],
   "source": [
    "#PARENTHESIS\n",
    "#()               #FIRST IT WILLDO IN PARENTESIS AND THEN MULTIPLICATION\n",
    "(2+3)*5"
   ]
  },
  {
   "cell_type": "markdown",
   "id": "943f0059",
   "metadata": {},
   "source": [
    "2.ASSIGNMENT OPERATORS\n",
    "      (EQUAL TO) = IS THE ASSIGNMENT OPERATOR"
   ]
  },
  {
   "cell_type": "code",
   "execution_count": 74,
   "id": "3829c32c",
   "metadata": {},
   "outputs": [
    {
     "name": "stdout",
     "output_type": "stream",
     "text": [
      "5\n"
     ]
    }
   ],
   "source": [
    "x=5\n",
    "print(x)\n"
   ]
  },
  {
   "cell_type": "code",
   "execution_count": 75,
   "id": "7d4d9da7",
   "metadata": {},
   "outputs": [
    {
     "name": "stdout",
     "output_type": "stream",
     "text": [
      "15\n"
     ]
    }
   ],
   "source": [
    "x=5\n",
    "x=x+10\n",
    "print(x)"
   ]
  },
  {
   "cell_type": "code",
   "execution_count": 76,
   "id": "05c427ad",
   "metadata": {},
   "outputs": [
    {
     "data": {
      "text/plain": [
       "15"
      ]
     },
     "execution_count": 76,
     "metadata": {},
     "output_type": "execute_result"
    }
   ],
   "source": [
    "x=5\n",
    "x=x+10\n",
    "x"
   ]
  },
  {
   "cell_type": "code",
   "execution_count": 77,
   "id": "29b3556b",
   "metadata": {},
   "outputs": [
    {
     "data": {
      "text/plain": [
       "15"
      ]
     },
     "execution_count": 77,
     "metadata": {},
     "output_type": "execute_result"
    }
   ],
   "source": [
    "x=5\n",
    "x+=10\n",
    "x"
   ]
  },
  {
   "cell_type": "code",
   "execution_count": 78,
   "id": "2d23fffc",
   "metadata": {},
   "outputs": [
    {
     "data": {
      "text/plain": [
       "0"
      ]
     },
     "execution_count": 78,
     "metadata": {},
     "output_type": "execute_result"
    }
   ],
   "source": [
    "x=10\n",
    "x=x-10\n",
    "x"
   ]
  },
  {
   "cell_type": "code",
   "execution_count": 79,
   "id": "c050d87c",
   "metadata": {},
   "outputs": [
    {
     "data": {
      "text/plain": [
       "0"
      ]
     },
     "execution_count": 79,
     "metadata": {},
     "output_type": "execute_result"
    }
   ],
   "source": [
    "x=10\n",
    "x-=10\n",
    "x"
   ]
  },
  {
   "cell_type": "code",
   "execution_count": 80,
   "id": "31273d1f",
   "metadata": {},
   "outputs": [
    {
     "data": {
      "text/plain": [
       "40"
      ]
     },
     "execution_count": 80,
     "metadata": {},
     "output_type": "execute_result"
    }
   ],
   "source": [
    "x=20\n",
    "x=x*2\n",
    "x"
   ]
  },
  {
   "cell_type": "code",
   "execution_count": 81,
   "id": "6ec06ec2",
   "metadata": {},
   "outputs": [
    {
     "data": {
      "text/plain": [
       "40"
      ]
     },
     "execution_count": 81,
     "metadata": {},
     "output_type": "execute_result"
    }
   ],
   "source": [
    "x=20\n",
    "x*=2\n",
    "x"
   ]
  },
  {
   "cell_type": "code",
   "execution_count": 82,
   "id": "59b40181",
   "metadata": {},
   "outputs": [
    {
     "data": {
      "text/plain": [
       "2.0"
      ]
     },
     "execution_count": 82,
     "metadata": {},
     "output_type": "execute_result"
    }
   ],
   "source": [
    "x=10\n",
    "x=x/5\n",
    "x"
   ]
  },
  {
   "cell_type": "code",
   "execution_count": 83,
   "id": "232c4016",
   "metadata": {},
   "outputs": [
    {
     "data": {
      "text/plain": [
       "2.0"
      ]
     },
     "execution_count": 83,
     "metadata": {},
     "output_type": "execute_result"
    }
   ],
   "source": [
    "x=10\n",
    "x/=5\n",
    "x"
   ]
  },
  {
   "cell_type": "code",
   "execution_count": 84,
   "id": "53242fcd",
   "metadata": {},
   "outputs": [
    {
     "data": {
      "text/plain": [
       "2"
      ]
     },
     "execution_count": 84,
     "metadata": {},
     "output_type": "execute_result"
    }
   ],
   "source": [
    "x=10\n",
    "x=x//5\n",
    "x"
   ]
  },
  {
   "cell_type": "code",
   "execution_count": 85,
   "id": "50e70ce4",
   "metadata": {},
   "outputs": [
    {
     "data": {
      "text/plain": [
       "2"
      ]
     },
     "execution_count": 85,
     "metadata": {},
     "output_type": "execute_result"
    }
   ],
   "source": [
    "x=10\n",
    "x//=5\n",
    "x"
   ]
  },
  {
   "cell_type": "code",
   "execution_count": 86,
   "id": "090e912a",
   "metadata": {},
   "outputs": [
    {
     "data": {
      "text/plain": [
       "0"
      ]
     },
     "execution_count": 86,
     "metadata": {},
     "output_type": "execute_result"
    }
   ],
   "source": [
    "x=10\n",
    "x=x%5\n",
    "x"
   ]
  },
  {
   "cell_type": "code",
   "execution_count": 87,
   "id": "3cdc2872",
   "metadata": {},
   "outputs": [
    {
     "data": {
      "text/plain": [
       "0"
      ]
     },
     "execution_count": 87,
     "metadata": {},
     "output_type": "execute_result"
    }
   ],
   "source": [
    "x=10\n",
    "x%=5\n",
    "x"
   ]
  },
  {
   "cell_type": "code",
   "execution_count": 88,
   "id": "de0c9c80",
   "metadata": {},
   "outputs": [
    {
     "data": {
      "text/plain": [
       "10000000000"
      ]
     },
     "execution_count": 88,
     "metadata": {},
     "output_type": "execute_result"
    }
   ],
   "source": [
    "x=10\n",
    "x=x**10\n",
    "x"
   ]
  },
  {
   "cell_type": "code",
   "execution_count": 89,
   "id": "7214d698",
   "metadata": {},
   "outputs": [
    {
     "data": {
      "text/plain": [
       "10000000000"
      ]
     },
     "execution_count": 89,
     "metadata": {},
     "output_type": "execute_result"
    }
   ],
   "source": [
    "x=10\n",
    "x**=10\n",
    "x"
   ]
  },
  {
   "cell_type": "markdown",
   "id": "8153877e",
   "metadata": {},
   "source": [
    "### 3.COMPARISION OPERATORS:\n",
    "    USED TO COMPARE BETWEEN THE VALUES\n",
    "    OUTPUT WILL BE ALWAYS BOOLEAN(TRUE/FALSE)\n",
    "    ==.!=,>,<,>=,<= are comparision operators"
   ]
  },
  {
   "cell_type": "code",
   "execution_count": 90,
   "id": "ba6ad2cd",
   "metadata": {},
   "outputs": [
    {
     "data": {
      "text/plain": [
       "True"
      ]
     },
     "execution_count": 90,
     "metadata": {},
     "output_type": "execute_result"
    }
   ],
   "source": [
    "5==5\n",
    "\n"
   ]
  },
  {
   "cell_type": "code",
   "execution_count": 91,
   "id": "e02e7207",
   "metadata": {},
   "outputs": [
    {
     "data": {
      "text/plain": [
       "True"
      ]
     },
     "execution_count": 91,
     "metadata": {},
     "output_type": "execute_result"
    }
   ],
   "source": [
    "5>3"
   ]
  },
  {
   "cell_type": "code",
   "execution_count": 92,
   "id": "e236a821",
   "metadata": {},
   "outputs": [
    {
     "data": {
      "text/plain": [
       "False"
      ]
     },
     "execution_count": 92,
     "metadata": {},
     "output_type": "execute_result"
    }
   ],
   "source": [
    "5<3\n"
   ]
  },
  {
   "cell_type": "code",
   "execution_count": 93,
   "id": "b584728c",
   "metadata": {},
   "outputs": [
    {
     "data": {
      "text/plain": [
       "True"
      ]
     },
     "execution_count": 93,
     "metadata": {},
     "output_type": "execute_result"
    }
   ],
   "source": [
    "5>=3"
   ]
  },
  {
   "cell_type": "code",
   "execution_count": 94,
   "id": "b6a7e745",
   "metadata": {},
   "outputs": [
    {
     "data": {
      "text/plain": [
       "False"
      ]
     },
     "execution_count": 94,
     "metadata": {},
     "output_type": "execute_result"
    }
   ],
   "source": [
    "5<=3"
   ]
  },
  {
   "cell_type": "code",
   "execution_count": 95,
   "id": "7a88442c",
   "metadata": {},
   "outputs": [
    {
     "data": {
      "text/plain": [
       "True"
      ]
     },
     "execution_count": 95,
     "metadata": {},
     "output_type": "execute_result"
    }
   ],
   "source": [
    "3==3"
   ]
  },
  {
   "cell_type": "code",
   "execution_count": 96,
   "id": "65407e01",
   "metadata": {},
   "outputs": [
    {
     "data": {
      "text/plain": [
       "True"
      ]
     },
     "execution_count": 96,
     "metadata": {},
     "output_type": "execute_result"
    }
   ],
   "source": [
    "3>=3"
   ]
  },
  {
   "cell_type": "code",
   "execution_count": 97,
   "id": "61a49123",
   "metadata": {},
   "outputs": [
    {
     "data": {
      "text/plain": [
       "True"
      ]
     },
     "execution_count": 97,
     "metadata": {},
     "output_type": "execute_result"
    }
   ],
   "source": [
    "3<=3"
   ]
  },
  {
   "cell_type": "code",
   "execution_count": 98,
   "id": "f0f58935",
   "metadata": {},
   "outputs": [
    {
     "data": {
      "text/plain": [
       "False"
      ]
     },
     "execution_count": 98,
     "metadata": {},
     "output_type": "execute_result"
    }
   ],
   "source": [
    "\"SRK\"==\"srk\""
   ]
  },
  {
   "cell_type": "code",
   "execution_count": 99,
   "id": "549c072c",
   "metadata": {},
   "outputs": [
    {
     "data": {
      "text/plain": [
       "False"
      ]
     },
     "execution_count": 99,
     "metadata": {},
     "output_type": "execute_result"
    }
   ],
   "source": [
    "\"srk\"!=\"srk\""
   ]
  },
  {
   "cell_type": "code",
   "execution_count": 100,
   "id": "a51cf907",
   "metadata": {},
   "outputs": [
    {
     "data": {
      "text/plain": [
       "True"
      ]
     },
     "execution_count": 100,
     "metadata": {},
     "output_type": "execute_result"
    }
   ],
   "source": [
    "\"srk\"!=\"SRK\""
   ]
  },
  {
   "cell_type": "markdown",
   "id": "253dabfa",
   "metadata": {},
   "source": [
    "### 4.LOGICAL OPERATORS OR BOOLEAN OPERATORS:\n",
    "\n",
    "    OUTPUT IS BOOLEAN TO CHECK MULTIPLE CONDITIONS\n",
    "    C1 AND C2                            C1 OR C2\n",
    "    T AND T--->TRUE                       T OR T--->TRUE\n",
    "    T AND F--->FALSE                      T OR F--->TRUE\n",
    "    F AND T--->FALSE                      F OR T--->TRUE\n",
    "    F AND F--->FALSE                      F OR F--->FALSE"
   ]
  },
  {
   "cell_type": "code",
   "execution_count": 101,
   "id": "953c699d",
   "metadata": {},
   "outputs": [
    {
     "data": {
      "text/plain": [
       "True"
      ]
     },
     "execution_count": 101,
     "metadata": {},
     "output_type": "execute_result"
    }
   ],
   "source": [
    "5>3 and 6>3 or 6<3"
   ]
  },
  {
   "cell_type": "code",
   "execution_count": 102,
   "id": "af749a08",
   "metadata": {},
   "outputs": [
    {
     "data": {
      "text/plain": [
       "True"
      ]
     },
     "execution_count": 102,
     "metadata": {},
     "output_type": "execute_result"
    }
   ],
   "source": [
    "5>3 or 5<3"
   ]
  },
  {
   "cell_type": "code",
   "execution_count": 103,
   "id": "13cca9f2",
   "metadata": {},
   "outputs": [
    {
     "data": {
      "text/plain": [
       "True"
      ]
     },
     "execution_count": 103,
     "metadata": {},
     "output_type": "execute_result"
    }
   ],
   "source": [
    "not False"
   ]
  },
  {
   "cell_type": "code",
   "execution_count": 104,
   "id": "60f054c2",
   "metadata": {},
   "outputs": [
    {
     "data": {
      "text/plain": [
       "True"
      ]
     },
     "execution_count": 104,
     "metadata": {},
     "output_type": "execute_result"
    }
   ],
   "source": [
    "False or not False and True"
   ]
  },
  {
   "cell_type": "markdown",
   "id": "08f3ffa5",
   "metadata": {},
   "source": [
    "### 5.IDENTITY OPERATORS:\n",
    "\n",
    "    IN PYTHON,OBJECTS ARE CREATED ON VALUES,NOT BASED ON NAME\n",
    "    IDENTITY OPERATORS ARE USED TO CHECK IF TWO VALUES(OR VARIABLES) ARE INDICATING THE SAME OBJECT OR NOT\n",
    "    IT RETURNS OUTPUT AS BOOLEAN\n",
    "    IS,ISNOT ARE IDENTITY OPERATORS IN PYTHON\n",
    "    IS OPERATOR(IS --> TRUE IF OPERANDS ARE IDENTICAL)\n",
    "    IS NOT OPERATOR(IS NOT-->IS TRUE IF THE OPERANDS ARE NOT IDENTICAL)\n",
    "    "
   ]
  },
  {
   "cell_type": "code",
   "execution_count": 105,
   "id": "3228519b",
   "metadata": {},
   "outputs": [
    {
     "name": "stdout",
     "output_type": "stream",
     "text": [
      "True\n"
     ]
    }
   ],
   "source": [
    "a=5\n",
    "b=5\n",
    "print(a is b)"
   ]
  },
  {
   "cell_type": "code",
   "execution_count": 106,
   "id": "45df4483",
   "metadata": {},
   "outputs": [
    {
     "data": {
      "text/plain": [
       "True"
      ]
     },
     "execution_count": 106,
     "metadata": {},
     "output_type": "execute_result"
    }
   ],
   "source": [
    "a=6\n",
    "b=8\n",
    "a is not b"
   ]
  },
  {
   "cell_type": "code",
   "execution_count": 107,
   "id": "20330003",
   "metadata": {},
   "outputs": [
    {
     "data": {
      "text/plain": [
       "False"
      ]
     },
     "execution_count": 107,
     "metadata": {},
     "output_type": "execute_result"
    }
   ],
   "source": [
    "s1=\"subha\"\n",
    "s2=\"Subha\"\n",
    "s1 is s2"
   ]
  },
  {
   "cell_type": "markdown",
   "id": "5f5197be",
   "metadata": {},
   "source": [
    "### 6.MEMBERSHIP OPERATORS :\n",
    "\n",
    " MEMBERSHIP OPERATORS ARE USED TO TEST WHETHER A VALUE OR VARIABLE IS FOUND IN A SEQUENCE(STRING,LIST,TUPLE,SET,DICTIONARY)\n",
    "    IT RETURNS OUTPUT AS BOOLEAN\n",
    "    IN NOT IN ARE MEMBERSHIP OPERATORS"
   ]
  },
  {
   "cell_type": "code",
   "execution_count": 108,
   "id": "2f5b637e",
   "metadata": {},
   "outputs": [
    {
     "data": {
      "text/plain": [
       "True"
      ]
     },
     "execution_count": 108,
     "metadata": {},
     "output_type": "execute_result"
    }
   ],
   "source": [
    "a='venkatesh'\n",
    "'esh'in a"
   ]
  },
  {
   "cell_type": "code",
   "execution_count": 109,
   "id": "b1218f13",
   "metadata": {},
   "outputs": [
    {
     "data": {
      "text/plain": [
       "False"
      ]
     },
     "execution_count": 109,
     "metadata": {},
     "output_type": "execute_result"
    }
   ],
   "source": [
    "a='venkatesh'\n",
    "'ESH'in a"
   ]
  },
  {
   "cell_type": "code",
   "execution_count": 110,
   "id": "d8e8db4b",
   "metadata": {},
   "outputs": [
    {
     "data": {
      "text/plain": [
       "True"
      ]
     },
     "execution_count": 110,
     "metadata": {},
     "output_type": "execute_result"
    }
   ],
   "source": [
    "a=[1,2,3,4]\n",
    "1 in a"
   ]
  },
  {
   "cell_type": "code",
   "execution_count": 111,
   "id": "ae6bd1cc",
   "metadata": {},
   "outputs": [
    {
     "data": {
      "text/plain": [
       "False"
      ]
     },
     "execution_count": 111,
     "metadata": {},
     "output_type": "execute_result"
    }
   ],
   "source": [
    "a=[1,2,3,4]\n",
    "9 in a"
   ]
  },
  {
   "cell_type": "code",
   "execution_count": 112,
   "id": "7a9fb38e",
   "metadata": {},
   "outputs": [
    {
     "data": {
      "text/plain": [
       "True"
      ]
     },
     "execution_count": 112,
     "metadata": {},
     "output_type": "execute_result"
    }
   ],
   "source": [
    "a=[1,2,3,4]\n",
    "9 not in a"
   ]
  },
  {
   "cell_type": "markdown",
   "id": "84b8f596",
   "metadata": {},
   "source": [
    "# NOTE:\n",
    "     ARITHMETIC OPERATORS AND ASSIGNMENT OPERATORS RETURN THE VALUE,REMAINING ALL OPERATORS RETURN BOOLEAN VALUE"
   ]
  },
  {
   "cell_type": "markdown",
   "id": "523be138",
   "metadata": {},
   "source": [
    "IN A PROGRAM,ALL THE OPERATORS ARE THERE_______\n",
    "\n",
    "THE ORDER WE HAVE TO FOLLOW IS_______ 1.ARITHMETIC OPERATORS\n",
    "\n",
    "                                      2.COMPARISION OPERATORS\n",
    "                                      \n",
    "                                      3.MEMBERSHIP OPERATORS\n",
    "                                      \n",
    "                                      4.IDENTITY OPERATORS\n",
    "                                      \n",
    "                                      5.LOGICAL OPERATORS\n",
    "                                      \n",
    "                                      6.ASSIGNMENT OPERATOR\n",
    "                                      \n",
    "                                      \n",
    "        ONCE ALL THE RIGHTSIDE PART IS DONE AFTER THAT ASSIGNMENT OPERATOR IS DONE (THAT IS LAST)\n",
    "        \n"
   ]
  },
  {
   "cell_type": "markdown",
   "id": "0c1cf3f6",
   "metadata": {},
   "source": [
    "# CONDITIONAL STATEMENTS(CONTROL FLOW STATEMENTS) IN PYTHON\n",
    "     if\n",
    "     if-else\n",
    "     if-elif\n",
    "     if-elif-else\n",
    "     nested if\n",
    "      "
   ]
  },
  {
   "cell_type": "markdown",
   "id": "ff845f76",
   "metadata": {},
   "source": [
    "# if:\n",
    "    THE PROGRAM EVALUATES THE TEST EXPRESSION AND WILL EXECUTE STATEMENTS ONLY IF THE TEXT EXPRESSION IS 'TRUE'\n",
    "    IF THE TEXT EXPRESSION IS 'FALSE',THE STATEMENT IS NOT EXECUTED"
   ]
  },
  {
   "cell_type": "code",
   "execution_count": 113,
   "id": "c1355863",
   "metadata": {},
   "outputs": [
    {
     "name": "stdout",
     "output_type": "stream",
     "text": [
      "ds\n"
     ]
    }
   ],
   "source": [
    "if 1<2:\n",
    "    print(\"ds\")"
   ]
  },
  {
   "cell_type": "code",
   "execution_count": 114,
   "id": "2d6e66bb",
   "metadata": {},
   "outputs": [
    {
     "name": "stdout",
     "output_type": "stream",
     "text": [
      "subhashini\n"
     ]
    }
   ],
   "source": [
    "if 11==11:\n",
    "    print(\"subhashini\")"
   ]
  },
  {
   "cell_type": "code",
   "execution_count": 115,
   "id": "ac9065f9",
   "metadata": {},
   "outputs": [
    {
     "name": "stdout",
     "output_type": "stream",
     "text": [
      "abc\n",
      "123\n",
      "xyz\n"
     ]
    }
   ],
   "source": [
    "if 11==11:\n",
    "    print(\"abc\")               # if the condition is true,all the prints statements are executed\n",
    "    print(\"123\")\n",
    "    print(\"xyz\")"
   ]
  },
  {
   "cell_type": "code",
   "execution_count": 116,
   "id": "5c634776",
   "metadata": {},
   "outputs": [],
   "source": [
    "if 1>2:\n",
    "    print(\"hi\")            #output is noting since the condition is false\n",
    "    print(200)\n",
    "    print(\"abc\")"
   ]
  },
  {
   "cell_type": "code",
   "execution_count": 117,
   "id": "bf9c5302",
   "metadata": {},
   "outputs": [
    {
     "name": "stdout",
     "output_type": "stream",
     "text": [
      "enter your age:100\n",
      "100\n"
     ]
    }
   ],
   "source": [
    "if 1<2:\n",
    "    a=int(input(\"enter your age:\"))\n",
    "    print(a)"
   ]
  },
  {
   "cell_type": "code",
   "execution_count": 118,
   "id": "82c8f0eb",
   "metadata": {},
   "outputs": [
    {
     "name": "stdout",
     "output_type": "stream",
     "text": [
      "subha\n"
     ]
    }
   ],
   "source": [
    "if 1>2:\n",
    "    print(\"hi\")         # if condition is false,so print statement is executed\n",
    "print(\"subha\")"
   ]
  },
  {
   "cell_type": "markdown",
   "id": "e194fdfc",
   "metadata": {},
   "source": [
    "# if-else:\n",
    "    if condition:\n",
    "        -----\n",
    "        -----         if condition is true,execute if block and ignore else block\n",
    "        -----\n",
    "    else:\n",
    "        -----         if condition is false,ignore if block and execute else block\n",
    "        -----\n",
    "        "
   ]
  },
  {
   "cell_type": "code",
   "execution_count": 119,
   "id": "cf1deffa",
   "metadata": {},
   "outputs": [
    {
     "name": "stdout",
     "output_type": "stream",
     "text": [
      "first\n",
      "ds\n"
     ]
    }
   ],
   "source": [
    "if 1<2:\n",
    "    print(\"first\")\n",
    "else:\n",
    "    print(\"last\")\n",
    "print(\"ds\")"
   ]
  },
  {
   "cell_type": "code",
   "execution_count": 120,
   "id": "684b6955",
   "metadata": {},
   "outputs": [
    {
     "name": "stdout",
     "output_type": "stream",
     "text": [
      "abd\n"
     ]
    }
   ],
   "source": [
    "a,b,c,d=2,2,3,4\n",
    "if(a==b or c==d):\n",
    "    print(\"abd\")\n",
    "else:\n",
    "    print(\"def\")"
   ]
  },
  {
   "cell_type": "markdown",
   "id": "53904838",
   "metadata": {},
   "source": [
    "TAKE A NUMBER IN VARIABLE 'X' AND PRINT \"EVEN\"IF THE NUMBER IS DIVISIBLE BY 2,OTHERWISE PRINT \"ODD\""
   ]
  },
  {
   "cell_type": "code",
   "execution_count": 152,
   "id": "8e03800b",
   "metadata": {},
   "outputs": [
    {
     "name": "stdout",
     "output_type": "stream",
     "text": [
      "enter the number45\n",
      "45 is odd numbeber\n"
     ]
    }
   ],
   "source": [
    "x = eval(input(\"enter the number\"))\n",
    "if x%2==0:\n",
    "    print(x,\"is even number\")\n",
    "else:\n",
    "    print(x,\"is odd numbeber\")"
   ]
  },
  {
   "cell_type": "markdown",
   "id": "c20c6ced",
   "metadata": {},
   "source": [
    "# elif"
   ]
  },
  {
   "cell_type": "code",
   "execution_count": 122,
   "id": "ce0d15fe",
   "metadata": {},
   "outputs": [
    {
     "name": "stdout",
     "output_type": "stream",
     "text": [
      "3\n"
     ]
    }
   ],
   "source": [
    "if 2!=2:\n",
    "    a=int(input(\"enter a number\"))\n",
    "    print(a)\n",
    "elif 1>2:\n",
    "        print(\"middle\")\n",
    "elif 1<2:\n",
    "            print(3)\n",
    "else:\n",
    "    print(\"last\")"
   ]
  },
  {
   "cell_type": "markdown",
   "id": "75248db0",
   "metadata": {},
   "source": [
    "# WRITE A PROGRAM TO FIND LARGEST OF GIVEN 2 NUMBERS FROM THE INPUT CONSOLE"
   ]
  },
  {
   "cell_type": "code",
   "execution_count": 123,
   "id": "424c0c75",
   "metadata": {},
   "outputs": [
    {
     "name": "stdout",
     "output_type": "stream",
     "text": [
      "enter the first number45\n",
      "enter the second number90\n",
      "90 is largest\n"
     ]
    }
   ],
   "source": [
    "x=eval(input(\"enter the first number\"))\n",
    "y=eval(input(\"enter the second number\"))\n",
    "if x>y:\n",
    "    print(x,\"is largest\")\n",
    "elif x<y:\n",
    "        print(y,\"is largest\")\n",
    "elif x==y:\n",
    "        print(\"both are same\")"
   ]
  },
  {
   "cell_type": "markdown",
   "id": "6e68dec7",
   "metadata": {},
   "source": [
    "# Take a variable Y and print \"GRADE A\" if Y>90,\"GRADE B\" if Y>70 but lessthan or equal to 70 \"grade F\""
   ]
  },
  {
   "cell_type": "code",
   "execution_count": 124,
   "id": "6e58412f",
   "metadata": {},
   "outputs": [
    {
     "name": "stdout",
     "output_type": "stream",
     "text": [
      "enter the marks:92\n",
      "GRADE A\n"
     ]
    }
   ],
   "source": [
    "y=int(input(\"enter the marks:\"))\n",
    "if y>90:\n",
    "    print(\"GRADE A\")\n",
    "elif y>70:\n",
    "    print(\"GRADE B\")\n",
    "else:\n",
    "    print(\"GRADE F\")"
   ]
  },
  {
   "cell_type": "markdown",
   "id": "ae5f4a92",
   "metadata": {},
   "source": [
    "# NESTED IF\n",
    " WE CAN HAVE A if_elif_else statement inside another if_elif_else statement.THIS IS CALLED NESTING IN COMPUTER PROGRAMMING"
   ]
  },
  {
   "cell_type": "code",
   "execution_count": 125,
   "id": "4a49ae72",
   "metadata": {},
   "outputs": [
    {
     "name": "stdout",
     "output_type": "stream",
     "text": [
      "positive number\n"
     ]
    }
   ],
   "source": [
    "num=155\n",
    "if num>=0:\n",
    "    if num==0:\n",
    "        print(\"zero\")\n",
    "    else:\n",
    "        print(\"positive number\")\n",
    "else:\n",
    "    print(\"negative number\")"
   ]
  },
  {
   "cell_type": "markdown",
   "id": "b5ebb936",
   "metadata": {},
   "source": [
    "# BANK TRANSCATION USING CONDITIONAL STATEMENTS "
   ]
  },
  {
   "cell_type": "code",
   "execution_count": 126,
   "id": "2123475f",
   "metadata": {},
   "outputs": [
    {
     "name": "stdout",
     "output_type": "stream",
     "text": [
      "enter your pin123\n",
      "with draw amount:8900\n",
      "8900 successfully transcation completed\n"
     ]
    }
   ],
   "source": [
    "amount = 20000\n",
    "pin = 123\n",
    "if(int(input(\"enter your pin\"))==pin):\n",
    "    with_draw=int(input(\"with draw amount:\"))\n",
    "    if(with_draw<=amount):\n",
    "        print(with_draw,\"successfully transcation completed\")\n",
    "    else:\n",
    "        print(with_draw,\"no sufficient funds in your account\")\n",
    "else:\n",
    "    print(\"invalid pin number\")\n",
    "    \n"
   ]
  },
  {
   "cell_type": "markdown",
   "id": "d2b7652d",
   "metadata": {},
   "source": [
    "# FUNDAMENTAL DATATYPES\n",
    "     INTEGER      FLOAT     BOOLEAN     STRING\n",
    "       42         42.0       TRUE        \"HELLO\""
   ]
  },
  {
   "cell_type": "markdown",
   "id": "1c862ad7",
   "metadata": {},
   "source": [
    " # 1.INTEGER\n",
    "         NUMERICAL VALUE WITH NO DECIMAL\n",
    "         CAN BE NEITHER NEGATIVE OR POSITIVE OR ZERO"
   ]
  },
  {
   "cell_type": "code",
   "execution_count": 127,
   "id": "d4b70bc9",
   "metadata": {},
   "outputs": [
    {
     "name": "stdout",
     "output_type": "stream",
     "text": [
      "10\n"
     ]
    }
   ],
   "source": [
    "a=10\n",
    "print(a)"
   ]
  },
  {
   "cell_type": "code",
   "execution_count": 128,
   "id": "da4d6b45",
   "metadata": {},
   "outputs": [
    {
     "data": {
      "text/plain": [
       "int"
      ]
     },
     "execution_count": 128,
     "metadata": {},
     "output_type": "execute_result"
    }
   ],
   "source": [
    "type(a)"
   ]
  },
  {
   "cell_type": "markdown",
   "id": "c2d2fc6a",
   "metadata": {},
   "source": [
    "# 2.FLOAT\n",
    "        A NUMERICAL VALUE WITH DECIMAL"
   ]
  },
  {
   "cell_type": "code",
   "execution_count": 129,
   "id": "361005ea",
   "metadata": {},
   "outputs": [
    {
     "name": "stdout",
     "output_type": "stream",
     "text": [
      "3.0\n"
     ]
    }
   ],
   "source": [
    "b=3.0\n",
    "print(b)"
   ]
  },
  {
   "cell_type": "code",
   "execution_count": 130,
   "id": "1bee4d53",
   "metadata": {},
   "outputs": [
    {
     "data": {
      "text/plain": [
       "float"
      ]
     },
     "execution_count": 130,
     "metadata": {},
     "output_type": "execute_result"
    }
   ],
   "source": [
    "type(b)"
   ]
  },
  {
   "cell_type": "markdown",
   "id": "fc795279",
   "metadata": {},
   "source": [
    "# 3. BOOLEAN\n",
    "          BOOL(True/False)"
   ]
  },
  {
   "cell_type": "code",
   "execution_count": 131,
   "id": "a0007f6b",
   "metadata": {},
   "outputs": [
    {
     "data": {
      "text/plain": [
       "bool"
      ]
     },
     "execution_count": 131,
     "metadata": {},
     "output_type": "execute_result"
    }
   ],
   "source": [
    "b1=True\n",
    "type(b1)"
   ]
  },
  {
   "cell_type": "code",
   "execution_count": 132,
   "id": "f4717b80",
   "metadata": {},
   "outputs": [
    {
     "data": {
      "text/plain": [
       "bool"
      ]
     },
     "execution_count": 132,
     "metadata": {},
     "output_type": "execute_result"
    }
   ],
   "source": [
    "type(False)"
   ]
  },
  {
   "cell_type": "markdown",
   "id": "5510d9e7",
   "metadata": {},
   "source": [
    "# 4.STRING\n",
    "       A COMBINATION OF SEQUENCE OF CHARACTERS(LETTERS,NUMBERS,SPECIAL CHARACTERS)\n",
    "       WE CAN USE SINGLE QUOTES OR DOUBLE QUOTES TO REPRESENT STRINGS\n",
    "        IN STRING,EACH ONE IS CALLED AS CHARACTER\n",
    "        EX:\"SRK\",\"S\",\"R\",\"K\" ARE CHARACTERS"
   ]
  },
  {
   "cell_type": "code",
   "execution_count": 133,
   "id": "d9202200",
   "metadata": {},
   "outputs": [
    {
     "name": "stdout",
     "output_type": "stream",
     "text": [
      "siva\n"
     ]
    },
    {
     "data": {
      "text/plain": [
       "str"
      ]
     },
     "execution_count": 133,
     "metadata": {},
     "output_type": "execute_result"
    }
   ],
   "source": [
    "a='siva'\n",
    "print(a)\n",
    "type(a)"
   ]
  },
  {
   "cell_type": "code",
   "execution_count": 134,
   "id": "b17f77f7",
   "metadata": {},
   "outputs": [
    {
     "name": "stdout",
     "output_type": "stream",
     "text": [
      "HELLO\n",
      "hello\n"
     ]
    }
   ],
   "source": [
    "mystring1='HELLO'\n",
    "print(mystring1)\n",
    "mystring2=\"hello\"\n",
    "print(mystring2)"
   ]
  },
  {
   "cell_type": "markdown",
   "id": "5d753bc3",
   "metadata": {},
   "source": [
    "# Multiline Strings can be denoted using triple quotes ''' ''' or \"\"\" \"\"\""
   ]
  },
  {
   "cell_type": "code",
   "execution_count": 135,
   "id": "bb751268",
   "metadata": {},
   "outputs": [
    {
     "name": "stdout",
     "output_type": "stream",
     "text": [
      "data\n",
      "science\n"
     ]
    }
   ],
   "source": [
    "name='''data\n",
    "science'''\n",
    "print(name)"
   ]
  },
  {
   "cell_type": "code",
   "execution_count": 136,
   "id": "10045b7a",
   "metadata": {},
   "outputs": [
    {
     "data": {
      "text/plain": [
       "int"
      ]
     },
     "execution_count": 136,
     "metadata": {},
     "output_type": "execute_result"
    }
   ],
   "source": [
    "var1=123\n",
    "type(var1)"
   ]
  },
  {
   "cell_type": "code",
   "execution_count": 137,
   "id": "da7e9687",
   "metadata": {},
   "outputs": [
    {
     "data": {
      "text/plain": [
       "str"
      ]
     },
     "execution_count": 137,
     "metadata": {},
     "output_type": "execute_result"
    }
   ],
   "source": [
    "var2=\"123\"       #whatever in quotes it treats as a string\n",
    "type(var2)"
   ]
  },
  {
   "cell_type": "markdown",
   "id": "230a539c",
   "metadata": {},
   "source": [
    " # STRING SUBSTITUTIONS\n",
    "         {}.format\n",
    "                to fill the curly braces"
   ]
  },
  {
   "cell_type": "code",
   "execution_count": 138,
   "id": "3dd2e061",
   "metadata": {},
   "outputs": [
    {
     "data": {
      "text/plain": [
       "'raining   and  '"
      ]
     },
     "execution_count": 138,
     "metadata": {},
     "output_type": "execute_result"
    }
   ],
   "source": [
    "'raining {} and {}'.format(' ',' ')"
   ]
  },
  {
   "cell_type": "code",
   "execution_count": 139,
   "id": "57967cd2",
   "metadata": {},
   "outputs": [
    {
     "data": {
      "text/plain": [
       "'raining cats and cats'"
      ]
     },
     "execution_count": 139,
     "metadata": {},
     "output_type": "execute_result"
    }
   ],
   "source": [
    "'raining {} and {}'.format('cats','cats')"
   ]
  },
  {
   "cell_type": "code",
   "execution_count": 140,
   "id": "df34b171",
   "metadata": {},
   "outputs": [
    {
     "ename": "KeyError",
     "evalue": "'b'",
     "output_type": "error",
     "traceback": [
      "\u001b[1;31m---------------------------------------------------------------------------\u001b[0m",
      "\u001b[1;31mKeyError\u001b[0m                                  Traceback (most recent call last)",
      "Cell \u001b[1;32mIn[140], line 1\u001b[0m\n\u001b[1;32m----> 1\u001b[0m \u001b[38;5;124;43m'\u001b[39;49m\u001b[38;5;124;43mraining \u001b[39;49m\u001b[38;5;132;43;01m{a}\u001b[39;49;00m\u001b[38;5;124;43m and \u001b[39;49m\u001b[38;5;132;43;01m{b}\u001b[39;49;00m\u001b[38;5;124;43m'\u001b[39;49m\u001b[38;5;241;43m.\u001b[39;49m\u001b[43mformat\u001b[49m\u001b[43m(\u001b[49m\u001b[43ma\u001b[49m\u001b[38;5;241;43m=\u001b[39;49m\u001b[38;5;124;43m'\u001b[39;49m\u001b[38;5;124;43mcats\u001b[39;49m\u001b[38;5;124;43m'\u001b[39;49m\u001b[43m)\u001b[49m\n",
      "\u001b[1;31mKeyError\u001b[0m: 'b'"
     ]
    }
   ],
   "source": [
    "'raining {a} and {b}'.format(a='cats')"
   ]
  },
  {
   "cell_type": "code",
   "execution_count": 141,
   "id": "468c4584",
   "metadata": {},
   "outputs": [
    {
     "data": {
      "text/plain": [
       "'raining cats and dogs'"
      ]
     },
     "execution_count": 141,
     "metadata": {},
     "output_type": "execute_result"
    }
   ],
   "source": [
    "'raining {a} and {b}'.format(a='cats',b='dogs')"
   ]
  },
  {
   "cell_type": "code",
   "execution_count": 142,
   "id": "f5a866a7",
   "metadata": {},
   "outputs": [
    {
     "name": "stdout",
     "output_type": "stream",
     "text": [
      "the value of a: 10\n"
     ]
    }
   ],
   "source": [
    "a=10\n",
    "print(\"the value of a:\",a)"
   ]
  },
  {
   "cell_type": "code",
   "execution_count": 143,
   "id": "f80476a8",
   "metadata": {},
   "outputs": [
    {
     "name": "stdout",
     "output_type": "stream",
     "text": [
      "mynumber is: 12 my name is: subha\n"
     ]
    }
   ],
   "source": [
    "num=12\n",
    "name='subha'\n",
    "print(\"mynumber is:\",num,\"my name is:\",name)"
   ]
  },
  {
   "cell_type": "markdown",
   "id": "6d4fff5d",
   "metadata": {},
   "source": [
    "above code can be write using .format "
   ]
  },
  {
   "cell_type": "code",
   "execution_count": 144,
   "id": "a6eb6c53",
   "metadata": {},
   "outputs": [
    {
     "name": "stdout",
     "output_type": "stream",
     "text": [
      "my number is:12 and my name is:subha\n"
     ]
    }
   ],
   "source": [
    "num=12\n",
    "name='subha'\n",
    "print(\"my number is:{} and my name is:{}\".format(num,name))"
   ]
  },
  {
   "cell_type": "markdown",
   "id": "a5449837",
   "metadata": {},
   "source": [
    "Another format of .format is f"
   ]
  },
  {
   "cell_type": "code",
   "execution_count": 145,
   "id": "e792ef7a",
   "metadata": {},
   "outputs": [
    {
     "name": "stdout",
     "output_type": "stream",
     "text": [
      "my number is:12 and my name is:subha\n"
     ]
    }
   ],
   "source": [
    "print(f\"my number is:{num} and my name is:{name}\")"
   ]
  },
  {
   "cell_type": "markdown",
   "id": "5644195c",
   "metadata": {},
   "source": [
    "# USING NAMING ARGUMENTS"
   ]
  },
  {
   "cell_type": "code",
   "execution_count": 146,
   "id": "6d787079",
   "metadata": {},
   "outputs": [
    {
     "data": {
      "text/plain": [
       "'raining cats and dogs'"
      ]
     },
     "execution_count": 146,
     "metadata": {},
     "output_type": "execute_result"
    }
   ],
   "source": [
    "'raining {arg1} and {arg2}'.format(arg1='cats',arg2='dogs')"
   ]
  },
  {
   "cell_type": "markdown",
   "id": "c3d3acc4",
   "metadata": {},
   "source": [
    "# using 2 decimal places"
   ]
  },
  {
   "cell_type": "code",
   "execution_count": 147,
   "id": "d1b0c2c1",
   "metadata": {},
   "outputs": [
    {
     "data": {
      "text/plain": [
       "'pi is 3.14'"
      ]
     },
     "execution_count": 147,
     "metadata": {},
     "output_type": "execute_result"
    }
   ],
   "source": [
    "'pi is {:.2f}'.format(3.14159)"
   ]
  },
  {
   "cell_type": "markdown",
   "id": "c6f73e6a",
   "metadata": {},
   "source": [
    "# f-string"
   ]
  },
  {
   "cell_type": "code",
   "execution_count": 148,
   "id": "c6de2589",
   "metadata": {},
   "outputs": [
    {
     "name": "stdout",
     "output_type": "stream",
     "text": [
      "hello,my name is {name}\n"
     ]
    }
   ],
   "source": [
    "name=\"subha\"\n",
    "print(\"hello,my name is {name}\")"
   ]
  },
  {
   "cell_type": "markdown",
   "id": "b40e9619",
   "metadata": {},
   "source": [
    "# if want to get the 'name',we have to add 'f'"
   ]
  },
  {
   "cell_type": "code",
   "execution_count": 149,
   "id": "c3a174c2",
   "metadata": {},
   "outputs": [
    {
     "name": "stdout",
     "output_type": "stream",
     "text": [
      "hello, my name is subha\n"
     ]
    }
   ],
   "source": [
    "name=\"subha\"\n",
    "print(f\"hello, my name is {name}\")"
   ]
  },
  {
   "cell_type": "code",
   "execution_count": 150,
   "id": "7f643588",
   "metadata": {},
   "outputs": [
    {
     "name": "stdout",
     "output_type": "stream",
     "text": [
      "my name is subha and id is 1234\n"
     ]
    }
   ],
   "source": [
    "name=\"subha\"\n",
    "id=1234\n",
    "print(f\"my name is {name} and id is {id}\")"
   ]
  },
  {
   "cell_type": "code",
   "execution_count": 151,
   "id": "0f3d2dfc",
   "metadata": {},
   "outputs": [
    {
     "data": {
      "text/plain": [
       "'the value is33.14'"
      ]
     },
     "execution_count": 151,
     "metadata": {},
     "output_type": "execute_result"
    }
   ],
   "source": [
    "value=33.139\n",
    "f\"the value is{value:.2f}\""
   ]
  },
  {
   "cell_type": "markdown",
   "id": "03a5c542",
   "metadata": {},
   "source": [
    "### FUNCTIONS\n",
    "        print()---------->used to print\n",
    "         id()------------>used to give object reference or address\n",
    "        input()---------->collect the information from the user\n",
    "        type()----------->used to type the value or variable\n",
    "\n",
    "###  METHODS\n",
    "        .format --------->to fill the curly braces with values\n",
    "    "
   ]
  },
  {
   "cell_type": "markdown",
   "id": "259566e0",
   "metadata": {},
   "source": [
    "LENGTH OF STRING:\n",
    "\n",
    "       length is also one of the function which gives number of characters in string"
   ]
  },
  {
   "cell_type": "code",
   "execution_count": 154,
   "id": "d19100fc",
   "metadata": {},
   "outputs": [
    {
     "data": {
      "text/plain": [
       "5"
      ]
     },
     "execution_count": 154,
     "metadata": {},
     "output_type": "execute_result"
    }
   ],
   "source": [
    "string=\"hello\"\n",
    "len(string)"
   ]
  },
  {
   "cell_type": "code",
   "execution_count": 155,
   "id": "e684ba1e",
   "metadata": {},
   "outputs": [
    {
     "data": {
      "text/plain": [
       "7"
      ]
     },
     "execution_count": 155,
     "metadata": {},
     "output_type": "execute_result"
    }
   ],
   "source": [
    "string=\"hello{}\"\n",
    "len(string)"
   ]
  },
  {
   "cell_type": "code",
   "execution_count": 156,
   "id": "4c904498",
   "metadata": {},
   "outputs": [
    {
     "data": {
      "text/plain": [
       "8"
      ]
     },
     "execution_count": 156,
     "metadata": {},
     "output_type": "execute_result"
    }
   ],
   "source": [
    "string=\"hello {}\"\n",
    "len(string)"
   ]
  },
  {
   "cell_type": "code",
   "execution_count": 157,
   "id": "dc9739bc",
   "metadata": {},
   "outputs": [
    {
     "ename": "TypeError",
     "evalue": "object of type 'int' has no len()",
     "output_type": "error",
     "traceback": [
      "\u001b[1;31m---------------------------------------------------------------------------\u001b[0m",
      "\u001b[1;31mTypeError\u001b[0m                                 Traceback (most recent call last)",
      "Cell \u001b[1;32mIn[157], line 2\u001b[0m\n\u001b[0;32m      1\u001b[0m a\u001b[38;5;241m=\u001b[39m\u001b[38;5;241m123\u001b[39m\n\u001b[1;32m----> 2\u001b[0m \u001b[38;5;28;43mlen\u001b[39;49m\u001b[43m(\u001b[49m\u001b[43ma\u001b[49m\u001b[43m)\u001b[49m\n",
      "\u001b[1;31mTypeError\u001b[0m: object of type 'int' has no len()"
     ]
    }
   ],
   "source": [
    "a=123\n",
    "len(a)         #len() is not applicable for int,float bool and applicable for string"
   ]
  },
  {
   "cell_type": "code",
   "execution_count": 158,
   "id": "959d7482",
   "metadata": {},
   "outputs": [
    {
     "data": {
      "text/plain": [
       "3"
      ]
     },
     "execution_count": 158,
     "metadata": {},
     "output_type": "execute_result"
    }
   ],
   "source": [
    "a=123\n",
    "b=str(a)\n",
    "len(str(a))"
   ]
  },
  {
   "cell_type": "code",
   "execution_count": 159,
   "id": "ca4cde57",
   "metadata": {},
   "outputs": [
    {
     "data": {
      "text/plain": [
       "3"
      ]
     },
     "execution_count": 159,
     "metadata": {},
     "output_type": "execute_result"
    }
   ],
   "source": [
    "a=123\n",
    "len(str(a))"
   ]
  },
  {
   "cell_type": "markdown",
   "id": "4bd9acd0",
   "metadata": {},
   "source": [
    "# STRING CONCATENATION\n",
    "          JOINING OF TWO OR MORE STRINGS INTO A SINGLE ONE IS CALLED CONCATENATION\n",
    "          THE + OPERATOR DOES THIS IN PYTHON.SIMPLY WRITING TWO STRING LITERALS TOGETHER ALSO CONCATENATES THEM\n",
    "    NOTE:  TO USE + OPERATOR FOR STRINGS,COMPULSORY BOTH SHOULD BE STRING TYPE ONLY"
   ]
  },
  {
   "cell_type": "code",
   "execution_count": 160,
   "id": "c754cbc5",
   "metadata": {},
   "outputs": [
    {
     "data": {
      "text/plain": [
       "'HELLOWORLD'"
      ]
     },
     "execution_count": 160,
     "metadata": {},
     "output_type": "execute_result"
    }
   ],
   "source": [
    "\"HELLO\"+\"WORLD\""
   ]
  },
  {
   "cell_type": "code",
   "execution_count": 161,
   "id": "f34f5dfc",
   "metadata": {},
   "outputs": [
    {
     "data": {
      "text/plain": [
       "'HELLO WORLD'"
      ]
     },
     "execution_count": 161,
     "metadata": {},
     "output_type": "execute_result"
    }
   ],
   "source": [
    "'HELLO'+\" \"+\"WORLD\""
   ]
  },
  {
   "cell_type": "code",
   "execution_count": 162,
   "id": "9037f7cc",
   "metadata": {},
   "outputs": [
    {
     "data": {
      "text/plain": [
       "'AIAIAIAIAI'"
      ]
     },
     "execution_count": 162,
     "metadata": {},
     "output_type": "execute_result"
    }
   ],
   "source": [
    "\"AI\"*5"
   ]
  },
  {
   "cell_type": "code",
   "execution_count": 163,
   "id": "260394c4",
   "metadata": {},
   "outputs": [
    {
     "ename": "TypeError",
     "evalue": "can only concatenate str (not \"int\") to str",
     "output_type": "error",
     "traceback": [
      "\u001b[1;31m---------------------------------------------------------------------------\u001b[0m",
      "\u001b[1;31mTypeError\u001b[0m                                 Traceback (most recent call last)",
      "Cell \u001b[1;32mIn[163], line 1\u001b[0m\n\u001b[1;32m----> 1\u001b[0m \u001b[38;5;124;43m\"\u001b[39;49m\u001b[38;5;124;43mSIVA\u001b[39;49m\u001b[38;5;124;43m\"\u001b[39;49m\u001b[38;5;241;43m+\u001b[39;49m\u001b[38;5;241;43m2\u001b[39;49m\n",
      "\u001b[1;31mTypeError\u001b[0m: can only concatenate str (not \"int\") to str"
     ]
    }
   ],
   "source": [
    "\"SIVA\"+2"
   ]
  },
  {
   "cell_type": "code",
   "execution_count": 164,
   "id": "ace3c6e5",
   "metadata": {},
   "outputs": [
    {
     "data": {
      "text/plain": [
       "'SIVA2'"
      ]
     },
     "execution_count": 164,
     "metadata": {},
     "output_type": "execute_result"
    }
   ],
   "source": [
    "# IN THE ABOVE ONE 2 HAS TO BE CONVERTES INTO STRING.IT IS DONE IN BY TWO WAYS\n",
    "\"SIVA\"+\"2\""
   ]
  },
  {
   "cell_type": "code",
   "execution_count": 165,
   "id": "035125ba",
   "metadata": {},
   "outputs": [
    {
     "data": {
      "text/plain": [
       "'siva2'"
      ]
     },
     "execution_count": 165,
     "metadata": {},
     "output_type": "execute_result"
    }
   ],
   "source": [
    "'siva'+str(2)"
   ]
  },
  {
   "cell_type": "markdown",
   "id": "92140087",
   "metadata": {},
   "source": [
    "# difference between function and method\n",
    "         # function                                                 # method\n",
    "     ---it is applicable irrespective of                            ---- it is fixed for a particular\n",
    "        datatype     print()                                               particular datatype\n",
    "                     id()                                            ----it can't be applicable for other datatype\n",
    "                     input()                                              ex:  a='SUBHA'\n",
    "                     type()                                                     A=UPPER()\n",
    "                                                                                'SUBHA'"
   ]
  },
  {
   "cell_type": "markdown",
   "id": "d8a21da5",
   "metadata": {},
   "source": [
    "# STR.UPPER()\n",
    "        RETURNS A COPY OF STRING WITH ALL CHARACTERS IN UPPERCASE"
   ]
  },
  {
   "cell_type": "code",
   "execution_count": 166,
   "id": "d0969988",
   "metadata": {},
   "outputs": [
    {
     "data": {
      "text/plain": [
       "'HELLO WORLD'"
      ]
     },
     "execution_count": 166,
     "metadata": {},
     "output_type": "execute_result"
    }
   ],
   "source": [
    "s=\"hello world\"\n",
    "s.upper()"
   ]
  },
  {
   "cell_type": "markdown",
   "id": "57faf248",
   "metadata": {},
   "source": [
    "# STR.LOWER()\n",
    "      RETURNS A COPY OF STRING WITH ALL CHARACTERS IN LOWERCASE"
   ]
  },
  {
   "cell_type": "code",
   "execution_count": 167,
   "id": "1e140c1a",
   "metadata": {},
   "outputs": [
    {
     "data": {
      "text/plain": [
       "'helloworld'"
      ]
     },
     "execution_count": 167,
     "metadata": {},
     "output_type": "execute_result"
    }
   ],
   "source": [
    "s=\"HELLOWORLD\"\n",
    "s.lower()"
   ]
  },
  {
   "cell_type": "markdown",
   "id": "0b46337e",
   "metadata": {},
   "source": [
    "# str.swapcase()\n",
    "      return a copy of string with all uppercase characters converted to lowercase and viceversa"
   ]
  },
  {
   "cell_type": "code",
   "execution_count": 168,
   "id": "017a4573",
   "metadata": {},
   "outputs": [
    {
     "data": {
      "text/plain": [
       "'HELLOWORLD'"
      ]
     },
     "execution_count": 168,
     "metadata": {},
     "output_type": "execute_result"
    }
   ],
   "source": [
    "s=\"helloworld\"\n",
    "s.swapcase()"
   ]
  },
  {
   "cell_type": "code",
   "execution_count": 169,
   "id": "ca08830a",
   "metadata": {},
   "outputs": [
    {
     "data": {
      "text/plain": [
       "'helloworld'"
      ]
     },
     "execution_count": 169,
     "metadata": {},
     "output_type": "execute_result"
    }
   ],
   "source": [
    "s=\"HELLOWORLD\"\n",
    "s.swapcase()"
   ]
  },
  {
   "cell_type": "markdown",
   "id": "5b1c2baa",
   "metadata": {},
   "source": [
    "# str.capitalize()\n",
    "      return a copy of string with first letter capatilized and remaining all to lowercase"
   ]
  },
  {
   "cell_type": "code",
   "execution_count": 170,
   "id": "23eca188",
   "metadata": {},
   "outputs": [
    {
     "data": {
      "text/plain": [
       "'Helloworld'"
      ]
     },
     "execution_count": 170,
     "metadata": {},
     "output_type": "execute_result"
    }
   ],
   "source": [
    "s = 'helloworld'\n",
    "s.capitalize()"
   ]
  },
  {
   "cell_type": "markdown",
   "id": "ac3f6aef",
   "metadata": {},
   "source": [
    "# str.title()\n",
    "      returns a copy of string with each word capatilized"
   ]
  },
  {
   "cell_type": "code",
   "execution_count": 171,
   "id": "3ae2bbc0",
   "metadata": {},
   "outputs": [
    {
     "data": {
      "text/plain": [
       "'Good Morning'"
      ]
     },
     "execution_count": 171,
     "metadata": {},
     "output_type": "execute_result"
    }
   ],
   "source": [
    "s='gooD mornINg'\n",
    "s.title()"
   ]
  },
  {
   "cell_type": "markdown",
   "id": "29a400cb",
   "metadata": {},
   "source": [
    "# str.strip()\n",
    "      returns a copy of the string with leading(starting) and trailing(ending) whitespace removed"
   ]
  },
  {
   "cell_type": "code",
   "execution_count": 172,
   "id": "d43d33aa",
   "metadata": {},
   "outputs": [
    {
     "name": "stdout",
     "output_type": "stream",
     "text": [
      "python\n"
     ]
    }
   ],
   "source": [
    "s=\"python\"\n",
    "print(s.strip())"
   ]
  },
  {
   "cell_type": "code",
   "execution_count": 173,
   "id": "61349824",
   "metadata": {},
   "outputs": [
    {
     "name": "stdout",
     "output_type": "stream",
     "text": [
      "python\n"
     ]
    },
    {
     "data": {
      "text/plain": [
       "6"
      ]
     },
     "execution_count": 173,
     "metadata": {},
     "output_type": "execute_result"
    }
   ],
   "source": [
    "s= \"python\"\n",
    "print(s.strip())\n",
    "len(s.strip())"
   ]
  },
  {
   "cell_type": "markdown",
   "id": "87e75bdc",
   "metadata": {},
   "source": [
    "# str.lstrip()\n",
    "     returns a copy of the string with leading white space removed\n",
    "     "
   ]
  },
  {
   "cell_type": "code",
   "execution_count": 174,
   "id": "b0b712b2",
   "metadata": {},
   "outputs": [
    {
     "name": "stdout",
     "output_type": "stream",
     "text": [
      "python\n"
     ]
    },
    {
     "data": {
      "text/plain": [
       "6"
      ]
     },
     "execution_count": 174,
     "metadata": {},
     "output_type": "execute_result"
    }
   ],
   "source": [
    "s=\"python\"\n",
    "print(s.lstrip())\n",
    "len(s.lstrip())"
   ]
  },
  {
   "cell_type": "code",
   "execution_count": 175,
   "id": "3d4d061f",
   "metadata": {},
   "outputs": [
    {
     "name": "stdout",
     "output_type": "stream",
     "text": [
      "python  \n"
     ]
    },
    {
     "data": {
      "text/plain": [
       "8"
      ]
     },
     "execution_count": 175,
     "metadata": {},
     "output_type": "execute_result"
    }
   ],
   "source": [
    "s=  \"python  \"\n",
    "print(s.lstrip())\n",
    "len(s.lstrip())"
   ]
  },
  {
   "cell_type": "markdown",
   "id": "c3c18a58",
   "metadata": {},
   "source": [
    "# str.rstrip()\n",
    "       returns a copy of the string with trailing whitespaces removed"
   ]
  },
  {
   "cell_type": "code",
   "execution_count": 176,
   "id": "e0915fc7",
   "metadata": {},
   "outputs": [
    {
     "name": "stdout",
     "output_type": "stream",
     "text": [
      "    python\n"
     ]
    },
    {
     "data": {
      "text/plain": [
       "10"
      ]
     },
     "execution_count": 176,
     "metadata": {},
     "output_type": "execute_result"
    }
   ],
   "source": [
    "s=\"    python     \"\n",
    "print(s.rstrip())\n",
    "len(s.rstrip())"
   ]
  },
  {
   "cell_type": "markdown",
   "id": "3610b68d",
   "metadata": {},
   "source": [
    "# str.replace()\n",
    "       returns a copy of the string with all the occurences of a specialized substring replced with another substring"
   ]
  },
  {
   "cell_type": "code",
   "execution_count": 177,
   "id": "6a5d8a0f",
   "metadata": {},
   "outputs": [
    {
     "name": "stdout",
     "output_type": "stream",
     "text": [
      "good morning\n",
      "bad morning\n"
     ]
    }
   ],
   "source": [
    "s=\"good morning\"\n",
    "print(s)\n",
    "s=s.replace(\"good\",\"bad\")\n",
    "print(s)"
   ]
  },
  {
   "cell_type": "markdown",
   "id": "404a57cf",
   "metadata": {},
   "source": [
    "# str.split()\n",
    "        splits the string into list of substrings based on the specified delimiter\n",
    "        if no delimiter is specified,then whitespace is selected as default delimiter"
   ]
  },
  {
   "cell_type": "code",
   "execution_count": 178,
   "id": "60ae20b7",
   "metadata": {},
   "outputs": [
    {
     "data": {
      "text/plain": [
       "['my', 'name,', 'is,', 'SUBHASHINI']"
      ]
     },
     "execution_count": 178,
     "metadata": {},
     "output_type": "execute_result"
    }
   ],
   "source": [
    "st='my name, is, SUBHASHINI'\n",
    "st.split()"
   ]
  },
  {
   "cell_type": "markdown",
   "id": "58b17b78",
   "metadata": {},
   "source": [
    "# str.join()\n",
    "      join a list of strings into a single string,using a specified delimiter\n",
    "  syntax is 'delimiter'.join()"
   ]
  },
  {
   "cell_type": "code",
   "execution_count": 179,
   "id": "9a33994c",
   "metadata": {},
   "outputs": [
    {
     "data": {
      "text/plain": [
       "'my    name    is    SUBHA'"
      ]
     },
     "execution_count": 179,
     "metadata": {},
     "output_type": "execute_result"
    }
   ],
   "source": [
    "s=['my','name','is','SUBHA']\n",
    "'    '.join(s)"
   ]
  },
  {
   "cell_type": "code",
   "execution_count": 180,
   "id": "9f4d0bef",
   "metadata": {},
   "outputs": [
    {
     "data": {
      "text/plain": [
       "'siva::@::ds'"
      ]
     },
     "execution_count": 180,
     "metadata": {},
     "output_type": "execute_result"
    }
   ],
   "source": [
    "\"::@::\".join([\"siva\",\"ds\"])"
   ]
  },
  {
   "cell_type": "markdown",
   "id": "10815ad5",
   "metadata": {},
   "source": [
    "### WHETHER STRINGS ARE MUTABLE OR IMMUTABLE?\n",
    "   MUTABLE\n",
    "    \n",
    "####  DIFFERENCE BETWEEN MUTABLE AND IMMUTABLE?\n",
    "\n",
    "  MUTABLE MEANS MODIFICATIONS CAN BE DONE WITH IN SAME OBJECT AND \n",
    "  \n",
    "    IMMUTABLE MEANS WHERE MODIFICATIONS CANT BE DONE IN SAME OBJECT"
   ]
  },
  {
   "cell_type": "code",
   "execution_count": 181,
   "id": "3b42f256",
   "metadata": {},
   "outputs": [
    {
     "name": "stdout",
     "output_type": "stream",
     "text": [
      "GOOD MORNING\n"
     ]
    },
    {
     "ename": "TypeError",
     "evalue": "'int' object is not callable",
     "output_type": "error",
     "traceback": [
      "\u001b[1;31m---------------------------------------------------------------------------\u001b[0m",
      "\u001b[1;31mTypeError\u001b[0m                                 Traceback (most recent call last)",
      "Cell \u001b[1;32mIn[181], line 3\u001b[0m\n\u001b[0;32m      1\u001b[0m s\u001b[38;5;241m=\u001b[39m\u001b[38;5;124m\"\u001b[39m\u001b[38;5;124mGOOD MORNING\u001b[39m\u001b[38;5;124m\"\u001b[39m\n\u001b[0;32m      2\u001b[0m \u001b[38;5;28mprint\u001b[39m(s)\n\u001b[1;32m----> 3\u001b[0m \u001b[38;5;28mprint\u001b[39m(\u001b[38;5;28;43mid\u001b[39;49m\u001b[43m(\u001b[49m\u001b[43ms\u001b[49m\u001b[43m)\u001b[49m)\n\u001b[0;32m      4\u001b[0m s\u001b[38;5;241m=\u001b[39ms\u001b[38;5;241m.\u001b[39mreplace(\u001b[38;5;124m\"\u001b[39m\u001b[38;5;124mGOOD\u001b[39m\u001b[38;5;124m\"\u001b[39m,\u001b[38;5;124m\"\u001b[39m\u001b[38;5;124mBAD\u001b[39m\u001b[38;5;124m\"\u001b[39m)\n\u001b[0;32m      5\u001b[0m \u001b[38;5;28mprint\u001b[39m(s)\n",
      "\u001b[1;31mTypeError\u001b[0m: 'int' object is not callable"
     ]
    }
   ],
   "source": [
    "s=\"GOOD MORNING\"\n",
    "print(s)\n",
    "print(id(s))\n",
    "s=s.replace(\"GOOD\",\"BAD\")\n",
    "print(s)\n",
    "print (id(s))"
   ]
  },
  {
   "cell_type": "markdown",
   "id": "ff085fc3",
   "metadata": {},
   "source": [
    "# str.index()\n",
    "      INDEX ERROR means that particular index is not available\n",
    "      INDEXING means extracting single data\n",
    "      SLICING means extracting multiple datapoints\n",
    "      SLICING SYNTAX IS    var_name[start indexno:end indexno:step]"
   ]
  },
  {
   "cell_type": "code",
   "execution_count": 182,
   "id": "956b5fbb",
   "metadata": {},
   "outputs": [
    {
     "data": {
      "text/plain": [
       "'hel'"
      ]
     },
     "execution_count": 182,
     "metadata": {},
     "output_type": "execute_result"
    }
   ],
   "source": [
    "mystring=\"hello\"\n",
    "mystring[0:3:1]"
   ]
  },
  {
   "cell_type": "code",
   "execution_count": 183,
   "id": "2d77a147",
   "metadata": {},
   "outputs": [
    {
     "data": {
      "text/plain": [
       "'el'"
      ]
     },
     "execution_count": 183,
     "metadata": {},
     "output_type": "execute_result"
    }
   ],
   "source": [
    "mystring=\"hello\"\n",
    "mystring[1:5:2]"
   ]
  },
  {
   "cell_type": "code",
   "execution_count": 184,
   "id": "0b67a762",
   "metadata": {},
   "outputs": [
    {
     "data": {
      "text/plain": [
       "'ello'"
      ]
     },
     "execution_count": 184,
     "metadata": {},
     "output_type": "execute_result"
    }
   ],
   "source": [
    "mystring=\"hello\"\n",
    "mystring[1:5:1]"
   ]
  },
  {
   "cell_type": "code",
   "execution_count": 185,
   "id": "2b28d536",
   "metadata": {},
   "outputs": [
    {
     "data": {
      "text/plain": [
       "''"
      ]
     },
     "execution_count": 185,
     "metadata": {},
     "output_type": "execute_result"
    }
   ],
   "source": [
    "mystring='hello'       # IT GIVES EMPTY STRING,SLICING NEVER GIVES ERROR\n",
    "mystring[1:5:-1]"
   ]
  },
  {
   "cell_type": "code",
   "execution_count": 186,
   "id": "5c9c11bf",
   "metadata": {},
   "outputs": [
    {
     "data": {
      "text/plain": [
       "''"
      ]
     },
     "execution_count": 186,
     "metadata": {},
     "output_type": "execute_result"
    }
   ],
   "source": [
    "mystring='hello'\n",
    "mystring[3:5:-1]"
   ]
  },
  {
   "cell_type": "code",
   "execution_count": 187,
   "id": "14ebef1b",
   "metadata": {},
   "outputs": [
    {
     "data": {
      "text/plain": [
       "'ol'"
      ]
     },
     "execution_count": 187,
     "metadata": {},
     "output_type": "execute_result"
    }
   ],
   "source": [
    "mystring='hello'\n",
    "mystring[4:2:-1]"
   ]
  },
  {
   "cell_type": "code",
   "execution_count": 188,
   "id": "0d56d9e4",
   "metadata": {},
   "outputs": [
    {
     "data": {
      "text/plain": [
       "'oll'"
      ]
     },
     "execution_count": 188,
     "metadata": {},
     "output_type": "execute_result"
    }
   ],
   "source": [
    "mystring='hello'\n",
    "mystring[4:-4:-1]"
   ]
  },
  {
   "cell_type": "code",
   "execution_count": 189,
   "id": "297e6603",
   "metadata": {},
   "outputs": [
    {
     "data": {
      "text/plain": [
       "''"
      ]
     },
     "execution_count": 189,
     "metadata": {},
     "output_type": "execute_result"
    }
   ],
   "source": [
    "mystring='hello'               # here 10 is out of range\n",
    "mystring[10:4:-1]"
   ]
  },
  {
   "cell_type": "code",
   "execution_count": 190,
   "id": "61d516be",
   "metadata": {},
   "outputs": [
    {
     "data": {
      "text/plain": [
       "'hell'"
      ]
     },
     "execution_count": 190,
     "metadata": {},
     "output_type": "execute_result"
    }
   ],
   "source": [
    "mystring='hello'            # if we dont write secon colon it automatically takes step as +1\n",
    "mystring[0:4]"
   ]
  },
  {
   "cell_type": "code",
   "execution_count": 191,
   "id": "94f6e29a",
   "metadata": {},
   "outputs": [
    {
     "data": {
      "text/plain": [
       "''"
      ]
     },
     "execution_count": 191,
     "metadata": {},
     "output_type": "execute_result"
    }
   ],
   "source": [
    "mystring='hello'     \n",
    "mystring[4:+1]"
   ]
  },
  {
   "cell_type": "code",
   "execution_count": 192,
   "id": "7f5d8a51",
   "metadata": {},
   "outputs": [
    {
     "data": {
      "text/plain": [
       "'hell'"
      ]
     },
     "execution_count": 192,
     "metadata": {},
     "output_type": "execute_result"
    }
   ],
   "source": [
    "mystring='hello'         #if we dont write starting position it automatically takes zero position\n",
    "mystring[  :4]"
   ]
  },
  {
   "cell_type": "code",
   "execution_count": 193,
   "id": "3fc3e782",
   "metadata": {},
   "outputs": [
    {
     "data": {
      "text/plain": [
       "'ello'"
      ]
     },
     "execution_count": 193,
     "metadata": {},
     "output_type": "execute_result"
    }
   ],
   "source": [
    "mystring='hello'       # if we dont end position it will take everything\n",
    "mystring[1:]"
   ]
  },
  {
   "cell_type": "code",
   "execution_count": 194,
   "id": "66391312",
   "metadata": {},
   "outputs": [
    {
     "data": {
      "text/plain": [
       "'hlo'"
      ]
     },
     "execution_count": 194,
     "metadata": {},
     "output_type": "execute_result"
    }
   ],
   "source": [
    "mystring='hello'\n",
    "mystring[ : :+2]"
   ]
  },
  {
   "cell_type": "code",
   "execution_count": 195,
   "id": "c69d2407",
   "metadata": {},
   "outputs": [
    {
     "data": {
      "text/plain": [
       "'olleh'"
      ]
     },
     "execution_count": 195,
     "metadata": {},
     "output_type": "execute_result"
    }
   ],
   "source": [
    "mystring='hello'\n",
    "mystring[ : :-1]"
   ]
  },
  {
   "cell_type": "code",
   "execution_count": 196,
   "id": "441abe53",
   "metadata": {},
   "outputs": [
    {
     "data": {
      "text/plain": [
       "'hel'"
      ]
     },
     "execution_count": 196,
     "metadata": {},
     "output_type": "execute_result"
    }
   ],
   "source": [
    "mystring='hello'\n",
    "mystring[0:3]"
   ]
  },
  {
   "cell_type": "code",
   "execution_count": 197,
   "id": "6d33753d",
   "metadata": {},
   "outputs": [
    {
     "data": {
      "text/plain": [
       "'llo'"
      ]
     },
     "execution_count": 197,
     "metadata": {},
     "output_type": "execute_result"
    }
   ],
   "source": [
    "mystring='hello'\n",
    "mystring[2:45]\n"
   ]
  },
  {
   "cell_type": "code",
   "execution_count": 198,
   "id": "d29e9714",
   "metadata": {},
   "outputs": [
    {
     "data": {
      "text/plain": [
       "'hell'"
      ]
     },
     "execution_count": 198,
     "metadata": {},
     "output_type": "execute_result"
    }
   ],
   "source": [
    "mystring=\"hello\"\n",
    "mystring[:4]"
   ]
  },
  {
   "cell_type": "code",
   "execution_count": 199,
   "id": "b31dd35e",
   "metadata": {},
   "outputs": [
    {
     "data": {
      "text/plain": [
       "'llo'"
      ]
     },
     "execution_count": 199,
     "metadata": {},
     "output_type": "execute_result"
    }
   ],
   "source": [
    "mystring=\"hello\"\n",
    "mystring[2:]"
   ]
  },
  {
   "cell_type": "code",
   "execution_count": 200,
   "id": "c66d6af9",
   "metadata": {},
   "outputs": [
    {
     "data": {
      "text/plain": [
       "'hlo'"
      ]
     },
     "execution_count": 200,
     "metadata": {},
     "output_type": "execute_result"
    }
   ],
   "source": [
    "mystring='hello'\n",
    "mystring[: :2]"
   ]
  },
  {
   "cell_type": "code",
   "execution_count": 201,
   "id": "b5ccca13",
   "metadata": {},
   "outputs": [
    {
     "data": {
      "text/plain": [
       "'olle'"
      ]
     },
     "execution_count": 201,
     "metadata": {},
     "output_type": "execute_result"
    }
   ],
   "source": [
    "mystring='hello'\n",
    "mystring[4:0:-1]"
   ]
  },
  {
   "cell_type": "code",
   "execution_count": 202,
   "id": "709f6de6",
   "metadata": {},
   "outputs": [
    {
     "data": {
      "text/plain": [
       "''"
      ]
     },
     "execution_count": 202,
     "metadata": {},
     "output_type": "execute_result"
    }
   ],
   "source": [
    "mystring='hello'\n",
    "mystring[4:0:1]"
   ]
  },
  {
   "cell_type": "markdown",
   "id": "c7734c15",
   "metadata": {},
   "source": [
    " print in reverse order"
   ]
  },
  {
   "cell_type": "code",
   "execution_count": 203,
   "id": "9432592c",
   "metadata": {},
   "outputs": [
    {
     "data": {
      "text/plain": [
       "'olleh'"
      ]
     },
     "execution_count": 203,
     "metadata": {},
     "output_type": "execute_result"
    }
   ],
   "source": [
    "mystring='hello'\n",
    "mystring[: :-1]"
   ]
  },
  {
   "cell_type": "code",
   "execution_count": 204,
   "id": "02d04c58",
   "metadata": {},
   "outputs": [
    {
     "ename": "TypeError",
     "evalue": "'str' object does not support item assignment",
     "output_type": "error",
     "traceback": [
      "\u001b[1;31m---------------------------------------------------------------------------\u001b[0m",
      "\u001b[1;31mTypeError\u001b[0m                                 Traceback (most recent call last)",
      "Cell \u001b[1;32mIn[204], line 2\u001b[0m\n\u001b[0;32m      1\u001b[0m mystring\u001b[38;5;241m=\u001b[39m\u001b[38;5;124m\"\u001b[39m\u001b[38;5;124mhello\u001b[39m\u001b[38;5;124m\"\u001b[39m     \u001b[38;5;66;03m# strings are immutable,this means that elements of a string cannot be changed once it is assigned\u001b[39;00m\n\u001b[1;32m----> 2\u001b[0m mystring[\u001b[38;5;241m4\u001b[39m]\u001b[38;5;241m=\u001b[39m\u001b[38;5;124m'\u001b[39m\u001b[38;5;124ms\u001b[39m\u001b[38;5;124m'\u001b[39m\n",
      "\u001b[1;31mTypeError\u001b[0m: 'str' object does not support item assignment"
     ]
    }
   ],
   "source": [
    "mystring=\"hello\"     # strings are immutable,this means that elements of a string cannot be changed once it is assigned\n",
    "mystring[4]='s'"
   ]
  },
  {
   "cell_type": "code",
   "execution_count": 205,
   "id": "d3a27312",
   "metadata": {},
   "outputs": [
    {
     "name": "stdout",
     "output_type": "stream",
     "text": [
      "[10, 20, 30, 40, 1000]\n"
     ]
    }
   ],
   "source": [
    "l=[10,20,30,40,80]    # here l[4] is changed to 1000, \n",
    "l[4]=1000\n",
    "print(l)"
   ]
  },
  {
   "cell_type": "markdown",
   "id": "feda4940",
   "metadata": {},
   "source": [
    "# str.index()\n",
    "      returns the index of the first occurance of the string searched for (raises value error if not found)"
   ]
  },
  {
   "cell_type": "code",
   "execution_count": 206,
   "id": "e40323f3",
   "metadata": {},
   "outputs": [
    {
     "name": "stdout",
     "output_type": "stream",
     "text": [
      "10\n"
     ]
    }
   ],
   "source": [
    "s=\"python is very eeasy\"\n",
    "print(s.index(\"very\"))"
   ]
  },
  {
   "cell_type": "markdown",
   "id": "fcc1297d",
   "metadata": {},
   "source": [
    "# str.rindex()\n",
    "      returns the index of the last occurance of the string searched for(raises value error if not found)"
   ]
  },
  {
   "cell_type": "code",
   "execution_count": 207,
   "id": "d5acad74",
   "metadata": {},
   "outputs": [
    {
     "name": "stdout",
     "output_type": "stream",
     "text": [
      "15\n"
     ]
    }
   ],
   "source": [
    "s=\"python is very very easy\"\n",
    "print(s.rindex(\"very\"))"
   ]
  },
  {
   "cell_type": "markdown",
   "id": "00927e3d",
   "metadata": {},
   "source": [
    "# str.find()\n",
    "    returns the index of first occurance of the substring in a string \n",
    "    returns -1, if the substring is not found"
   ]
  },
  {
   "cell_type": "code",
   "execution_count": 208,
   "id": "3c0b9802",
   "metadata": {
    "scrolled": true
   },
   "outputs": [
    {
     "name": "stdout",
     "output_type": "stream",
     "text": [
      "11\n",
      "-1\n"
     ]
    }
   ],
   "source": [
    "s=\"python is very easy\"\n",
    "print(s.find(\"e\"))\n",
    "print(s.find(\"b\"))"
   ]
  },
  {
   "cell_type": "markdown",
   "id": "5723921a",
   "metadata": {},
   "source": [
    " in above s.index('b') gives value error and s.find('b') gives -1\n",
    "  s.index('e') and s.find('e') are same"
   ]
  },
  {
   "cell_type": "markdown",
   "id": "d06d5112",
   "metadata": {},
   "source": [
    "# str.rfind()\n",
    "     returns the index of the last occurance of the substring is a string\n",
    "     returns -1 if the substring is not found"
   ]
  },
  {
   "cell_type": "code",
   "execution_count": 209,
   "id": "dfc93ea5",
   "metadata": {},
   "outputs": [
    {
     "name": "stdout",
     "output_type": "stream",
     "text": [
      "15\n",
      "-1\n"
     ]
    }
   ],
   "source": [
    "s=\"python is very easy\"\n",
    "print(s.rfind(\"e\"))\n",
    "print(s.rfind(\"b\"))"
   ]
  },
  {
   "cell_type": "markdown",
   "id": "94206a96",
   "metadata": {},
   "source": [
    "# str.count\n",
    "       returns the number of no overlapping occurances of a substring in the searched string"
   ]
  },
  {
   "cell_type": "code",
   "execution_count": 210,
   "id": "d401c193",
   "metadata": {},
   "outputs": [
    {
     "data": {
      "text/plain": [
       "3"
      ]
     },
     "execution_count": 210,
     "metadata": {},
     "output_type": "execute_result"
    }
   ],
   "source": [
    "s=\"good morning\"\n",
    "s.count(\"o\")"
   ]
  },
  {
   "cell_type": "code",
   "execution_count": 211,
   "id": "f05a67f2",
   "metadata": {},
   "outputs": [
    {
     "data": {
      "text/plain": [
       "0"
      ]
     },
     "execution_count": 211,
     "metadata": {},
     "output_type": "execute_result"
    }
   ],
   "source": [
    "s=\"good morning\"\n",
    "s.count(\"ooo\")"
   ]
  },
  {
   "cell_type": "code",
   "execution_count": 212,
   "id": "aeb4d6d4",
   "metadata": {},
   "outputs": [
    {
     "data": {
      "text/plain": [
       "1"
      ]
     },
     "execution_count": 212,
     "metadata": {},
     "output_type": "execute_result"
    }
   ],
   "source": [
    "s=\"good morning\"\n",
    "s.count(\"oo\")"
   ]
  },
  {
   "cell_type": "code",
   "execution_count": 213,
   "id": "205a78ef",
   "metadata": {},
   "outputs": [
    {
     "name": "stdout",
     "output_type": "stream",
     "text": [
      "1\n",
      "0\n",
      "1\n",
      "0\n"
     ]
    }
   ],
   "source": [
    "s=\"good morning\"\n",
    "print(s.count(\"goo\"))\n",
    "print(s.count(\"Goo\"))\n",
    "print(s.count(\"ood\"))\n",
    "print(s.count(\"OOD\"))"
   ]
  },
  {
   "cell_type": "markdown",
   "id": "adbcccd3",
   "metadata": {},
   "source": [
    "# str.startswith()\n",
    "     returns a boolean stating whether a string starts with specified prefix\n",
    "    "
   ]
  },
  {
   "cell_type": "code",
   "execution_count": 214,
   "id": "6312a026",
   "metadata": {},
   "outputs": [
    {
     "name": "stdout",
     "output_type": "stream",
     "text": [
      "True\n"
     ]
    }
   ],
   "source": [
    "my_str='siva123'\n",
    "print(my_str.startswith('s'))"
   ]
  },
  {
   "cell_type": "markdown",
   "id": "266c429e",
   "metadata": {},
   "source": [
    "# str.endswith()\n",
    "      returns a boolean stating whether a string ends with specified suffix"
   ]
  },
  {
   "cell_type": "code",
   "execution_count": 215,
   "id": "bffb53b1",
   "metadata": {},
   "outputs": [
    {
     "name": "stdout",
     "output_type": "stream",
     "text": [
      "False\n"
     ]
    }
   ],
   "source": [
    "my_str='siva123'\n",
    "print(my_str.endswith('s'))"
   ]
  },
  {
   "cell_type": "markdown",
   "id": "6ad1e664",
   "metadata": {},
   "source": [
    "# str.isalnum\n",
    "       returns a boolean value whether a string contains only letters and digits"
   ]
  },
  {
   "cell_type": "code",
   "execution_count": 216,
   "id": "45ecca1e",
   "metadata": {},
   "outputs": [
    {
     "name": "stdout",
     "output_type": "stream",
     "text": [
      "True\n"
     ]
    }
   ],
   "source": [
    "my_str=\"siva123\"\n",
    "print(my_str.isalnum())"
   ]
  },
  {
   "cell_type": "code",
   "execution_count": 217,
   "id": "6c34a932",
   "metadata": {},
   "outputs": [
    {
     "name": "stdout",
     "output_type": "stream",
     "text": [
      "False\n"
     ]
    }
   ],
   "source": [
    "my_str=\"siva@123\"\n",
    "print(my_str.isalnum())\n"
   ]
  },
  {
   "cell_type": "markdown",
   "id": "0b630d5a",
   "metadata": {},
   "source": [
    "# str.isalpha()\n",
    "    returns a boolean stating whether a string contains only letters "
   ]
  },
  {
   "cell_type": "code",
   "execution_count": 218,
   "id": "bf849374",
   "metadata": {},
   "outputs": [
    {
     "name": "stdout",
     "output_type": "stream",
     "text": [
      "False\n"
     ]
    }
   ],
   "source": [
    "my_str=\"subha123\"\n",
    "print(my_str.isalpha())"
   ]
  },
  {
   "cell_type": "code",
   "execution_count": 219,
   "id": "93e7ab78",
   "metadata": {},
   "outputs": [
    {
     "name": "stdout",
     "output_type": "stream",
     "text": [
      "True\n"
     ]
    }
   ],
   "source": [
    "my_str=\"ravi\"\n",
    "print(my_str.isalpha())"
   ]
  },
  {
   "cell_type": "markdown",
   "id": "681a3b0e",
   "metadata": {},
   "source": [
    "# str.isdigit()\n",
    "       returns a boolean stating whether a string contains only digits"
   ]
  },
  {
   "cell_type": "code",
   "execution_count": 220,
   "id": "b052ed1c",
   "metadata": {},
   "outputs": [
    {
     "name": "stdout",
     "output_type": "stream",
     "text": [
      "True\n"
     ]
    }
   ],
   "source": [
    "my_str='123'\n",
    "print(my_str.isdigit())"
   ]
  },
  {
   "cell_type": "markdown",
   "id": "9f0cd9a8",
   "metadata": {},
   "source": [
    "# str.islower()\n",
    "     returns a boolean stating whether a string is in lowercase"
   ]
  },
  {
   "cell_type": "code",
   "execution_count": 221,
   "id": "72dc96a4",
   "metadata": {},
   "outputs": [
    {
     "name": "stdout",
     "output_type": "stream",
     "text": [
      "True\n"
     ]
    }
   ],
   "source": [
    "my_str=\"subha123\"\n",
    "print(my_str.islower())"
   ]
  },
  {
   "cell_type": "code",
   "execution_count": 222,
   "id": "299a2913",
   "metadata": {},
   "outputs": [
    {
     "name": "stdout",
     "output_type": "stream",
     "text": [
      "False\n"
     ]
    }
   ],
   "source": [
    "my_str=\"RAVI\"\n",
    "print(my_str.islower())"
   ]
  },
  {
   "cell_type": "markdown",
   "id": "4974344d",
   "metadata": {},
   "source": [
    "# str.isupper()\n",
    "      returns a boolean stating whether a string is in uppercase"
   ]
  },
  {
   "cell_type": "code",
   "execution_count": 223,
   "id": "2131f480",
   "metadata": {},
   "outputs": [
    {
     "name": "stdout",
     "output_type": "stream",
     "text": [
      "True\n"
     ]
    }
   ],
   "source": [
    "my_str=\"SUBHASHINI\"\n",
    "print(my_str.isupper())"
   ]
  },
  {
   "cell_type": "code",
   "execution_count": 224,
   "id": "6f9de0bc",
   "metadata": {},
   "outputs": [
    {
     "name": "stdout",
     "output_type": "stream",
     "text": [
      "False\n"
     ]
    }
   ],
   "source": [
    "my_str=\"subhashini\"\n",
    "print(my_str.isupper())"
   ]
  },
  {
   "cell_type": "markdown",
   "id": "4f1e9398",
   "metadata": {},
   "source": [
    "# str.isspace()\n",
    "        returna a boolean whether a string contains only WHITESPACE characters\n",
    "    "
   ]
  },
  {
   "cell_type": "code",
   "execution_count": 225,
   "id": "1ba170ac",
   "metadata": {},
   "outputs": [
    {
     "name": "stdout",
     "output_type": "stream",
     "text": [
      "False\n"
     ]
    }
   ],
   "source": [
    "my_str=\"subha ravi\"\n",
    "print(my_str.isspace())"
   ]
  },
  {
   "cell_type": "code",
   "execution_count": 226,
   "id": "96ccacd5",
   "metadata": {},
   "outputs": [
    {
     "name": "stdout",
     "output_type": "stream",
     "text": [
      "False\n"
     ]
    }
   ],
   "source": [
    "my_str=\"      3\"\n",
    "print(my_str.isspace())"
   ]
  },
  {
   "cell_type": "code",
   "execution_count": 227,
   "id": "14c1bb8b",
   "metadata": {},
   "outputs": [
    {
     "name": "stdout",
     "output_type": "stream",
     "text": [
      "True\n"
     ]
    }
   ],
   "source": [
    "my_str=\"   \"\n",
    "print(my_str.isspace())"
   ]
  },
  {
   "cell_type": "markdown",
   "id": "222ce02c",
   "metadata": {},
   "source": [
    "# str.istitle()\n",
    "     returns a boolean stating whether a string in \"title\" case"
   ]
  },
  {
   "cell_type": "code",
   "execution_count": 228,
   "id": "f81ba428",
   "metadata": {},
   "outputs": [
    {
     "name": "stdout",
     "output_type": "stream",
     "text": [
      "False\n"
     ]
    }
   ],
   "source": [
    "my_str=\"subha\"\n",
    "print(my_str.istitle())\n"
   ]
  },
  {
   "cell_type": "code",
   "execution_count": 229,
   "id": "29400955",
   "metadata": {},
   "outputs": [
    {
     "name": "stdout",
     "output_type": "stream",
     "text": [
      "True\n"
     ]
    }
   ],
   "source": [
    "my_str=\"Subha\"\n",
    "print(my_str.istitle())"
   ]
  },
  {
   "cell_type": "markdown",
   "id": "0ca65174",
   "metadata": {},
   "source": [
    "# str.removeprefix()\n",
    "         returns a string with the given prefix string removed if present"
   ]
  },
  {
   "cell_type": "code",
   "execution_count": 230,
   "id": "942eee33",
   "metadata": {},
   "outputs": [
    {
     "data": {
      "text/plain": [
       "'thon'"
      ]
     },
     "execution_count": 230,
     "metadata": {},
     "output_type": "execute_result"
    }
   ],
   "source": [
    "mystring=\"python\"\n",
    "mystring.removeprefix(\"py\")"
   ]
  },
  {
   "cell_type": "markdown",
   "id": "4c195ac1",
   "metadata": {},
   "source": [
    "# str.removesufix()\n",
    "       returns a string with the given suffix string removed if present"
   ]
  },
  {
   "cell_type": "code",
   "execution_count": 231,
   "id": "a9e9e689",
   "metadata": {},
   "outputs": [
    {
     "data": {
      "text/plain": [
       "'pyth'"
      ]
     },
     "execution_count": 231,
     "metadata": {},
     "output_type": "execute_result"
    }
   ],
   "source": [
    "mystring=\"python\"\n",
    "mystring.removesuffix(\"on\")"
   ]
  },
  {
   "cell_type": "markdown",
   "id": "fd3233a6",
   "metadata": {},
   "source": [
    "###  ADVANCED DATATYPES:\n",
    "\n",
    "                   LIST,TUPLE,SET,DICT\n",
    "           \n",
    "           datatypes is also called as data structures or containers(contain more values)\n",
    "           "
   ]
  },
  {
   "cell_type": "markdown",
   "id": "abb82139",
   "metadata": {},
   "source": [
    "#### DIFFERENCE BETWEEN DATATYPE AND DATASTRUCTURE :\n",
    "\n",
    "             FUNDAMENTAAL DATATYPE STORE ONE VALUE ONLY\n",
    "             \n",
    "             ADVANCED DATATYPE STORE MORETHAN ONE VALUE"
   ]
  },
  {
   "cell_type": "markdown",
   "id": "e1802562",
   "metadata": {},
   "source": [
    "# LIST\n",
    "\n",
    "     list is an ordered sequence of items\n",
    "     \n",
    "     each element or value that is inside of a list is called an item\n",
    "     \n",
    "     Declaring a list is,items seperated by commas are enclosed with brackets[]\n"
   ]
  },
  {
   "cell_type": "markdown",
   "id": "302b3363",
   "metadata": {},
   "source": [
    "EMPTY LIST:\n",
    "\n",
    "       EMPTY LIST can be created by 2 ways"
   ]
  },
  {
   "cell_type": "code",
   "execution_count": 232,
   "id": "e40ab94b",
   "metadata": {},
   "outputs": [],
   "source": [
    "emptylist=[]"
   ]
  },
  {
   "cell_type": "code",
   "execution_count": 233,
   "id": "2b186396",
   "metadata": {},
   "outputs": [
    {
     "name": "stdout",
     "output_type": "stream",
     "text": [
      "[]\n"
     ]
    }
   ],
   "source": [
    "emptylist=list()\n",
    "print(emptylist)"
   ]
  },
  {
   "cell_type": "code",
   "execution_count": 234,
   "id": "415fca12",
   "metadata": {},
   "outputs": [
    {
     "data": {
      "text/plain": [
       "[1, 2, 3, 4]"
      ]
     },
     "execution_count": 234,
     "metadata": {},
     "output_type": "execute_result"
    }
   ],
   "source": [
    "l1=[1,2,3,4]\n",
    "l1"
   ]
  },
  {
   "cell_type": "code",
   "execution_count": 235,
   "id": "44d2164f",
   "metadata": {},
   "outputs": [
    {
     "data": {
      "text/plain": [
       "[1, 0.2, (1+3j), True, 'new']"
      ]
     },
     "execution_count": 235,
     "metadata": {},
     "output_type": "execute_result"
    }
   ],
   "source": [
    "# All the items in a list donot need to br sametype(HETEROGENOUS)\n",
    "l=[1,0.2,1+3j,True,'new']\n",
    "l"
   ]
  },
  {
   "cell_type": "markdown",
   "id": "21cebc90",
   "metadata": {},
   "source": [
    "# length of list"
   ]
  },
  {
   "cell_type": "code",
   "execution_count": 236,
   "id": "7a77ccd0",
   "metadata": {},
   "outputs": [
    {
     "data": {
      "text/plain": [
       "3"
      ]
     },
     "execution_count": 236,
     "metadata": {},
     "output_type": "execute_result"
    }
   ],
   "source": [
    "my_list=[10,20.5,\"hello\"]\n",
    "len(my_list)"
   ]
  },
  {
   "cell_type": "markdown",
   "id": "ca94d7f6",
   "metadata": {},
   "source": [
    "# Nested list\n",
    "      within list one of item is list"
   ]
  },
  {
   "cell_type": "code",
   "execution_count": 237,
   "id": "37424a2d",
   "metadata": {},
   "outputs": [
    {
     "name": "stdout",
     "output_type": "stream",
     "text": [
      "[1, [3, 4], 3]\n"
     ]
    },
    {
     "data": {
      "text/plain": [
       "3"
      ]
     },
     "execution_count": 237,
     "metadata": {},
     "output_type": "execute_result"
    }
   ],
   "source": [
    "nest=[1,[3,4],3]\n",
    "print(nest)\n",
    "len(nest)"
   ]
  },
  {
   "cell_type": "markdown",
   "id": "43a2d32e",
   "metadata": {},
   "source": [
    "# list indexing"
   ]
  },
  {
   "cell_type": "code",
   "execution_count": 238,
   "id": "0d0f6c1f",
   "metadata": {},
   "outputs": [
    {
     "data": {
      "text/plain": [
       "1"
      ]
     },
     "execution_count": 238,
     "metadata": {},
     "output_type": "execute_result"
    }
   ],
   "source": [
    "nest[0]"
   ]
  },
  {
   "cell_type": "code",
   "execution_count": 239,
   "id": "e9976dfd",
   "metadata": {},
   "outputs": [
    {
     "name": "stdout",
     "output_type": "stream",
     "text": [
      "[3, 4]\n"
     ]
    },
    {
     "data": {
      "text/plain": [
       "2"
      ]
     },
     "execution_count": 239,
     "metadata": {},
     "output_type": "execute_result"
    }
   ],
   "source": [
    "nest[1]\n",
    "print(nest[1])\n",
    "len(nest[1])"
   ]
  },
  {
   "cell_type": "code",
   "execution_count": 240,
   "id": "385a12f6",
   "metadata": {},
   "outputs": [
    {
     "ename": "TypeError",
     "evalue": "object of type 'int' has no len()",
     "output_type": "error",
     "traceback": [
      "\u001b[1;31m---------------------------------------------------------------------------\u001b[0m",
      "\u001b[1;31mTypeError\u001b[0m                                 Traceback (most recent call last)",
      "Cell \u001b[1;32mIn[240], line 1\u001b[0m\n\u001b[1;32m----> 1\u001b[0m \u001b[38;5;28;43mlen\u001b[39;49m\u001b[43m(\u001b[49m\u001b[43mnest\u001b[49m\u001b[43m[\u001b[49m\u001b[38;5;241;43m0\u001b[39;49m\u001b[43m]\u001b[49m\u001b[43m)\u001b[49m\n",
      "\u001b[1;31mTypeError\u001b[0m: object of type 'int' has no len()"
     ]
    }
   ],
   "source": [
    "len(nest[0])    # for int,float,bool,function has no length"
   ]
  },
  {
   "cell_type": "code",
   "execution_count": 241,
   "id": "5a6b0ad4",
   "metadata": {},
   "outputs": [
    {
     "data": {
      "text/plain": [
       "1"
      ]
     },
     "execution_count": 241,
     "metadata": {},
     "output_type": "execute_result"
    }
   ],
   "source": [
    "len(str(nest[0]))"
   ]
  },
  {
   "cell_type": "code",
   "execution_count": 242,
   "id": "c0638902",
   "metadata": {},
   "outputs": [
    {
     "data": {
      "text/plain": [
       "3"
      ]
     },
     "execution_count": 242,
     "metadata": {},
     "output_type": "execute_result"
    }
   ],
   "source": [
    "nest[1][0]"
   ]
  },
  {
   "cell_type": "code",
   "execution_count": 243,
   "id": "6add4ad0",
   "metadata": {},
   "outputs": [
    {
     "ename": "SyntaxError",
     "evalue": "invalid syntax (1784331582.py, line 1)",
     "output_type": "error",
     "traceback": [
      "\u001b[1;36m  Cell \u001b[1;32mIn[243], line 1\u001b[1;36m\u001b[0m\n\u001b[1;33m    nest[2][0]       for int indexing is not possible,itgives type error 'int' object is not subscriptable\u001b[0m\n\u001b[1;37m                     ^\u001b[0m\n\u001b[1;31mSyntaxError\u001b[0m\u001b[1;31m:\u001b[0m invalid syntax\n"
     ]
    }
   ],
   "source": [
    "nest[2][0]       for int indexing is not possible,itgives type error 'int' object is not subscriptable"
   ]
  },
  {
   "cell_type": "code",
   "execution_count": 244,
   "id": "d874cf63",
   "metadata": {},
   "outputs": [
    {
     "ename": "IndexError",
     "evalue": "list index out of range",
     "output_type": "error",
     "traceback": [
      "\u001b[1;31m---------------------------------------------------------------------------\u001b[0m",
      "\u001b[1;31mIndexError\u001b[0m                                Traceback (most recent call last)",
      "Cell \u001b[1;32mIn[244], line 2\u001b[0m\n\u001b[0;32m      1\u001b[0m nest\u001b[38;5;241m=\u001b[39m[\u001b[38;5;241m1\u001b[39m,[\u001b[38;5;241m3\u001b[39m,\u001b[38;5;241m4\u001b[39m],\u001b[38;5;124m\"\u001b[39m\u001b[38;5;124mds\u001b[39m\u001b[38;5;124m\"\u001b[39m]\n\u001b[1;32m----> 2\u001b[0m \u001b[43mnest\u001b[49m\u001b[43m[\u001b[49m\u001b[38;5;241;43m1\u001b[39;49m\u001b[43m]\u001b[49m\u001b[43m[\u001b[49m\u001b[38;5;241;43m2\u001b[39;49m\u001b[43m]\u001b[49m\n",
      "\u001b[1;31mIndexError\u001b[0m: list index out of range"
     ]
    }
   ],
   "source": [
    "nest=[1,[3,4],\"ds\"]\n",
    "nest[1][2]"
   ]
  },
  {
   "cell_type": "code",
   "execution_count": 245,
   "id": "5d0063f1",
   "metadata": {},
   "outputs": [
    {
     "data": {
      "text/plain": [
       "4"
      ]
     },
     "execution_count": 245,
     "metadata": {},
     "output_type": "execute_result"
    }
   ],
   "source": [
    "nest[1][1]"
   ]
  },
  {
   "cell_type": "markdown",
   "id": "873ea05e",
   "metadata": {},
   "source": [
    "# list slicing"
   ]
  },
  {
   "cell_type": "code",
   "execution_count": 246,
   "id": "f688aaa9",
   "metadata": {},
   "outputs": [
    {
     "data": {
      "text/plain": [
       "[]"
      ]
     },
     "execution_count": 246,
     "metadata": {},
     "output_type": "execute_result"
    }
   ],
   "source": [
    "nest[1][2:]      # slicing  never gives error that is empty"
   ]
  },
  {
   "cell_type": "code",
   "execution_count": 247,
   "id": "028c33b8",
   "metadata": {},
   "outputs": [
    {
     "data": {
      "text/plain": [
       "[10, 20, 30]"
      ]
     },
     "execution_count": 247,
     "metadata": {},
     "output_type": "execute_result"
    }
   ],
   "source": [
    "numbers=[10,20,30,40,50,60,70,80]\n",
    "numbers[0:3]"
   ]
  },
  {
   "cell_type": "markdown",
   "id": "193fa848",
   "metadata": {},
   "source": [
    "    Lists are Mutable\n",
    "          Mutable means value of elements of a list can be altered in the same object"
   ]
  },
  {
   "cell_type": "code",
   "execution_count": 248,
   "id": "8e172fbc",
   "metadata": {},
   "outputs": [
    {
     "name": "stdout",
     "output_type": "stream",
     "text": [
      "[1, 2, 3]\n"
     ]
    },
    {
     "ename": "TypeError",
     "evalue": "'int' object is not callable",
     "output_type": "error",
     "traceback": [
      "\u001b[1;31m---------------------------------------------------------------------------\u001b[0m",
      "\u001b[1;31mTypeError\u001b[0m                                 Traceback (most recent call last)",
      "Cell \u001b[1;32mIn[248], line 3\u001b[0m\n\u001b[0;32m      1\u001b[0m a\u001b[38;5;241m=\u001b[39m[\u001b[38;5;241m1\u001b[39m,\u001b[38;5;241m2\u001b[39m,\u001b[38;5;241m3\u001b[39m]\n\u001b[0;32m      2\u001b[0m \u001b[38;5;28mprint\u001b[39m(a)\n\u001b[1;32m----> 3\u001b[0m \u001b[38;5;28mprint\u001b[39m(\u001b[38;5;124m\"\u001b[39m\u001b[38;5;124minitial object reference:\u001b[39m\u001b[38;5;124m\"\u001b[39m,\u001b[38;5;28;43mid\u001b[39;49m\u001b[43m(\u001b[49m\u001b[43ma\u001b[49m\u001b[43m)\u001b[49m)\n\u001b[0;32m      4\u001b[0m a[\u001b[38;5;241m1\u001b[39m]\u001b[38;5;241m=\u001b[39m\u001b[38;5;241m20\u001b[39m\n\u001b[0;32m      5\u001b[0m \u001b[38;5;28mprint\u001b[39m(a)\n",
      "\u001b[1;31mTypeError\u001b[0m: 'int' object is not callable"
     ]
    }
   ],
   "source": [
    "a=[1,2,3]\n",
    "print(a)\n",
    "print(\"initial object reference:\",id(a))\n",
    "a[1]=20\n",
    "print(a)\n",
    "print(\"after replace,the object reference:\",id(a))"
   ]
  },
  {
   "cell_type": "markdown",
   "id": "469aaf87",
   "metadata": {},
   "source": [
    "# List Concatenation"
   ]
  },
  {
   "cell_type": "code",
   "execution_count": 249,
   "id": "101cd100",
   "metadata": {},
   "outputs": [
    {
     "name": "stdout",
     "output_type": "stream",
     "text": [
      "['a', 6, 4.0, 'd', 'b', 'c']\n",
      "['d', 'b', 'c', 'a', 6, 4.0]\n",
      "['d', 'b', 'c', 'd', 'b', 'c']\n",
      "['d', 'b', 'c', 'd', 'b', 'c']\n"
     ]
    }
   ],
   "source": [
    "l1=[\"d\",\"b\",\"c\"]\n",
    "l2=['a',6,4.0]\n",
    "l3=l2+l1\n",
    "print(l3)\n",
    "l4=l1+l2\n",
    "print(l4)\n",
    "l5=l1*2                  #l1*2 and l1+l1 are same\n",
    "print(l5)\n",
    "l6=l1+l1\n",
    "print(l6)"
   ]
  },
  {
   "cell_type": "markdown",
   "id": "b39ed73d",
   "metadata": {},
   "source": [
    "# LIST METHODS"
   ]
  },
  {
   "cell_type": "markdown",
   "id": "80efc112",
   "metadata": {},
   "source": [
    "# list.append()\n",
    "           used to add only 1 item at the end of list\n",
    "           item can be either int,float,str,bool,list"
   ]
  },
  {
   "cell_type": "code",
   "execution_count": 250,
   "id": "0033ae0b",
   "metadata": {},
   "outputs": [
    {
     "name": "stdout",
     "output_type": "stream",
     "text": [
      "[1, 2, 3, 4, 5, 6]\n"
     ]
    }
   ],
   "source": [
    "lst=[1,2,3,4,5,6]\n",
    "print(lst)#"
   ]
  },
  {
   "cell_type": "code",
   "execution_count": 251,
   "id": "64e2d64c",
   "metadata": {},
   "outputs": [
    {
     "name": "stdout",
     "output_type": "stream",
     "text": [
      "[1, 2, 3, 4, 5, 6, 7]\n"
     ]
    }
   ],
   "source": [
    "lst.append(7)\n",
    "print(lst)"
   ]
  },
  {
   "cell_type": "code",
   "execution_count": 252,
   "id": "f078f02e",
   "metadata": {},
   "outputs": [
    {
     "name": "stdout",
     "output_type": "stream",
     "text": [
      "[1, 2, 3, 4, 5, 6, 7, [8, 9]]\n"
     ]
    }
   ],
   "source": [
    "lst.append([8,9])\n",
    "print(lst)"
   ]
  },
  {
   "cell_type": "markdown",
   "id": "6d626761",
   "metadata": {},
   "source": [
    "# if we want to add multiple items in the list -------list extend()"
   ]
  },
  {
   "cell_type": "markdown",
   "id": "e7473228",
   "metadata": {},
   "source": [
    "# list extend()\n",
    "          used to add multiple items items in a list\n",
    "          it adds each item individually at the end"
   ]
  },
  {
   "cell_type": "code",
   "execution_count": 253,
   "id": "e83a26e0",
   "metadata": {},
   "outputs": [
    {
     "name": "stdout",
     "output_type": "stream",
     "text": [
      "[1, 2, 3, 4, 5, 6, 8, 9]\n"
     ]
    }
   ],
   "source": [
    "lst=[1,2,3,4,5,6]\n",
    "lst.extend([8,9])\n",
    "print(lst)"
   ]
  },
  {
   "cell_type": "markdown",
   "id": "5abbd5ef",
   "metadata": {},
   "source": [
    "#  Difference between append() and extend() is-------\n",
    "           extend adds the items seperately if we given in the list\n",
    "           append add the items as asingle item in the list"
   ]
  },
  {
   "cell_type": "code",
   "execution_count": 254,
   "id": "b4ada43e",
   "metadata": {},
   "outputs": [
    {
     "name": "stdout",
     "output_type": "stream",
     "text": [
      "[1, 2, 3, 4, 5, 6]\n"
     ]
    }
   ],
   "source": [
    "l1=[1,2,3]\n",
    "l2=[4,5,6]\n",
    "l3=l1+l2       #concatenation\n",
    "print(l3)"
   ]
  },
  {
   "cell_type": "code",
   "execution_count": 255,
   "id": "c54a682e",
   "metadata": {},
   "outputs": [
    {
     "name": "stdout",
     "output_type": "stream",
     "text": [
      "[1, 2, 3, 4, 5, 6]\n"
     ]
    }
   ],
   "source": [
    "l1=[1,2,3]\n",
    "l2=[4,5,6]\n",
    "l1.extend(l2)  #extend\n",
    "print(l1)"
   ]
  },
  {
   "cell_type": "markdown",
   "id": "4cc3e6a1",
   "metadata": {},
   "source": [
    "# Difference between extend() and concatenation() is-------------------\n",
    "       hereboth the outputs are same,but in concatenation the final output is not store,\n",
    "         but in extend the output is store in l1"
   ]
  },
  {
   "cell_type": "markdown",
   "id": "636fb299",
   "metadata": {},
   "source": [
    "# if l1=l1+l2 or l1'extend(l2)  are same?\n",
    "         yes,since l1+l2 are store in l1 and l1.extend(l2) the value are store in l1"
   ]
  },
  {
   "cell_type": "code",
   "execution_count": 256,
   "id": "58a1cda5",
   "metadata": {},
   "outputs": [
    {
     "name": "stdout",
     "output_type": "stream",
     "text": [
      "[1, 2, 3, 4, 5, 6, 1, [4, 9], 24, [9, 90]]\n"
     ]
    }
   ],
   "source": [
    "lst=[1,2,3,4,5,6]\n",
    "lst.extend([1,[4,9],24,[9,90]])    # multiple list\n",
    "print(lst)"
   ]
  },
  {
   "cell_type": "code",
   "execution_count": 257,
   "id": "bbfd9889",
   "metadata": {},
   "outputs": [
    {
     "name": "stdout",
     "output_type": "stream",
     "text": [
      "[1, 2, 4, [5, 6, [7, [8, 9]], 10], 11]\n",
      "5\n"
     ]
    }
   ],
   "source": [
    "l1=[1,2]\n",
    "l2=[4,[5,6,[7,[8,9]],10],11]\n",
    "l1.extend(l2)\n",
    "print(l1)\n",
    "print(len(l1))\n",
    "    "
   ]
  },
  {
   "cell_type": "code",
   "execution_count": 258,
   "id": "01d52473",
   "metadata": {},
   "outputs": [
    {
     "name": "stdout",
     "output_type": "stream",
     "text": [
      "[1, 2, [4, [5, 6, [7, [8, 9]], 10], 11]]\n"
     ]
    }
   ],
   "source": [
    "l1=[1,2]\n",
    "l2=[4,[5,6,[7,[8,9]],10],11]\n",
    "l1.append(l2)\n",
    "print(l1)"
   ]
  },
  {
   "cell_type": "markdown",
   "id": "4c87ec47",
   "metadata": {},
   "source": [
    "# if we want to add in certain position -------list.insert() is used\n"
   ]
  },
  {
   "cell_type": "markdown",
   "id": "d502a0e4",
   "metadata": {},
   "source": [
    "# list.insert()\n",
    "        used to insert a item in a specifix index position\n",
    "        list.insert(x,y) will add element item 'y' at location index number 'x'\n",
    "         \n",
    "            list.insert (indexnumber,item)    # the item is add to index number"
   ]
  },
  {
   "cell_type": "code",
   "execution_count": 259,
   "id": "528f8495",
   "metadata": {},
   "outputs": [
    {
     "name": "stdout",
     "output_type": "stream",
     "text": [
      "[11, 12, 13, 10, 14]\n"
     ]
    }
   ],
   "source": [
    "lst=[11,12,13,14]\n",
    "lst.insert(3,10)\n",
    "print(lst)"
   ]
  },
  {
   "cell_type": "code",
   "execution_count": 260,
   "id": "5db66ab7",
   "metadata": {},
   "outputs": [
    {
     "name": "stdout",
     "output_type": "stream",
     "text": [
      "[11, 12, [20.3], 13, 14]\n"
     ]
    }
   ],
   "source": [
    "lst=[11,12,13,14]\n",
    "lst.insert(2,[20.30])\n",
    "print(lst)"
   ]
  },
  {
   "cell_type": "markdown",
   "id": "903e4ca3",
   "metadata": {},
   "source": [
    "# list.remove()\n",
    "      used to remove an item based on value\n",
    "      if value repeats,it removes the first one only"
   ]
  },
  {
   "cell_type": "code",
   "execution_count": 261,
   "id": "fd965232",
   "metadata": {},
   "outputs": [
    {
     "data": {
      "text/plain": [
       "[20, 30, 40, 10]"
      ]
     },
     "execution_count": 261,
     "metadata": {},
     "output_type": "execute_result"
    }
   ],
   "source": [
    "numbers=[10,20,30,40,10]\n",
    "numbers.remove(10)\n",
    "numbers"
   ]
  },
  {
   "cell_type": "code",
   "execution_count": 262,
   "id": "678c1170",
   "metadata": {},
   "outputs": [
    {
     "ename": "ValueError",
     "evalue": "list.remove(x): x not in list",
     "output_type": "error",
     "traceback": [
      "\u001b[1;31m---------------------------------------------------------------------------\u001b[0m",
      "\u001b[1;31mValueError\u001b[0m                                Traceback (most recent call last)",
      "Cell \u001b[1;32mIn[262], line 1\u001b[0m\n\u001b[1;32m----> 1\u001b[0m \u001b[43mnumbers\u001b[49m\u001b[38;5;241;43m.\u001b[39;49m\u001b[43mremove\u001b[49m\u001b[43m(\u001b[49m\u001b[38;5;241;43m50\u001b[39;49m\u001b[43m)\u001b[49m        \u001b[38;5;66;03m#50 is not in the list\u001b[39;00m\n\u001b[0;32m      2\u001b[0m numbers\n",
      "\u001b[1;31mValueError\u001b[0m: list.remove(x): x not in list"
     ]
    }
   ],
   "source": [
    "numbers.remove(50)        #50 is not in the list\n",
    "numbers"
   ]
  },
  {
   "cell_type": "markdown",
   "id": "95523afa",
   "metadata": {},
   "source": [
    "# list.pop()\n",
    "        used to remove an item based on a index number\n",
    "        by default,it selects the index number= -1"
   ]
  },
  {
   "cell_type": "code",
   "execution_count": 263,
   "id": "689dda46",
   "metadata": {},
   "outputs": [
    {
     "data": {
      "text/plain": [
       "[10, 20, 30, 10]"
      ]
     },
     "execution_count": 263,
     "metadata": {},
     "output_type": "execute_result"
    }
   ],
   "source": [
    "numbers=[10,20,30,40,10]\n",
    "numbers.pop(3)\n",
    "numbers"
   ]
  },
  {
   "cell_type": "code",
   "execution_count": 264,
   "id": "c669ec1a",
   "metadata": {},
   "outputs": [
    {
     "data": {
      "text/plain": [
       "[20, 30, 10]"
      ]
     },
     "execution_count": 264,
     "metadata": {},
     "output_type": "execute_result"
    }
   ],
   "source": [
    "numbers.pop(0)\n",
    "numbers"
   ]
  },
  {
   "cell_type": "code",
   "execution_count": 265,
   "id": "7d0b2d55",
   "metadata": {},
   "outputs": [
    {
     "ename": "IndexError",
     "evalue": "pop index out of range",
     "output_type": "error",
     "traceback": [
      "\u001b[1;31m---------------------------------------------------------------------------\u001b[0m",
      "\u001b[1;31mIndexError\u001b[0m                                Traceback (most recent call last)",
      "Cell \u001b[1;32mIn[265], line 1\u001b[0m\n\u001b[1;32m----> 1\u001b[0m \u001b[43mnumbers\u001b[49m\u001b[38;5;241;43m.\u001b[39;49m\u001b[43mpop\u001b[49m\u001b[43m(\u001b[49m\u001b[38;5;241;43m5\u001b[39;49m\u001b[43m)\u001b[49m\n\u001b[0;32m      2\u001b[0m numbers\n",
      "\u001b[1;31mIndexError\u001b[0m: pop index out of range"
     ]
    }
   ],
   "source": [
    "numbers.pop(5)\n",
    "numbers"
   ]
  },
  {
   "cell_type": "markdown",
   "id": "738a391d",
   "metadata": {},
   "source": [
    "# list.clear()\n",
    "      used to clear all items in a list and returns empty list"
   ]
  },
  {
   "cell_type": "code",
   "execution_count": 266,
   "id": "0e59c418",
   "metadata": {},
   "outputs": [
    {
     "name": "stdout",
     "output_type": "stream",
     "text": [
      "[]\n"
     ]
    }
   ],
   "source": [
    "a=[1,2,3,4]\n",
    "a.clear()\n",
    "print(a)"
   ]
  },
  {
   "cell_type": "markdown",
   "id": "cf7f6df9",
   "metadata": {},
   "source": [
    "# del"
   ]
  },
  {
   "cell_type": "code",
   "execution_count": 267,
   "id": "6471d3c3",
   "metadata": {},
   "outputs": [
    {
     "ename": "NameError",
     "evalue": "name 'a' is not defined",
     "output_type": "error",
     "traceback": [
      "\u001b[1;31m---------------------------------------------------------------------------\u001b[0m",
      "\u001b[1;31mNameError\u001b[0m                                 Traceback (most recent call last)",
      "Cell \u001b[1;32mIn[267], line 3\u001b[0m\n\u001b[0;32m      1\u001b[0m a\u001b[38;5;241m=\u001b[39m[\u001b[38;5;241m1\u001b[39m,\u001b[38;5;241m2\u001b[39m,\u001b[38;5;241m3\u001b[39m,\u001b[38;5;241m4\u001b[39m]\n\u001b[0;32m      2\u001b[0m \u001b[38;5;28;01mdel\u001b[39;00m a\n\u001b[1;32m----> 3\u001b[0m \u001b[38;5;28mprint\u001b[39m(\u001b[43ma\u001b[49m)\n",
      "\u001b[1;31mNameError\u001b[0m: name 'a' is not defined"
     ]
    }
   ],
   "source": [
    "a=[1,2,3,4]\n",
    "del a\n",
    "print(a)"
   ]
  },
  {
   "cell_type": "markdown",
   "id": "24527637",
   "metadata": {},
   "source": [
    "####  What is the difference between del and list.clear\n",
    "\n",
    "     del deletes the entire object whereas\n",
    "     \n",
    "      list.clear() deletes the entire value but remains object\n",
    "     "
   ]
  },
  {
   "cell_type": "code",
   "execution_count": 268,
   "id": "f7660513",
   "metadata": {},
   "outputs": [
    {
     "data": {
      "text/plain": [
       "[30, 40]"
      ]
     },
     "execution_count": 268,
     "metadata": {},
     "output_type": "execute_result"
    }
   ],
   "source": [
    "numbers=[10,20,30,40]\n",
    "del numbers[0:2]\n",
    "numbers"
   ]
  },
  {
   "cell_type": "markdown",
   "id": "c843485c",
   "metadata": {},
   "source": [
    " number.remove(10)==> removes 10 (one number at a time)\n",
    " \n",
    "   del numbers==>  deletes 2 numbers at a time\n",
    "    "
   ]
  },
  {
   "cell_type": "markdown",
   "id": "452c5874",
   "metadata": {},
   "source": [
    "using slicing operation we can remove the numbers but they are to be in PATTERN"
   ]
  },
  {
   "cell_type": "markdown",
   "id": "1bb23376",
   "metadata": {},
   "source": [
    "# list.reverse()\n",
    "        used to reverse all items in list"
   ]
  },
  {
   "cell_type": "code",
   "execution_count": 269,
   "id": "c481a303",
   "metadata": {},
   "outputs": [
    {
     "data": {
      "text/plain": [
       "[[4, 6], 9, 4, 1]"
      ]
     },
     "execution_count": 269,
     "metadata": {},
     "output_type": "execute_result"
    }
   ],
   "source": [
    "l=[1,4,9,[4,6]]\n",
    "l.reverse()\n",
    "l"
   ]
  },
  {
   "cell_type": "code",
   "execution_count": 270,
   "id": "a39eee70",
   "metadata": {},
   "outputs": [
    {
     "data": {
      "text/plain": [
       "[[4, 6], 9, 4, 1]"
      ]
     },
     "execution_count": 270,
     "metadata": {},
     "output_type": "execute_result"
    }
   ],
   "source": [
    "l=[1,4,9,[4,6]]\n",
    "l[::-1]"
   ]
  },
  {
   "cell_type": "markdown",
   "id": "d1eb7aea",
   "metadata": {},
   "source": [
    "[::-1] --->in python,String reverse  list reverse are both are giving same outputs"
   ]
  },
  {
   "cell_type": "code",
   "execution_count": 271,
   "id": "5a9bf6aa",
   "metadata": {},
   "outputs": [
    {
     "data": {
      "text/plain": [
       "')4 ,3 ,2 ,1('"
      ]
     },
     "execution_count": 271,
     "metadata": {},
     "output_type": "execute_result"
    }
   ],
   "source": [
    "i=(1,2,3,4)\n",
    "str(i)[::-1]# for 'int',indexing is not there,so it is converted into string and apply reverse function and converted to int\n",
    "\n",
    "\n"
   ]
  },
  {
   "cell_type": "markdown",
   "id": "291ec665",
   "metadata": {},
   "source": [
    "# list.sort()\n",
    "        used to sort items in a list either in ascending order or descending order\n",
    "        by default,it sort in descending order\n",
    "    NOTE: sort is applicable for either only alphabet or only numeric value"
   ]
  },
  {
   "cell_type": "code",
   "execution_count": 272,
   "id": "ae27804e",
   "metadata": {},
   "outputs": [
    {
     "data": {
      "text/plain": [
       "[1, 4.2, 5, 5, 20]"
      ]
     },
     "execution_count": 272,
     "metadata": {},
     "output_type": "execute_result"
    }
   ],
   "source": [
    "lst=[1,20,5,5,4.2]\n",
    "lst.sort()        #ascending order\n",
    "lst"
   ]
  },
  {
   "cell_type": "code",
   "execution_count": 273,
   "id": "722ad518",
   "metadata": {},
   "outputs": [
    {
     "data": {
      "text/plain": [
       "[20, 5, 5, 4.2, 1]"
      ]
     },
     "execution_count": 273,
     "metadata": {},
     "output_type": "execute_result"
    }
   ],
   "source": [
    "lst=[1,20,5,5,4.2]\n",
    "lst.sort(reverse=True)       # descending order\n",
    "lst"
   ]
  },
  {
   "cell_type": "code",
   "execution_count": 274,
   "id": "71c85433",
   "metadata": {},
   "outputs": [
    {
     "data": {
      "text/plain": [
       "['a', 'aef', 'b', 'f']"
      ]
     },
     "execution_count": 274,
     "metadata": {},
     "output_type": "execute_result"
    }
   ],
   "source": [
    "l=['aef','b','a','f']\n",
    "l.sort()\n",
    "l"
   ]
  },
  {
   "cell_type": "code",
   "execution_count": 275,
   "id": "5d521983",
   "metadata": {},
   "outputs": [
    {
     "ename": "TypeError",
     "evalue": "'<' not supported between instances of 'str' and 'int'",
     "output_type": "error",
     "traceback": [
      "\u001b[1;31m---------------------------------------------------------------------------\u001b[0m",
      "\u001b[1;31mTypeError\u001b[0m                                 Traceback (most recent call last)",
      "Cell \u001b[1;32mIn[275], line 2\u001b[0m\n\u001b[0;32m      1\u001b[0m lst\u001b[38;5;241m=\u001b[39m[\u001b[38;5;241m1\u001b[39m,\u001b[38;5;241m20\u001b[39m,\u001b[38;5;124m'\u001b[39m\u001b[38;5;124mb\u001b[39m\u001b[38;5;124m'\u001b[39m,\u001b[38;5;241m5\u001b[39m,\u001b[38;5;124m'\u001b[39m\u001b[38;5;124ma\u001b[39m\u001b[38;5;124m'\u001b[39m]       \u001b[38;5;66;03m#sorting is not done between int and string\u001b[39;00m\n\u001b[1;32m----> 2\u001b[0m \u001b[38;5;28mprint\u001b[39m(\u001b[43mlst\u001b[49m\u001b[38;5;241;43m.\u001b[39;49m\u001b[43msort\u001b[49m\u001b[43m(\u001b[49m\u001b[43m)\u001b[49m)\n",
      "\u001b[1;31mTypeError\u001b[0m: '<' not supported between instances of 'str' and 'int'"
     ]
    }
   ],
   "source": [
    "lst=[1,20,'b',5,'a']       #sorting is not done between int and string\n",
    "print(lst.sort())"
   ]
  },
  {
   "cell_type": "code",
   "execution_count": 276,
   "id": "5875a971",
   "metadata": {},
   "outputs": [
    {
     "name": "stdout",
     "output_type": "stream",
     "text": [
      "[1, 4.2, 5, 20]\n",
      "[1, 20, 5, 4.2]\n"
     ]
    }
   ],
   "source": [
    "lst=[1,20,5,4.2]\n",
    "print(sorted(lst))      # it will not store \n",
    "print(lst)"
   ]
  },
  {
   "cell_type": "code",
   "execution_count": 277,
   "id": "e255ba88",
   "metadata": {},
   "outputs": [
    {
     "name": "stdout",
     "output_type": "stream",
     "text": [
      "[1, 4.2, 5, 20]\n"
     ]
    }
   ],
   "source": [
    "lst=[1,20,5,4.2]\n",
    "lst.sort()             #ascending order\n",
    "print(lst)"
   ]
  },
  {
   "cell_type": "markdown",
   "id": "59d4e647",
   "metadata": {},
   "source": [
    "    ### Difference between l.sort() and sorted(l)\n",
    "    \n",
    "           l.sort() is a method,after sorting(acsending order) the values of 'l' are stored in original 'l'\n",
    "           \n",
    "            sorted(l) is a function,after sorting the values are not stored in original 'l'"
   ]
  },
  {
   "cell_type": "markdown",
   "id": "f266d37a",
   "metadata": {},
   "source": [
    " ###  lst.count()\n",
    "      frequency of value in a list"
   ]
  },
  {
   "cell_type": "code",
   "execution_count": 279,
   "id": "20133028",
   "metadata": {},
   "outputs": [
    {
     "data": {
      "text/plain": [
       "3"
      ]
     },
     "execution_count": 279,
     "metadata": {},
     "output_type": "execute_result"
    }
   ],
   "source": [
    "l=[1,2,3,1,1,0,3,4,2,5]\n",
    "l.count(1)           # how many times the value is repeated"
   ]
  },
  {
   "cell_type": "code",
   "execution_count": 280,
   "id": "297790a1",
   "metadata": {},
   "outputs": [
    {
     "data": {
      "text/plain": [
       "0"
      ]
     },
     "execution_count": 280,
     "metadata": {},
     "output_type": "execute_result"
    }
   ],
   "source": [
    "l.count(20)"
   ]
  },
  {
   "cell_type": "code",
   "execution_count": 281,
   "id": "196ed09a",
   "metadata": {},
   "outputs": [
    {
     "data": {
      "text/plain": [
       "2"
      ]
     },
     "execution_count": 281,
     "metadata": {},
     "output_type": "execute_result"
    }
   ],
   "source": [
    "l.count(2)"
   ]
  },
  {
   "cell_type": "markdown",
   "id": "ac75fc76",
   "metadata": {},
   "source": [
    "# difference between Shallow copy and Deep copy\n",
    "                    SHALLOW COPY                                       DEEP COPY\n",
    "    1. Values will be same,but object reference              1. values will be same with same object reference\n",
    "        will be different in shallow copy  \n",
    "    2. whatever the modifications done on copied one         2. whatever the modifications are done on copied one,\n",
    "        not impact on original one                               it will impact on original one"
   ]
  },
  {
   "cell_type": "markdown",
   "id": "667421af",
   "metadata": {},
   "source": [
    "    shallow copy"
   ]
  },
  {
   "cell_type": "code",
   "execution_count": 282,
   "id": "29ee67a4",
   "metadata": {},
   "outputs": [
    {
     "name": "stdout",
     "output_type": "stream",
     "text": [
      "[1, 2, 3, 4]\n",
      "[1, 2, 3]\n"
     ]
    }
   ],
   "source": [
    "l1=[1,2,3]\n",
    "l2=l1.copy()\n",
    "l2.append(4)\n",
    "print(l2)\n",
    "print(l1)"
   ]
  },
  {
   "cell_type": "markdown",
   "id": "5f6475a0",
   "metadata": {},
   "source": [
    "    Deep copy"
   ]
  },
  {
   "cell_type": "code",
   "execution_count": 283,
   "id": "dcbce0e0",
   "metadata": {},
   "outputs": [
    {
     "name": "stdout",
     "output_type": "stream",
     "text": [
      "[1, 2, 3, 4]\n",
      "[1, 2, 3, 4]\n"
     ]
    }
   ],
   "source": [
    "l1=[1,2,3]\n",
    "l2=l1\n",
    "l2.append(4)\n",
    "print(l2)\n",
    "print(l1)"
   ]
  },
  {
   "cell_type": "markdown",
   "id": "9a3c6838",
   "metadata": {},
   "source": [
    "# difference between list and tuple\n",
    "                      \n",
    "                     list                                        tuple\n",
    "        1.It contains multiple lines                        1.It contains multiple lines\n",
    "        2.Items can be heterogenous                         2.Items are heterogenous\n",
    "        3.Items in[]                                        3.Items in()\n",
    "        4.List items are mutable                            4.Tuple items are immutable\n",
    "        5.Nested list also possible                         5.Nested tuple also possible\n",
    "        ex:mutable(modifications can be done)               ex:immutable(modifications are not done)\n",
    "            add--->aappend,extend,insert                          if no more data is changed means then go for tuple\n",
    "            remove--->remove,pop,del                           -->like list tuple do not add,remove ,replace methods\n",
    "            replace--->var_name[]=value                              tuple have methods that only extracts the data"
   ]
  },
  {
   "cell_type": "markdown",
   "id": "0fa95d68",
   "metadata": {},
   "source": [
    "# TUPLES\n",
    "    1.Tuple is similar to list except tuple are immutable which means we cannot change the elements of a tuple once assigned\n",
    "    2.When we do not want to change the data overtime,tuple is prefered datatype\n",
    "    3.Iteration over the elements of a tuple is faster compared to iteration over a list"
   ]
  },
  {
   "cell_type": "markdown",
   "id": "59603b86",
   "metadata": {},
   "source": [
    "Empty Tuple"
   ]
  },
  {
   "cell_type": "code",
   "execution_count": 284,
   "id": "312487cb",
   "metadata": {},
   "outputs": [
    {
     "name": "stdout",
     "output_type": "stream",
     "text": [
      "()\n"
     ]
    },
    {
     "data": {
      "text/plain": [
       "tuple"
      ]
     },
     "execution_count": 284,
     "metadata": {},
     "output_type": "execute_result"
    }
   ],
   "source": [
    "tup1=()\n",
    "print(tup1)\n",
    "type(tup1)"
   ]
  },
  {
   "cell_type": "code",
   "execution_count": 285,
   "id": "9e7b5810",
   "metadata": {},
   "outputs": [
    {
     "name": "stdout",
     "output_type": "stream",
     "text": [
      "()\n"
     ]
    },
    {
     "data": {
      "text/plain": [
       "tuple"
      ]
     },
     "execution_count": 285,
     "metadata": {},
     "output_type": "execute_result"
    }
   ],
   "source": [
    "tup2=tuple()\n",
    "print(tup2)\n",
    "type(tup2)"
   ]
  },
  {
   "cell_type": "markdown",
   "id": "3082967b",
   "metadata": {},
   "source": [
    "TUPLE IS HETEROGEOUS"
   ]
  },
  {
   "cell_type": "code",
   "execution_count": 286,
   "id": "02a38c07",
   "metadata": {},
   "outputs": [
    {
     "data": {
      "text/plain": [
       "(1, 0.2, True, 'new', [1, 4])"
      ]
     },
     "execution_count": 286,
     "metadata": {},
     "output_type": "execute_result"
    }
   ],
   "source": [
    "t=(1,0.2,True,'new',[1,4])\n",
    "t"
   ]
  },
  {
   "cell_type": "markdown",
   "id": "b84b4035",
   "metadata": {},
   "source": [
    "NESTED TUPLES"
   ]
  },
  {
   "cell_type": "code",
   "execution_count": 287,
   "id": "6cfbbb5c",
   "metadata": {},
   "outputs": [
    {
     "data": {
      "text/plain": [
       "('siva', 25, 25.0, True, [50, 100], (99, 22, 33))"
      ]
     },
     "execution_count": 287,
     "metadata": {},
     "output_type": "execute_result"
    }
   ],
   "source": [
    "tup=('siva',25,25.0,True,[50,100],(99,22,33))      #[50,100] is tuple,individually 50,100 are list items\n",
    "tup"
   ]
  },
  {
   "cell_type": "code",
   "execution_count": 288,
   "id": "3a8afb89",
   "metadata": {},
   "outputs": [
    {
     "data": {
      "text/plain": [
       "6"
      ]
     },
     "execution_count": 288,
     "metadata": {},
     "output_type": "execute_result"
    }
   ],
   "source": [
    "tup=('siva',25,25.0,True,[50,100],(99,22,33))\n",
    "len(tup)"
   ]
  },
  {
   "cell_type": "markdown",
   "id": "1193c6e8",
   "metadata": {},
   "source": [
    "TUPLE INDEXING"
   ]
  },
  {
   "cell_type": "code",
   "execution_count": 289,
   "id": "a5d00b53",
   "metadata": {
    "scrolled": true
   },
   "outputs": [
    {
     "data": {
      "text/plain": [
       "'siva'"
      ]
     },
     "execution_count": 289,
     "metadata": {},
     "output_type": "execute_result"
    }
   ],
   "source": [
    "tup=('siva',25,25.0,True,[50.100],(99,22,33))\n",
    "tup[0]"
   ]
  },
  {
   "cell_type": "code",
   "execution_count": 290,
   "id": "40621dbd",
   "metadata": {},
   "outputs": [
    {
     "data": {
      "text/plain": [
       "33"
      ]
     },
     "execution_count": 290,
     "metadata": {},
     "output_type": "execute_result"
    }
   ],
   "source": [
    "tup[-1][2]"
   ]
  },
  {
   "cell_type": "code",
   "execution_count": 291,
   "id": "0e17e3b5",
   "metadata": {},
   "outputs": [
    {
     "ename": "TypeError",
     "evalue": "'float' object is not subscriptable",
     "output_type": "error",
     "traceback": [
      "\u001b[1;31m---------------------------------------------------------------------------\u001b[0m",
      "\u001b[1;31mTypeError\u001b[0m                                 Traceback (most recent call last)",
      "Cell \u001b[1;32mIn[291], line 1\u001b[0m\n\u001b[1;32m----> 1\u001b[0m \u001b[43mtup\u001b[49m\u001b[43m[\u001b[49m\u001b[38;5;241;43m-\u001b[39;49m\u001b[38;5;241;43m4\u001b[39;49m\u001b[43m]\u001b[49m\u001b[43m[\u001b[49m\u001b[38;5;241;43m2\u001b[39;49m\u001b[43m]\u001b[49m\n",
      "\u001b[1;31mTypeError\u001b[0m: 'float' object is not subscriptable"
     ]
    }
   ],
   "source": [
    "tup[-4][2]"
   ]
  },
  {
   "cell_type": "markdown",
   "id": "5c2414ff",
   "metadata": {},
   "source": [
    "TUPLE SLICING"
   ]
  },
  {
   "cell_type": "code",
   "execution_count": 292,
   "id": "360b9f65",
   "metadata": {},
   "outputs": [
    {
     "data": {
      "text/plain": [
       "('siva', 25, 25.0)"
      ]
     },
     "execution_count": 292,
     "metadata": {},
     "output_type": "execute_result"
    }
   ],
   "source": [
    "tup[0:3]"
   ]
  },
  {
   "cell_type": "markdown",
   "id": "b0c0b458",
   "metadata": {},
   "source": [
    "DELETE ENTIRE TUPLE"
   ]
  },
  {
   "cell_type": "code",
   "execution_count": 293,
   "id": "65ea2712",
   "metadata": {},
   "outputs": [],
   "source": [
    "mytuple=(1,2,3)\n",
    "del mytuple"
   ]
  },
  {
   "cell_type": "markdown",
   "id": "2a1ff53b",
   "metadata": {},
   "source": [
    "TUPLES ARE IMMUTABLE"
   ]
  },
  {
   "cell_type": "code",
   "execution_count": 294,
   "id": "8857cf6a",
   "metadata": {},
   "outputs": [
    {
     "ename": "TypeError",
     "evalue": "'tuple' object does not support item assignment",
     "output_type": "error",
     "traceback": [
      "\u001b[1;31m---------------------------------------------------------------------------\u001b[0m",
      "\u001b[1;31mTypeError\u001b[0m                                 Traceback (most recent call last)",
      "Cell \u001b[1;32mIn[294], line 2\u001b[0m\n\u001b[0;32m      1\u001b[0m t\u001b[38;5;241m=\u001b[39m(\u001b[38;5;241m1\u001b[39m,\u001b[38;5;241m2\u001b[39m,\u001b[38;5;241m3\u001b[39m,\u001b[38;5;241m4\u001b[39m)\n\u001b[1;32m----> 2\u001b[0m t[\u001b[38;5;241m1\u001b[39m]\u001b[38;5;241m=\u001b[39m\u001b[38;5;241m40\u001b[39m                 \u001b[38;5;66;03m#tuples are immutable t[1]=40 cant be changed\u001b[39;00m\n\u001b[0;32m      3\u001b[0m \u001b[38;5;28mprint\u001b[39m(t)\n",
      "\u001b[1;31mTypeError\u001b[0m: 'tuple' object does not support item assignment"
     ]
    }
   ],
   "source": [
    "t=(1,2,3,4)\n",
    "t[1]=40                 #tuples are immutable t[1]=40 cant be changed\n",
    "print(t)"
   ]
  },
  {
   "cell_type": "code",
   "execution_count": 295,
   "id": "a8f69d09",
   "metadata": {},
   "outputs": [
    {
     "ename": "TypeError",
     "evalue": "'tuple' object doesn't support item deletion",
     "output_type": "error",
     "traceback": [
      "\u001b[1;31m---------------------------------------------------------------------------\u001b[0m",
      "\u001b[1;31mTypeError\u001b[0m                                 Traceback (most recent call last)",
      "Cell \u001b[1;32mIn[295], line 2\u001b[0m\n\u001b[0;32m      1\u001b[0m t\u001b[38;5;241m=\u001b[39m(\u001b[38;5;241m1\u001b[39m,\u001b[38;5;241m2\u001b[39m,\u001b[38;5;241m3\u001b[39m,\u001b[38;5;241m4\u001b[39m,\u001b[38;5;241m5\u001b[39m)\n\u001b[1;32m----> 2\u001b[0m \u001b[38;5;28;01mdel\u001b[39;00m t[\u001b[38;5;241m0\u001b[39m]\n",
      "\u001b[1;31mTypeError\u001b[0m: 'tuple' object doesn't support item deletion"
     ]
    }
   ],
   "source": [
    "t=(1,2,3,4,5)\n",
    "del t[0]             #tuple object doesn't support to delete the particular item "
   ]
  },
  {
   "cell_type": "markdown",
   "id": "0cd9cef2",
   "metadata": {},
   "source": [
    "DELETE ONE ITEM IN TUPLE:\n",
    "                        \n",
    "                        FIRSTLY WE HAVE TO CONVERT INTO LIST AND THEN DELETE"
   ]
  },
  {
   "cell_type": "code",
   "execution_count": 296,
   "id": "0452430b",
   "metadata": {},
   "outputs": [
    {
     "name": "stdout",
     "output_type": "stream",
     "text": [
      "[2, 3, 4, 5]\n",
      "(2, 3, 4, 5)\n"
     ]
    }
   ],
   "source": [
    "t=(1,2,3,4,5)\n",
    "a=list(t)\n",
    "del a[0]\n",
    "print(a)\n",
    "t=tuple(a)\n",
    "print(t)"
   ]
  },
  {
   "cell_type": "markdown",
   "id": "a77e078a",
   "metadata": {},
   "source": [
    "CONVERT TUPLE TO LIST\n",
    "\n",
    "        IF WE WANT TO MODIFY ITEM IN TUPLE--------------1.CONVERT THE TUPLE TO LIST\n",
    "                                                        \n",
    "                                                        2.DO THE MODIFICATION\n",
    "                                                        \n",
    "                                                        3.AGAIN CONVERT BACK INTO TUPLE"
   ]
  },
  {
   "cell_type": "code",
   "execution_count": 297,
   "id": "88294090",
   "metadata": {},
   "outputs": [
    {
     "name": "stdout",
     "output_type": "stream",
     "text": [
      "(1, 2, 3, 4, 5)\n"
     ]
    },
    {
     "ename": "TypeError",
     "evalue": "'int' object is not callable",
     "output_type": "error",
     "traceback": [
      "\u001b[1;31m---------------------------------------------------------------------------\u001b[0m",
      "\u001b[1;31mTypeError\u001b[0m                                 Traceback (most recent call last)",
      "Cell \u001b[1;32mIn[297], line 3\u001b[0m\n\u001b[0;32m      1\u001b[0m t\u001b[38;5;241m=\u001b[39m(\u001b[38;5;241m1\u001b[39m,\u001b[38;5;241m2\u001b[39m,\u001b[38;5;241m3\u001b[39m,\u001b[38;5;241m4\u001b[39m,\u001b[38;5;241m5\u001b[39m)\n\u001b[0;32m      2\u001b[0m \u001b[38;5;28mprint\u001b[39m(t)\n\u001b[1;32m----> 3\u001b[0m \u001b[38;5;28mprint\u001b[39m(\u001b[38;5;28;43mid\u001b[39;49m\u001b[43m(\u001b[49m\u001b[43mt\u001b[49m\u001b[43m)\u001b[49m)\n\u001b[0;32m      4\u001b[0m a\u001b[38;5;241m=\u001b[39m\u001b[38;5;28mlist\u001b[39m(t)\n\u001b[0;32m      5\u001b[0m \u001b[38;5;28;01mdel\u001b[39;00m a[\u001b[38;5;241m0\u001b[39m]\n",
      "\u001b[1;31mTypeError\u001b[0m: 'int' object is not callable"
     ]
    }
   ],
   "source": [
    "t=(1,2,3,4,5)\n",
    "print(t)\n",
    "print(id(t))\n",
    "a=list(t)\n",
    "del a[0]\n",
    "t=tuple(a)\n",
    "print(t)\n",
    "print(id(t))"
   ]
  },
  {
   "cell_type": "markdown",
   "id": "80933a7e",
   "metadata": {},
   "source": [
    "# TUPLE METHODS\n",
    "                             1.COUNT\n",
    "                             2.INDEX\n",
    "                             3.SORT"
   ]
  },
  {
   "cell_type": "code",
   "execution_count": 298,
   "id": "fbdeaa73",
   "metadata": {},
   "outputs": [
    {
     "data": {
      "text/plain": [
       "('one', 'two', 'three', 'four', 'one', 'one', 'two', 'three')"
      ]
     },
     "execution_count": 298,
     "metadata": {},
     "output_type": "execute_result"
    }
   ],
   "source": [
    "mytuple=('one','two','three','four','one','one','two','three')\n",
    "mytuple"
   ]
  },
  {
   "cell_type": "markdown",
   "id": "46b7ef53",
   "metadata": {},
   "source": [
    "# tuple.count():\n",
    "            number of items occured in the tuple\n",
    "            \n",
    "        "
   ]
  },
  {
   "cell_type": "code",
   "execution_count": 299,
   "id": "6496973c",
   "metadata": {},
   "outputs": [
    {
     "data": {
      "text/plain": [
       "3"
      ]
     },
     "execution_count": 299,
     "metadata": {},
     "output_type": "execute_result"
    }
   ],
   "source": [
    "mytuple.count('one')"
   ]
  },
  {
   "cell_type": "markdown",
   "id": "7a546c74",
   "metadata": {},
   "source": [
    "# tuple.index():\n",
    "              shows the index of first item if the item repeated many times also"
   ]
  },
  {
   "cell_type": "code",
   "execution_count": 300,
   "id": "0e3ff24c",
   "metadata": {},
   "outputs": [
    {
     "data": {
      "text/plain": [
       "0"
      ]
     },
     "execution_count": 300,
     "metadata": {},
     "output_type": "execute_result"
    }
   ],
   "source": [
    "mytuple.index('one')"
   ]
  },
  {
   "cell_type": "markdown",
   "id": "0c3ede75",
   "metadata": {},
   "source": [
    "# sorting"
   ]
  },
  {
   "cell_type": "code",
   "execution_count": 301,
   "id": "a94d5ac9",
   "metadata": {},
   "outputs": [
    {
     "data": {
      "text/plain": [
       "[6, 12, 43, 67, 67, 90, 99]"
      ]
     },
     "execution_count": 301,
     "metadata": {},
     "output_type": "execute_result"
    }
   ],
   "source": [
    "mytuple=(43,67,99,12,6,90,67)\n",
    "sorted(mytuple)"
   ]
  },
  {
   "cell_type": "code",
   "execution_count": 302,
   "id": "d83a4fda",
   "metadata": {},
   "outputs": [
    {
     "data": {
      "text/plain": [
       "(43, 67, 99, 12, 6, 90, 67)"
      ]
     },
     "execution_count": 302,
     "metadata": {},
     "output_type": "execute_result"
    }
   ],
   "source": [
    "mytuple             # it will not effect the original tuple after sorting also,the original one is same"
   ]
  },
  {
   "cell_type": "markdown",
   "id": "7a26ebad",
   "metadata": {},
   "source": [
    "#   t.sort()   is a method\n",
    "#   sorted(tuple) is a function"
   ]
  },
  {
   "cell_type": "code",
   "execution_count": 303,
   "id": "765dc169",
   "metadata": {},
   "outputs": [
    {
     "data": {
      "text/plain": [
       "5"
      ]
     },
     "execution_count": 303,
     "metadata": {},
     "output_type": "execute_result"
    }
   ],
   "source": [
    "t=(1,2,3,[4,5],(6,7,8))\n",
    "len(t)"
   ]
  },
  {
   "cell_type": "code",
   "execution_count": 304,
   "id": "01c56f47",
   "metadata": {},
   "outputs": [
    {
     "data": {
      "text/plain": [
       "(1, 2, 3, [4, 5, 20], (6, 7, 8))"
      ]
     },
     "execution_count": 304,
     "metadata": {},
     "output_type": "execute_result"
    }
   ],
   "source": [
    "t[-2].append(20)          # for t[-2]we can do   .append(),.sort(),.move(),.pop(),.ext()\n",
    "t  "
   ]
  },
  {
   "cell_type": "code",
   "execution_count": 305,
   "id": "86224e6d",
   "metadata": {},
   "outputs": [
    {
     "ename": "TypeError",
     "evalue": "'tuple' object does not support item assignment",
     "output_type": "error",
     "traceback": [
      "\u001b[1;31m---------------------------------------------------------------------------\u001b[0m",
      "\u001b[1;31mTypeError\u001b[0m                                 Traceback (most recent call last)",
      "Cell \u001b[1;32mIn[305], line 2\u001b[0m\n\u001b[0;32m      1\u001b[0m t\u001b[38;5;241m=\u001b[39m(\u001b[38;5;241m1\u001b[39m,\u001b[38;5;241m2\u001b[39m,\u001b[38;5;241m3\u001b[39m,[\u001b[38;5;241m4\u001b[39m,\u001b[38;5;241m5\u001b[39m],(\u001b[38;5;241m6\u001b[39m,\u001b[38;5;241m7\u001b[39m,\u001b[38;5;241m8\u001b[39m))        \u001b[38;5;66;03m#tuple item cant be changed\u001b[39;00m\n\u001b[1;32m----> 2\u001b[0m t[\u001b[38;5;241m-\u001b[39m\u001b[38;5;241m2\u001b[39m]\u001b[38;5;241m=\u001b[39m\u001b[38;5;241m40\u001b[39m\n",
      "\u001b[1;31mTypeError\u001b[0m: 'tuple' object does not support item assignment"
     ]
    }
   ],
   "source": [
    "t=(1,2,3,[4,5],(6,7,8))        #tuple item cant be changed\n",
    "t[-2]=40"
   ]
  },
  {
   "cell_type": "code",
   "execution_count": 306,
   "id": "cac77f6d",
   "metadata": {},
   "outputs": [
    {
     "data": {
      "text/plain": [
       "(1, 2, 3, [40, 5], (6, 7, 8))"
      ]
     },
     "execution_count": 306,
     "metadata": {},
     "output_type": "execute_result"
    }
   ],
   "source": [
    "t=(1,2,3,[4,5],(6,7,8))\n",
    "t[-2][0]=40                 # here list item in tuple are changed\n",
    "t"
   ]
  },
  {
   "cell_type": "markdown",
   "id": "1036a591",
   "metadata": {},
   "source": [
    "        # SETS                                                        # LIST AND TUPLE\n",
    "    1.It stores multiple items but not in ordered                 1.It stores the items but in ordered\n",
    "    2.{}                                                          2.[]   ()\n",
    "    3.s={1,4,16,2}                                                3.l=[1,4,16,2]        t(0,90,1,16)\n",
    "         it will store the values anyway                               it will store the values as it is\n",
    "         i.e {1,2,4,16}or{1,16,2,4}                                       l=[1,4,16,2]   t=(0,90,1,16)\n",
    "    4.no indexing/slicing        \n",
    "    5.No duplicates are allowed\n",
    "    6.No repetions of items"
   ]
  },
  {
   "cell_type": "markdown",
   "id": "5c09e535",
   "metadata": {},
   "source": [
    "### SETS\n",
    "     --> Sets can be used to perform mathematical set operations like UNION,INTERSECTION,SYMMETRIC DIFFERENCE etc\n",
    "     --> A set is an Unordered collections of items\n",
    "     --> A set is defined by values seperated by comma inside braces{}   \n",
    "      "
   ]
  },
  {
   "cell_type": "code",
   "execution_count": 310,
   "id": "960fbc3d",
   "metadata": {},
   "outputs": [
    {
     "name": "stdout",
     "output_type": "stream",
     "text": [
      "{True, 20, 5, 40, 'a', 10, 30}\n"
     ]
    }
   ],
   "source": [
    "s={10,30,20,40,5,'a',True}\n",
    "print(s)"
   ]
  },
  {
   "cell_type": "markdown",
   "id": "51b7674a",
   "metadata": {},
   "source": [
    "# EVERY ELEMENT IS UNIQUE(NO DUPLICATE)"
   ]
  },
  {
   "cell_type": "code",
   "execution_count": 311,
   "id": "7359ca53",
   "metadata": {},
   "outputs": [
    {
     "name": "stdout",
     "output_type": "stream",
     "text": [
      "{4, 5, 20, 10, 30}\n"
     ]
    }
   ],
   "source": [
    "s={10,4,20,20,30,30,30,5}\n",
    "print(s)"
   ]
  },
  {
   "cell_type": "code",
   "execution_count": 312,
   "id": "6d904c47",
   "metadata": {},
   "outputs": [
    {
     "data": {
      "text/plain": [
       "{1, 2, 3}"
      ]
     },
     "execution_count": 312,
     "metadata": {},
     "output_type": "execute_result"
    }
   ],
   "source": [
    "s={1,2,3}\n",
    "s"
   ]
  },
  {
   "cell_type": "code",
   "execution_count": 313,
   "id": "28e849f8",
   "metadata": {},
   "outputs": [
    {
     "data": {
      "text/plain": [
       "{1, 2, 3}"
      ]
     },
     "execution_count": 313,
     "metadata": {},
     "output_type": "execute_result"
    }
   ],
   "source": [
    "s={3,2,1}\n",
    "s"
   ]
  },
  {
   "cell_type": "markdown",
   "id": "45c6d765",
   "metadata": {},
   "source": [
    "###  Set doesnot support indexing,because it is unordered collection of items"
   ]
  },
  {
   "cell_type": "code",
   "execution_count": 316,
   "id": "15d92f9f",
   "metadata": {},
   "outputs": [
    {
     "ename": "TypeError",
     "evalue": "'set' object is not subscriptable",
     "output_type": "error",
     "traceback": [
      "\u001b[1;31m---------------------------------------------------------------------------\u001b[0m",
      "\u001b[1;31mTypeError\u001b[0m                                 Traceback (most recent call last)",
      "Cell \u001b[1;32mIn[316], line 1\u001b[0m\n\u001b[1;32m----> 1\u001b[0m \u001b[38;5;28mprint\u001b[39m(\u001b[43ms\u001b[49m\u001b[43m[\u001b[49m\u001b[38;5;241;43m1\u001b[39;49m\u001b[43m]\u001b[49m)\n",
      "\u001b[1;31mTypeError\u001b[0m: 'set' object is not subscriptable"
     ]
    }
   ],
   "source": [
    "print(s[1])"
   ]
  },
  {
   "cell_type": "markdown",
   "id": "bffc1f1e",
   "metadata": {},
   "source": [
    "Typecasting on sets"
   ]
  },
  {
   "cell_type": "code",
   "execution_count": 317,
   "id": "4996e739",
   "metadata": {},
   "outputs": [
    {
     "name": "stdout",
     "output_type": "stream",
     "text": [
      "[1, 2, 3]\n"
     ]
    }
   ],
   "source": [
    "l=[1,2,3,1,2,3,1,2]\n",
    "l=list(set(l))            # to remove the duplicates first list is converted into set and then converted to list\n",
    "print(l)"
   ]
  },
  {
   "cell_type": "markdown",
   "id": "c4a445ea",
   "metadata": {},
   "source": [
    "# set methods\n",
    "      set.add(): .add method add an element to the set.if the element already exist in the set,nothing will happen"
   ]
  },
  {
   "cell_type": "code",
   "execution_count": 318,
   "id": "170dbf97",
   "metadata": {},
   "outputs": [
    {
     "name": "stdout",
     "output_type": "stream",
     "text": [
      "{1, 2, 3, 4}\n"
     ]
    }
   ],
   "source": [
    "s={1,2,3}\n",
    "s.add(4)\n",
    "print(s)"
   ]
  },
  {
   "cell_type": "markdown",
   "id": "2ea81f39",
   "metadata": {},
   "source": [
    " if we want to add multiple items,we can use set.update()"
   ]
  },
  {
   "cell_type": "markdown",
   "id": "62937a6b",
   "metadata": {},
   "source": [
    "# set.update():\n",
    "                .update method updates the set with another set or any iterable"
   ]
  },
  {
   "cell_type": "code",
   "execution_count": 319,
   "id": "da5f8c30",
   "metadata": {},
   "outputs": [
    {
     "name": "stdout",
     "output_type": "stream",
     "text": [
      "{1, 2, 3, 4, 5}\n",
      "{1, 2, 3, 4, 5, 'b', 'a'}\n"
     ]
    }
   ],
   "source": [
    "s1={1,2,3}\n",
    "s2={4,5}\n",
    "s1.update(s2)\n",
    "print(s1)\n",
    "s1.update([\"a\",\"b\"])\n",
    "print(s1)"
   ]
  },
  {
   "cell_type": "markdown",
   "id": "e0a6aae8",
   "metadata": {},
   "source": [
    "# set.discard():\n",
    "    .discard method removes the specified element from the set,if the element does not exist in the set nothing will happen"
   ]
  },
  {
   "cell_type": "markdown",
   "id": "bc25aa25",
   "metadata": {},
   "source": [
    "s={1,2,3}\n",
    "s.discard(2)\n",
    "print(s)"
   ]
  },
  {
   "cell_type": "code",
   "execution_count": 320,
   "id": "6750441d",
   "metadata": {},
   "outputs": [
    {
     "name": "stdout",
     "output_type": "stream",
     "text": [
      "{1, 2, 3}\n"
     ]
    }
   ],
   "source": [
    "s={1,2,3}\n",
    "s.discard(7)\n",
    "print(s)"
   ]
  },
  {
   "cell_type": "markdown",
   "id": "62bcb25f",
   "metadata": {},
   "source": [
    "# set.remove():\n",
    "     .remove method the specified element from the set.if the element doesnot exist in a set,a keyerror is raised"
   ]
  },
  {
   "cell_type": "code",
   "execution_count": 321,
   "id": "28a185fe",
   "metadata": {},
   "outputs": [
    {
     "name": "stdout",
     "output_type": "stream",
     "text": [
      "{1, 3}\n"
     ]
    }
   ],
   "source": [
    "s={1,2,3}\n",
    "s.remove(2)\n",
    "print(s)"
   ]
  },
  {
   "cell_type": "code",
   "execution_count": 322,
   "id": "a49f2912",
   "metadata": {},
   "outputs": [
    {
     "ename": "KeyError",
     "evalue": "7",
     "output_type": "error",
     "traceback": [
      "\u001b[1;31m---------------------------------------------------------------------------\u001b[0m",
      "\u001b[1;31mKeyError\u001b[0m                                  Traceback (most recent call last)",
      "Cell \u001b[1;32mIn[322], line 2\u001b[0m\n\u001b[0;32m      1\u001b[0m s\u001b[38;5;241m=\u001b[39m{\u001b[38;5;241m1\u001b[39m,\u001b[38;5;241m2\u001b[39m,\u001b[38;5;241m3\u001b[39m}\n\u001b[1;32m----> 2\u001b[0m \u001b[43ms\u001b[49m\u001b[38;5;241;43m.\u001b[39;49m\u001b[43mremove\u001b[49m\u001b[43m(\u001b[49m\u001b[38;5;241;43m7\u001b[39;49m\u001b[43m)\u001b[49m\n\u001b[0;32m      3\u001b[0m \u001b[38;5;28mprint\u001b[39m(s)\n",
      "\u001b[1;31mKeyError\u001b[0m: 7"
     ]
    }
   ],
   "source": [
    "s={1,2,3}\n",
    "s.remove(7)\n",
    "print(s)"
   ]
  },
  {
   "cell_type": "markdown",
   "id": "1c5ab768",
   "metadata": {},
   "source": [
    "Difference between s.discard() and s.remove()_______\n",
    "\n",
    "             in s.discard(), if the element is available remove it\n",
    "             \n",
    "                 s.remove(), if the element is available remove it or else throw the error"
   ]
  },
  {
   "cell_type": "markdown",
   "id": "ad749d15",
   "metadata": {},
   "source": [
    "### set.clear():\n",
    "              .clear method removes all element from the set"
   ]
  },
  {
   "cell_type": "code",
   "execution_count": 323,
   "id": "e9879d36",
   "metadata": {},
   "outputs": [
    {
     "name": "stdout",
     "output_type": "stream",
     "text": [
      "set()\n"
     ]
    }
   ],
   "source": [
    "s={1,2,3}\n",
    "s.clear()        # all elements are aleared and the output is empty set i.e set()\n",
    "print(s)"
   ]
  },
  {
   "cell_type": "code",
   "execution_count": 324,
   "id": "73adfac6",
   "metadata": {},
   "outputs": [
    {
     "ename": "NameError",
     "evalue": "name 's' is not defined",
     "output_type": "error",
     "traceback": [
      "\u001b[1;31m---------------------------------------------------------------------------\u001b[0m",
      "\u001b[1;31mNameError\u001b[0m                                 Traceback (most recent call last)",
      "Cell \u001b[1;32mIn[324], line 3\u001b[0m\n\u001b[0;32m      1\u001b[0m s\u001b[38;5;241m=\u001b[39m{\u001b[38;5;241m1\u001b[39m,\u001b[38;5;241m5\u001b[39m,\u001b[38;5;241m2\u001b[39m,\u001b[38;5;241m3\u001b[39m,\u001b[38;5;241m6\u001b[39m}\n\u001b[0;32m      2\u001b[0m \u001b[38;5;28;01mdel\u001b[39;00m s            \u001b[38;5;66;03m# delete the variable,the entire object is deleted \u001b[39;00m\n\u001b[1;32m----> 3\u001b[0m \u001b[38;5;28mprint\u001b[39m(\u001b[43ms\u001b[49m)\n",
      "\u001b[1;31mNameError\u001b[0m: name 's' is not defined"
     ]
    }
   ],
   "source": [
    "s={1,5,2,3,6}\n",
    "del s            # delete the variable,the entire object is deleted \n",
    "print(s)"
   ]
  },
  {
   "cell_type": "markdown",
   "id": "e98946a8",
   "metadata": {},
   "source": [
    "# set.copy():\n",
    "         --> .copy method returns a shallow copy of the set\n",
    "        ---> changes to the copied set doesnot affect the original set"
   ]
  },
  {
   "cell_type": "code",
   "execution_count": 325,
   "id": "4c6109cc",
   "metadata": {},
   "outputs": [
    {
     "name": "stdout",
     "output_type": "stream",
     "text": [
      "{1, 2, 3}\n",
      "{1, 2, 3}\n",
      "{1, 2, 3}\n",
      "{1, 2, 3, 4}\n"
     ]
    }
   ],
   "source": [
    "s1={1,2,3}\n",
    "s2=s1.copy()\n",
    "print(s1)\n",
    "print(s2)\n",
    "s2.add(4)\n",
    "print(s1)\n",
    "print(s2)"
   ]
  },
  {
   "cell_type": "markdown",
   "id": "4ddcb22f",
   "metadata": {},
   "source": [
    "# set.isdisjoint():\n",
    "             .isdisjoint method returns True if two sets have no intersection,otherwise it returns False"
   ]
  },
  {
   "cell_type": "code",
   "execution_count": 326,
   "id": "a77e17e9",
   "metadata": {},
   "outputs": [
    {
     "name": "stdout",
     "output_type": "stream",
     "text": [
      "True\n",
      "False\n"
     ]
    }
   ],
   "source": [
    "s1={1,2,3}\n",
    "s2={4,5,6}\n",
    "s3={7,5,9}\n",
    "s=s1.isdisjoint(s2)\n",
    "print(s)\n",
    "s=s2.isdisjoint(s3)\n",
    "print(s)"
   ]
  },
  {
   "cell_type": "markdown",
   "id": "aa50f5e9",
   "metadata": {},
   "source": [
    "# issubset():\n",
    "          issubset method returns True if all elements of first set are available in second set,otherwise it returns false"
   ]
  },
  {
   "cell_type": "code",
   "execution_count": 327,
   "id": "ab4f26e7",
   "metadata": {},
   "outputs": [
    {
     "name": "stdout",
     "output_type": "stream",
     "text": [
      "True\n",
      "False\n"
     ]
    }
   ],
   "source": [
    "s1={3,4,5}\n",
    "s2={3,4,5,6}\n",
    "s=s1.issubset(s2)\n",
    "print(s)\n",
    "s=s2.issubset(s1)\n",
    "print(s)"
   ]
  },
  {
   "cell_type": "markdown",
   "id": "3e9cfb76",
   "metadata": {},
   "source": [
    "# issuperset():\n",
    "        returns true if all elements of second set are available in first set,otherwise it returns false"
   ]
  },
  {
   "cell_type": "code",
   "execution_count": 328,
   "id": "623260ff",
   "metadata": {},
   "outputs": [
    {
     "name": "stdout",
     "output_type": "stream",
     "text": [
      "False\n",
      "True\n"
     ]
    }
   ],
   "source": [
    "s1={3,4,5}\n",
    "s2={3,4,5,6}\n",
    "s=s1.issuperset(s2)\n",
    "print(s)\n",
    "s=s2.issuperset(s1)\n",
    "print(s)"
   ]
  },
  {
   "cell_type": "markdown",
   "id": "3db6d078",
   "metadata": {},
   "source": [
    "# Set operations"
   ]
  },
  {
   "cell_type": "markdown",
   "id": "6d54bb7b",
   "metadata": {},
   "source": [
    " # set.union:\n",
    "          returns a new set with elements from both sets"
   ]
  },
  {
   "cell_type": "code",
   "execution_count": 329,
   "id": "b19a90d2",
   "metadata": {},
   "outputs": [
    {
     "data": {
      "text/plain": [
       "{1, 2, 3, 4}"
      ]
     },
     "execution_count": 329,
     "metadata": {},
     "output_type": "execute_result"
    }
   ],
   "source": [
    "setA={1,2,3}\n",
    "setB={2,3,4}\n",
    "setA.union(setB)"
   ]
  },
  {
   "cell_type": "markdown",
   "id": "8bdda764",
   "metadata": {},
   "source": [
    "# set.intersection():\n",
    "                returns a new set with elements that are common to all sets"
   ]
  },
  {
   "cell_type": "code",
   "execution_count": 330,
   "id": "51bc3c51",
   "metadata": {},
   "outputs": [
    {
     "data": {
      "text/plain": [
       "{2, 3}"
      ]
     },
     "execution_count": 330,
     "metadata": {},
     "output_type": "execute_result"
    }
   ],
   "source": [
    "setA={1,2,3}\n",
    "setB={2,3,4}\n",
    "setA.intersection(setB)\n"
   ]
  },
  {
   "cell_type": "markdown",
   "id": "5d64fbe2",
   "metadata": {},
   "source": [
    "# set.difference():\n",
    "                returns a new set with elements in the set that are not in the other specified sets"
   ]
  },
  {
   "cell_type": "code",
   "execution_count": 331,
   "id": "8693eaaf",
   "metadata": {},
   "outputs": [
    {
     "name": "stdout",
     "output_type": "stream",
     "text": [
      "{1}\n",
      "{4}\n"
     ]
    }
   ],
   "source": [
    "setA={1,2,3}\n",
    "setB={2,3,4}\n",
    "print(setA-setB)\n",
    "print(setB-setA)"
   ]
  },
  {
   "cell_type": "markdown",
   "id": "14af7569",
   "metadata": {},
   "source": [
    "# set.symmertrical_difference():\n",
    "                returns a new set with element that are either of the sets but not in both\n",
    "                (A union B)-(A intersection B )"
   ]
  },
  {
   "cell_type": "code",
   "execution_count": 332,
   "id": "c0722299",
   "metadata": {},
   "outputs": [
    {
     "data": {
      "text/plain": [
       "{1, 4}"
      ]
     },
     "execution_count": 332,
     "metadata": {},
     "output_type": "execute_result"
    }
   ],
   "source": [
    "setA={1,2,3}\n",
    "setB={2,3,4}\n",
    "setA.symmetric_difference(setB)"
   ]
  },
  {
   "cell_type": "markdown",
   "id": "8993257b",
   "metadata": {},
   "source": [
    "# Dictionaries\n",
    "            Dictionary is an unordered collection"
   ]
  },
  {
   "cell_type": "markdown",
   "id": "e7085e5c",
   "metadata": {},
   "source": [
    "# empty dictionary\n",
    "             create an empty dictionary (two ways)\n",
    "         empty_dict={}\n",
    "         empty_dict=dict()"
   ]
  },
  {
   "cell_type": "code",
   "execution_count": 333,
   "id": "d80b1961",
   "metadata": {},
   "outputs": [
    {
     "ename": "NameError",
     "evalue": "name 'empty_dict' is not defined",
     "output_type": "error",
     "traceback": [
      "\u001b[1;31m---------------------------------------------------------------------------\u001b[0m",
      "\u001b[1;31mNameError\u001b[0m                                 Traceback (most recent call last)",
      "Cell \u001b[1;32mIn[333], line 1\u001b[0m\n\u001b[1;32m----> 1\u001b[0m \u001b[43mempty_dict\u001b[49m\n",
      "\u001b[1;31mNameError\u001b[0m: name 'empty_dict' is not defined"
     ]
    }
   ],
   "source": [
    "empty_dict"
   ]
  },
  {
   "cell_type": "markdown",
   "id": "88e1046a",
   "metadata": {},
   "source": [
    "In python,dictionaries are defined with in braces{} with each item being key:value\n",
    "\n",
    "keys can be of fundamental datatype,generally the keys are int or str\n",
    "\n",
    "values can be of any datatype"
   ]
  },
  {
   "cell_type": "markdown",
   "id": "35cf9a5b",
   "metadata": {},
   "source": [
    "empty dict---->{}\n",
    "empty set-----> set()\n",
    " \n",
    "     with items  ----->\n",
    "                       set --->{1,2,3,4,5}\n",
    "                       dict--->{'k':1,'j':4,'s':5}\n",
    "                k:1,j:4,s:5 are items\n",
    "                             in that k,j,s are keys\n",
    "                                     1,4,5 are values\n",
    "                                     "
   ]
  },
  {
   "cell_type": "code",
   "execution_count": 334,
   "id": "98c53276",
   "metadata": {},
   "outputs": [
    {
     "data": {
      "text/plain": [
       "set"
      ]
     },
     "execution_count": 334,
     "metadata": {},
     "output_type": "execute_result"
    }
   ],
   "source": [
    "d={1}\n",
    "type(d)\n"
   ]
  },
  {
   "cell_type": "code",
   "execution_count": 335,
   "id": "04962b3f",
   "metadata": {},
   "outputs": [
    {
     "data": {
      "text/plain": [
       "dict"
      ]
     },
     "execution_count": 335,
     "metadata": {},
     "output_type": "execute_result"
    }
   ],
   "source": [
    "d={1:4}\n",
    "type(d)"
   ]
  },
  {
   "cell_type": "code",
   "execution_count": 336,
   "id": "2cdc964a",
   "metadata": {},
   "outputs": [
    {
     "data": {
      "text/plain": [
       "dict_keys([1])"
      ]
     },
     "execution_count": 336,
     "metadata": {},
     "output_type": "execute_result"
    }
   ],
   "source": [
    "d.keys()"
   ]
  },
  {
   "cell_type": "code",
   "execution_count": 337,
   "id": "6cb3da77",
   "metadata": {},
   "outputs": [
    {
     "data": {
      "text/plain": [
       "dict_items([(1, 4)])"
      ]
     },
     "execution_count": 337,
     "metadata": {},
     "output_type": "execute_result"
    }
   ],
   "source": [
    "d.items()"
   ]
  },
  {
   "cell_type": "code",
   "execution_count": 338,
   "id": "a4b203c3",
   "metadata": {},
   "outputs": [
    {
     "data": {
      "text/plain": [
       "dict_values([4])"
      ]
     },
     "execution_count": 338,
     "metadata": {},
     "output_type": "execute_result"
    }
   ],
   "source": [
    "d.values()"
   ]
  },
  {
   "cell_type": "markdown",
   "id": "710c0d2b",
   "metadata": {},
   "source": [
    "Dictionary with multiple items"
   ]
  },
  {
   "cell_type": "code",
   "execution_count": 339,
   "id": "e49173e9",
   "metadata": {},
   "outputs": [
    {
     "data": {
      "text/plain": [
       "{1: 456,\n",
       " 10.4: [3, 9, 15],\n",
       " 'key3': (94, 8, 23),\n",
       " 'key4': {'item1', 'item2', 'item3'}}"
      ]
     },
     "execution_count": 339,
     "metadata": {},
     "output_type": "execute_result"
    }
   ],
   "source": [
    "d={1:456,10.4:[3,9,15],'key3':(94,8,23),'key4':{'item1','item2','item3'}}\n",
    "d"
   ]
  },
  {
   "cell_type": "code",
   "execution_count": 340,
   "id": "0dcb4ff8",
   "metadata": {},
   "outputs": [
    {
     "data": {
      "text/plain": [
       "dict_keys([1, 10.4, 'key3', 'key4'])"
      ]
     },
     "execution_count": 340,
     "metadata": {},
     "output_type": "execute_result"
    }
   ],
   "source": [
    "d.keys()\n"
   ]
  },
  {
   "cell_type": "code",
   "execution_count": 341,
   "id": "95e17b5e",
   "metadata": {},
   "outputs": [
    {
     "data": {
      "text/plain": [
       "dict_values([456, [3, 9, 15], (94, 8, 23), {'item1', 'item2', 'item3'}])"
      ]
     },
     "execution_count": 341,
     "metadata": {},
     "output_type": "execute_result"
    }
   ],
   "source": [
    "d.values()"
   ]
  },
  {
   "cell_type": "code",
   "execution_count": 342,
   "id": "09501075",
   "metadata": {},
   "outputs": [
    {
     "data": {
      "text/plain": [
       "4"
      ]
     },
     "execution_count": 342,
     "metadata": {},
     "output_type": "execute_result"
    }
   ],
   "source": [
    "len(d.values())"
   ]
  },
  {
   "cell_type": "code",
   "execution_count": 343,
   "id": "a4058667",
   "metadata": {},
   "outputs": [
    {
     "name": "stdout",
     "output_type": "stream",
     "text": [
      "dict_items([(1, 456), (10.4, [3, 9, 15]), ('key3', (94, 8, 23)), ('key4', {'item1', 'item2', 'item3'})])\n"
     ]
    }
   ],
   "source": [
    "print(d.items())"
   ]
  },
  {
   "cell_type": "markdown",
   "id": "f911bd53",
   "metadata": {},
   "source": [
    "Create a dictionary in two ways\n"
   ]
  },
  {
   "cell_type": "code",
   "execution_count": 344,
   "id": "e32f8ba9",
   "metadata": {},
   "outputs": [
    {
     "data": {
      "text/plain": [
       "{'dad': 'homer', 'mom': 'merge', 'size': 6}"
      ]
     },
     "execution_count": 344,
     "metadata": {},
     "output_type": "execute_result"
    }
   ],
   "source": [
    "family={'dad':'homer','mom':'merge','size':6}\n",
    "family"
   ]
  },
  {
   "cell_type": "code",
   "execution_count": 345,
   "id": "179a9d84",
   "metadata": {},
   "outputs": [
    {
     "data": {
      "text/plain": [
       "{'dad': 'homer', 'mom': 'merge', 'size': 6}"
      ]
     },
     "execution_count": 345,
     "metadata": {},
     "output_type": "execute_result"
    }
   ],
   "source": [
    "family=dict(dad='homer',mom='merge',size=6)\n",
    "family"
   ]
  },
  {
   "cell_type": "markdown",
   "id": "eacba887",
   "metadata": {},
   "source": [
    "similarly\n",
    "       for list"
   ]
  },
  {
   "cell_type": "code",
   "execution_count": 346,
   "id": "1fde1f39",
   "metadata": {},
   "outputs": [
    {
     "name": "stdout",
     "output_type": "stream",
     "text": [
      "[1, 2, 3, 4]\n"
     ]
    }
   ],
   "source": [
    "l=[1,2,3,4]\n",
    "print(l)"
   ]
  },
  {
   "cell_type": "code",
   "execution_count": 347,
   "id": "2d6fec59",
   "metadata": {},
   "outputs": [
    {
     "data": {
      "text/plain": [
       "[1, 2, 3, 4]"
      ]
     },
     "execution_count": 347,
     "metadata": {},
     "output_type": "execute_result"
    }
   ],
   "source": [
    "l=list((1,2,3,4))\n",
    "l"
   ]
  },
  {
   "cell_type": "markdown",
   "id": "96cd5921",
   "metadata": {},
   "source": [
    "for tuple"
   ]
  },
  {
   "cell_type": "code",
   "execution_count": 348,
   "id": "a2a055f3",
   "metadata": {},
   "outputs": [
    {
     "data": {
      "text/plain": [
       "(1, 2, 3, 4)"
      ]
     },
     "execution_count": 348,
     "metadata": {},
     "output_type": "execute_result"
    }
   ],
   "source": [
    "t=tuple((1,2,3,4))\n",
    "t"
   ]
  },
  {
   "cell_type": "code",
   "execution_count": 349,
   "id": "8dd9335f",
   "metadata": {},
   "outputs": [
    {
     "data": {
      "text/plain": [
       "(1, 2, 3, 4)"
      ]
     },
     "execution_count": 349,
     "metadata": {},
     "output_type": "execute_result"
    }
   ],
   "source": [
    "tup=(1,2,3,4)\n",
    "tup"
   ]
  },
  {
   "cell_type": "markdown",
   "id": "7e91110d",
   "metadata": {},
   "source": [
    "for set"
   ]
  },
  {
   "cell_type": "code",
   "execution_count": 350,
   "id": "67012965",
   "metadata": {},
   "outputs": [
    {
     "data": {
      "text/plain": [
       "{1, 2, 3, 4}"
      ]
     },
     "execution_count": 350,
     "metadata": {},
     "output_type": "execute_result"
    }
   ],
   "source": [
    "s=set((1,2,3,4))\n",
    "s"
   ]
  },
  {
   "cell_type": "code",
   "execution_count": 351,
   "id": "ee3f36f9",
   "metadata": {},
   "outputs": [
    {
     "data": {
      "text/plain": [
       "{1, 2, 3, 4}"
      ]
     },
     "execution_count": 351,
     "metadata": {},
     "output_type": "execute_result"
    }
   ],
   "source": [
    "s={1,2,3,4}\n",
    "s"
   ]
  },
  {
   "cell_type": "markdown",
   "id": "e2482fc5",
   "metadata": {},
   "source": [
    "CONVERT A LIST OF TUPLES INTO A DICTIONARY"
   ]
  },
  {
   "cell_type": "code",
   "execution_count": 352,
   "id": "a225c57b",
   "metadata": {},
   "outputs": [
    {
     "data": {
      "text/plain": [
       "{'dad': 'homer', 'mom': 'marge', 'size': 6}"
      ]
     },
     "execution_count": 352,
     "metadata": {},
     "output_type": "execute_result"
    }
   ],
   "source": [
    "list_of_tuples=[('dad','homer'),('mom','marge'),('size',6)]\n",
    "family=dict(list_of_tuples)\n",
    "family"
   ]
  },
  {
   "cell_type": "markdown",
   "id": "9c6277fb",
   "metadata": {},
   "source": [
    "# Nested Dictionary:\n",
    "                  if atleast one value is dict,then it is called as nested dictionary"
   ]
  },
  {
   "cell_type": "code",
   "execution_count": 353,
   "id": "b398cbc4",
   "metadata": {},
   "outputs": [
    {
     "name": "stdout",
     "output_type": "stream",
     "text": [
      "{'car1': 1989, 'car2': 123, 'car3': {1: 3}}\n"
     ]
    },
    {
     "data": {
      "text/plain": [
       "3"
      ]
     },
     "execution_count": 353,
     "metadata": {},
     "output_type": "execute_result"
    }
   ],
   "source": [
    "cars={'car1':1989,'car2':123,'car3':{1:3}}\n",
    "print(cars)\n",
    "len(cars)"
   ]
  },
  {
   "cell_type": "code",
   "execution_count": 354,
   "id": "c97f1002",
   "metadata": {},
   "outputs": [
    {
     "ename": "KeyError",
     "evalue": "0",
     "output_type": "error",
     "traceback": [
      "\u001b[1;31m---------------------------------------------------------------------------\u001b[0m",
      "\u001b[1;31mKeyError\u001b[0m                                  Traceback (most recent call last)",
      "Cell \u001b[1;32mIn[354], line 1\u001b[0m\n\u001b[1;32m----> 1\u001b[0m \u001b[43mcars\u001b[49m\u001b[43m[\u001b[49m\u001b[38;5;241;43m0\u001b[39;49m\u001b[43m]\u001b[49m\n",
      "\u001b[1;31mKeyError\u001b[0m: 0"
     ]
    }
   ],
   "source": [
    "cars[0]      # if we write the index number,it will throw errors,we have write the keyname in dict"
   ]
  },
  {
   "cell_type": "code",
   "execution_count": 355,
   "id": "c2c2afa9",
   "metadata": {},
   "outputs": [
    {
     "data": {
      "text/plain": [
       "1989"
      ]
     },
     "execution_count": 355,
     "metadata": {},
     "output_type": "execute_result"
    }
   ],
   "source": [
    "cars['car1']"
   ]
  },
  {
   "cell_type": "code",
   "execution_count": 356,
   "id": "f910bc66",
   "metadata": {},
   "outputs": [
    {
     "data": {
      "text/plain": [
       "123"
      ]
     },
     "execution_count": 356,
     "metadata": {},
     "output_type": "execute_result"
    }
   ],
   "source": [
    "cars['car2']"
   ]
  },
  {
   "cell_type": "code",
   "execution_count": 357,
   "id": "b2124b58",
   "metadata": {},
   "outputs": [
    {
     "data": {
      "text/plain": [
       "{1: 3}"
      ]
     },
     "execution_count": 357,
     "metadata": {},
     "output_type": "execute_result"
    }
   ],
   "source": [
    "cars['car3']"
   ]
  },
  {
   "cell_type": "code",
   "execution_count": 358,
   "id": "0dcf12f4",
   "metadata": {},
   "outputs": [
    {
     "data": {
      "text/plain": [
       "3"
      ]
     },
     "execution_count": 358,
     "metadata": {},
     "output_type": "execute_result"
    }
   ],
   "source": [
    "cars['car3'][1]"
   ]
  },
  {
   "cell_type": "code",
   "execution_count": 359,
   "id": "e80fe5fe",
   "metadata": {},
   "outputs": [
    {
     "data": {
      "text/plain": [
       "{'s': [1, 2, 3, 4]}"
      ]
     },
     "execution_count": 359,
     "metadata": {},
     "output_type": "execute_result"
    }
   ],
   "source": [
    "di={\"s\":[1,2,3,4]}\n",
    "di"
   ]
  },
  {
   "cell_type": "code",
   "execution_count": 360,
   "id": "8fc6c969",
   "metadata": {},
   "outputs": [
    {
     "data": {
      "text/plain": [
       "[1, 2, 3, 4]"
      ]
     },
     "execution_count": 360,
     "metadata": {},
     "output_type": "execute_result"
    }
   ],
   "source": [
    "di[\"s\"]"
   ]
  },
  {
   "cell_type": "code",
   "execution_count": 361,
   "id": "ad8ff814",
   "metadata": {},
   "outputs": [
    {
     "data": {
      "text/plain": [
       "1"
      ]
     },
     "execution_count": 361,
     "metadata": {},
     "output_type": "execute_result"
    }
   ],
   "source": [
    "di[\"s\"][0]             # here,list is output for list, index number is accepted"
   ]
  },
  {
   "cell_type": "code",
   "execution_count": 362,
   "id": "83eb0b99",
   "metadata": {},
   "outputs": [
    {
     "data": {
      "text/plain": [
       "{'history': 45, 'hindi': 56}"
      ]
     },
     "execution_count": 362,
     "metadata": {},
     "output_type": "execute_result"
    }
   ],
   "source": [
    "marks={'history':45,'hindi':56}\n",
    "marks"
   ]
  },
  {
   "cell_type": "markdown",
   "id": "758f2fe1",
   "metadata": {},
   "source": [
    " total no of items"
   ]
  },
  {
   "cell_type": "code",
   "execution_count": 363,
   "id": "7fa715a5",
   "metadata": {},
   "outputs": [
    {
     "data": {
      "text/plain": [
       "2"
      ]
     },
     "execution_count": 363,
     "metadata": {},
     "output_type": "execute_result"
    }
   ],
   "source": [
    "len(marks)"
   ]
  },
  {
   "cell_type": "markdown",
   "id": "2c3696ba",
   "metadata": {},
   "source": [
    "# Dictionary Methods"
   ]
  },
  {
   "cell_type": "markdown",
   "id": "cf930cdf",
   "metadata": {},
   "source": [
    "# dict_items():\n",
    "             .items() method returns a list of key_value pairs in the dictionary\n",
    "         "
   ]
  },
  {
   "cell_type": "code",
   "execution_count": 364,
   "id": "8050cd50",
   "metadata": {},
   "outputs": [
    {
     "data": {
      "text/plain": [
       "dict_items([('history', 45), ('hindi', 56)])"
      ]
     },
     "execution_count": 364,
     "metadata": {},
     "output_type": "execute_result"
    }
   ],
   "source": [
    "marks={'history':45,'hindi':56}   #output is items are seperated based on the multiple tuples,where with in each tuple\n",
    "marks.items()                     # one is key and one is value"
   ]
  },
  {
   "cell_type": "code",
   "execution_count": 365,
   "id": "f2fdf442",
   "metadata": {},
   "outputs": [
    {
     "data": {
      "text/plain": [
       "dict_items([('history', [1, 2, 3]), ('hindi', 56)])"
      ]
     },
     "execution_count": 365,
     "metadata": {},
     "output_type": "execute_result"
    }
   ],
   "source": [
    "marks={'history':[1,2,3],'hindi':56}\n",
    "marks.items()"
   ]
  },
  {
   "cell_type": "markdown",
   "id": "45a633d9",
   "metadata": {},
   "source": [
    "# dict.keys():\n",
    "              .keys() method return a list of keys in the dictionary"
   ]
  },
  {
   "cell_type": "code",
   "execution_count": 366,
   "id": "2f4dc4ec",
   "metadata": {},
   "outputs": [
    {
     "data": {
      "text/plain": [
       "dict_keys(['history', 'hindi'])"
      ]
     },
     "execution_count": 366,
     "metadata": {},
     "output_type": "execute_result"
    }
   ],
   "source": [
    "marks={'history':45,'hindi':56}\n",
    "marks.keys()"
   ]
  },
  {
   "cell_type": "markdown",
   "id": "64f08a1d",
   "metadata": {},
   "source": [
    "# dict.values():\n",
    "             .values() method return a list of values in the dictionary"
   ]
  },
  {
   "cell_type": "code",
   "execution_count": 367,
   "id": "d431e61d",
   "metadata": {},
   "outputs": [
    {
     "data": {
      "text/plain": [
       "dict_values([45, 56])"
      ]
     },
     "execution_count": 367,
     "metadata": {},
     "output_type": "execute_result"
    }
   ],
   "source": [
    "marks={'history':45,'hindi':56}\n",
    "marks.values()"
   ]
  },
  {
   "cell_type": "markdown",
   "id": "aed82750",
   "metadata": {},
   "source": [
    "# dict.pop():\n",
    "           --->  .pop() method removes and return the values of the specified key\n",
    "           --->  if the key doesnot exist,it raises a key error"
   ]
  },
  {
   "cell_type": "code",
   "execution_count": 368,
   "id": "ec18d930",
   "metadata": {},
   "outputs": [
    {
     "name": "stdout",
     "output_type": "stream",
     "text": [
      "{'hindi': 56}\n"
     ]
    }
   ],
   "source": [
    "marks={'history':45,'hindi':56}\n",
    "marks.pop(\"history\")\n",
    "print(marks)"
   ]
  },
  {
   "cell_type": "code",
   "execution_count": 369,
   "id": "dccb25db",
   "metadata": {},
   "outputs": [
    {
     "ename": "KeyError",
     "evalue": "'english'",
     "output_type": "error",
     "traceback": [
      "\u001b[1;31m---------------------------------------------------------------------------\u001b[0m",
      "\u001b[1;31mKeyError\u001b[0m                                  Traceback (most recent call last)",
      "Cell \u001b[1;32mIn[369], line 1\u001b[0m\n\u001b[1;32m----> 1\u001b[0m \u001b[43mmarks\u001b[49m\u001b[38;5;241;43m.\u001b[39;49m\u001b[43mpop\u001b[49m\u001b[43m(\u001b[49m\u001b[38;5;124;43m\"\u001b[39;49m\u001b[38;5;124;43menglish\u001b[39;49m\u001b[38;5;124;43m\"\u001b[39;49m\u001b[43m)\u001b[49m\n",
      "\u001b[1;31mKeyError\u001b[0m: 'english'"
     ]
    }
   ],
   "source": [
    "marks.pop(\"english\")             # there is no english key"
   ]
  },
  {
   "cell_type": "markdown",
   "id": "faeea7cb",
   "metadata": {},
   "source": [
    "# dict.popitem():\n",
    "            ---> .pop item() method removes and return the last inserted key_value pair in the dictionary\n",
    "            ---> if the dictionary is empty,it raises a key error\n",
    "             "
   ]
  },
  {
   "cell_type": "code",
   "execution_count": 370,
   "id": "f168e330",
   "metadata": {},
   "outputs": [
    {
     "name": "stdout",
     "output_type": "stream",
     "text": [
      "{'history': 45}\n"
     ]
    }
   ],
   "source": [
    "marks={'history':45,'hindi':56}\n",
    "marks.popitem()                 # whatever in the last,that will be removed default,the last one is removed\n",
    "print(marks)"
   ]
  },
  {
   "cell_type": "code",
   "execution_count": 371,
   "id": "57696882",
   "metadata": {},
   "outputs": [
    {
     "name": "stdout",
     "output_type": "stream",
     "text": [
      "{'history': 45, 'hindi': 56}\n"
     ]
    }
   ],
   "source": [
    "marks={'history':45,'hindi':56,'maths':98}\n",
    "marks.popitem()\n",
    "print(marks)"
   ]
  },
  {
   "cell_type": "markdown",
   "id": "acefc547",
   "metadata": {},
   "source": [
    "# dict.clear():\n",
    "            .clear() method removes all items from the dictionary "
   ]
  },
  {
   "cell_type": "code",
   "execution_count": 372,
   "id": "e90b22e8",
   "metadata": {},
   "outputs": [
    {
     "name": "stdout",
     "output_type": "stream",
     "text": [
      "{}\n"
     ]
    }
   ],
   "source": [
    "marks={'history':45,'hindi':56}\n",
    "marks.clear()                   # by removing the items in the dict,the output is empty dictionary i.e {}\n",
    "print(marks)"
   ]
  },
  {
   "cell_type": "markdown",
   "id": "ae1ec88b",
   "metadata": {},
   "source": [
    "# dict.copy():\n",
    "        ----> .copy() method returns a shallow copy of the dictionary\n",
    "        ---->  changes the copy of the dictionary do not affect the original dictionary"
   ]
  },
  {
   "cell_type": "code",
   "execution_count": 373,
   "id": "9b898b79",
   "metadata": {},
   "outputs": [
    {
     "name": "stdout",
     "output_type": "stream",
     "text": [
      "{'history': 45, 'hindi': 56}\n",
      "{'history': 45, 'hindi': 56}\n"
     ]
    }
   ],
   "source": [
    "d={'history':45,'hindi':56}\n",
    "a=d.copy()\n",
    "print(d)\n",
    "print(a)"
   ]
  },
  {
   "cell_type": "markdown",
   "id": "43927184",
   "metadata": {},
   "source": [
    "### Difference between the == and is _________\n",
    "\n",
    "          == compare the values within the object\n",
    "          \n",
    "           is compare the ids "
   ]
  },
  {
   "cell_type": "code",
   "execution_count": 374,
   "id": "99026e13",
   "metadata": {},
   "outputs": [
    {
     "data": {
      "text/plain": [
       "True"
      ]
     },
     "execution_count": 374,
     "metadata": {},
     "output_type": "execute_result"
    }
   ],
   "source": [
    "d==a"
   ]
  },
  {
   "cell_type": "code",
   "execution_count": 375,
   "id": "e3340eac",
   "metadata": {},
   "outputs": [
    {
     "data": {
      "text/plain": [
       "False"
      ]
     },
     "execution_count": 375,
     "metadata": {},
     "output_type": "execute_result"
    }
   ],
   "source": [
    "d is a"
   ]
  },
  {
   "cell_type": "markdown",
   "id": "6d28e509",
   "metadata": {},
   "source": [
    "# dict.get():\n",
    "           ----> .get() method returns a value of the specified key\n",
    "           ---->  if the key is not present in the dictionary,it will return \"None\"\n",
    "           ---->  we can get the value by using another way also dict_name[key]\n",
    "        "
   ]
  },
  {
   "cell_type": "markdown",
   "id": "caf8c66d",
   "metadata": {},
   "source": [
    "two options are ther to dict.get()"
   ]
  },
  {
   "cell_type": "code",
   "execution_count": 376,
   "id": "3b9be894",
   "metadata": {},
   "outputs": [
    {
     "data": {
      "text/plain": [
       "45"
      ]
     },
     "execution_count": 376,
     "metadata": {},
     "output_type": "execute_result"
    }
   ],
   "source": [
    "marks={'history':45,'hindi':56}\n",
    "marks.get(\"history\")"
   ]
  },
  {
   "cell_type": "code",
   "execution_count": 377,
   "id": "af6253d6",
   "metadata": {},
   "outputs": [
    {
     "data": {
      "text/plain": [
       "45"
      ]
     },
     "execution_count": 377,
     "metadata": {},
     "output_type": "execute_result"
    }
   ],
   "source": [
    "marks={'history':45,'hindi':56}\n",
    "marks['history']"
   ]
  },
  {
   "cell_type": "markdown",
   "id": "ec7d30f8",
   "metadata": {},
   "source": [
    "To add single item into a dictionary_______"
   ]
  },
  {
   "cell_type": "code",
   "execution_count": 378,
   "id": "ee902ab9",
   "metadata": {},
   "outputs": [
    {
     "name": "stdout",
     "output_type": "stream",
     "text": [
      "{'history': 45, 'hindi': 56, 'english': 47}\n"
     ]
    }
   ],
   "source": [
    "marks={'history':45,'hindi':56}\n",
    "marks['english']=47\n",
    "print(marks)"
   ]
  },
  {
   "cell_type": "code",
   "execution_count": 379,
   "id": "c2a246c5",
   "metadata": {},
   "outputs": [
    {
     "name": "stdout",
     "output_type": "stream",
     "text": [
      "{'history': 45, 'hindi': 56, 'maths': 95}\n"
     ]
    }
   ],
   "source": [
    "marks={'history':45,'hindi':56}\n",
    "marks.update({'maths':95}) \n",
    "print(marks)"
   ]
  },
  {
   "cell_type": "markdown",
   "id": "3e24683d",
   "metadata": {},
   "source": [
    "To add multiple items or single into a dictionary_____________"
   ]
  },
  {
   "cell_type": "code",
   "execution_count": 380,
   "id": "061aac1b",
   "metadata": {},
   "outputs": [
    {
     "name": "stdout",
     "output_type": "stream",
     "text": [
      "{'history': 45, 'hindi': 56, 'maths': 95}\n",
      "{'history': 45, 'hindi': 56, 'maths': 95, 'chemistry': 89, 'physics': 98}\n"
     ]
    }
   ],
   "source": [
    "marks={'history':45,'hindi':56}\n",
    "marks.update({'maths':95})\n",
    "print(marks)\n",
    "marks.update({'chemistry':89,'physics':98})\n",
    "print(marks)"
   ]
  },
  {
   "cell_type": "markdown",
   "id": "c6921f51",
   "metadata": {},
   "source": [
    "To replace value in dictionary"
   ]
  },
  {
   "cell_type": "code",
   "execution_count": 381,
   "id": "7e5da2f0",
   "metadata": {},
   "outputs": [
    {
     "data": {
      "text/plain": [
       "{'history': 45, 'hindi': 64}"
      ]
     },
     "execution_count": 381,
     "metadata": {},
     "output_type": "execute_result"
    }
   ],
   "source": [
    "marks={'history':45,'hindi':56}\n",
    "marks['hindi']=64\n",
    "marks"
   ]
  },
  {
   "cell_type": "markdown",
   "id": "ced597d3",
   "metadata": {},
   "source": [
    "To replace key in dictionary"
   ]
  },
  {
   "cell_type": "code",
   "execution_count": 382,
   "id": "cd8ff68c",
   "metadata": {},
   "outputs": [
    {
     "name": "stdout",
     "output_type": "stream",
     "text": [
      "{'history': 45, 'maths': 56}\n"
     ]
    }
   ],
   "source": [
    "marks={'history':45,'hindi':56}\n",
    "marks['maths']=marks.pop(\"hindi\")\n",
    "print(marks)"
   ]
  },
  {
   "cell_type": "markdown",
   "id": "cc987589",
   "metadata": {},
   "source": [
    "To delete item in dictionary"
   ]
  },
  {
   "cell_type": "code",
   "execution_count": 383,
   "id": "28239043",
   "metadata": {},
   "outputs": [
    {
     "name": "stdout",
     "output_type": "stream",
     "text": [
      "{'hindi': 56}\n"
     ]
    }
   ],
   "source": [
    "marks={'history':45,'hindi':56}\n",
    "del marks['history']\n",
    "print(marks)"
   ]
  },
  {
   "cell_type": "markdown",
   "id": "573ff23b",
   "metadata": {},
   "source": [
    "# LOOPS \n",
    "     -->There may be a situation when you need to execute a block of code several number of items\n",
    "     -->To iterate over items or elements in a given sequence like str,list,tup,set,or dict\n",
    "     -->In general,statements are executed sequentially:\n",
    "                           the first statement in a function is executed first,followed by second one and soon....\n",
    "    "
   ]
  },
  {
   "cell_type": "markdown",
   "id": "6365c014",
   "metadata": {},
   "source": [
    "# Iteration or Loops:repeat action\n",
    "    for loop---> iterates for all items present in iterating sequence\n",
    "    while loop--> untill the condition satisfies\n",
    " "
   ]
  },
  {
   "cell_type": "code",
   "execution_count": null,
   "id": "979b4840",
   "metadata": {},
   "outputs": [],
   "source": [
    "difference between if and while\n",
    "\n",
    "               if                                                           while\n",
    "   \n",
    "   1. check the condition for onetime                          1. check the condition for multiple times\n",
    "   \n",
    "   2. conditional statement                                    2. loop\n",
    "  \n",
    "   3. if condition satisfies,executes the block of code        3. if condition satisfies execute block of code,\n",
    "        if condition is not satisfies,ignore the block               if condition is not satisfies ignore the block"
   ]
  },
  {
   "cell_type": "markdown",
   "id": "4cefe01c",
   "metadata": {},
   "source": [
    "# while loop:\n",
    "              The while loop in python,is used to iterate over a block of code as long as the condition(test exp) is True\n",
    "              \n",
    "   while loop syntax_________-\n",
    "                   whiletest_expression:body of while\n",
    "                                   \n",
    "                                   \n",
    "                                   \n",
    "                   \n",
    "              "
   ]
  },
  {
   "cell_type": "markdown",
   "id": "72db335e",
   "metadata": {},
   "source": [
    "while loop means check the condition and repeat the block of code"
   ]
  },
  {
   "cell_type": "markdown",
   "id": "929f25e6",
   "metadata": {},
   "source": [
    " In while loop,test expression is checked first,the body of the loop is entered only if the test_expression is checked \n",
    "again.This process continues until the test_expression evaluates to False\n",
    "\n",
    "  "
   ]
  },
  {
   "cell_type": "markdown",
   "id": "9460b4b8",
   "metadata": {},
   "source": [
    "In python,the body of while loop is determined through indentation"
   ]
  },
  {
   "cell_type": "markdown",
   "id": "0b94e0ea",
   "metadata": {},
   "source": [
    "Python interprets any non-zero value as True.\n",
    "  None and '0' are interpreted as False"
   ]
  },
  {
   "cell_type": "markdown",
   "id": "aec8a0b2",
   "metadata": {},
   "source": [
    "ex:"
   ]
  },
  {
   "cell_type": "code",
   "execution_count": 384,
   "id": "0ad2e9b5",
   "metadata": {},
   "outputs": [
    {
     "name": "stdout",
     "output_type": "stream",
     "text": [
      "0\n",
      "1\n",
      "2\n",
      "3\n"
     ]
    }
   ],
   "source": [
    "x=0\n",
    "while x<=3:\n",
    "    print(x)\n",
    "    x=x+1"
   ]
  },
  {
   "cell_type": "code",
   "execution_count": 385,
   "id": "30b1549f",
   "metadata": {},
   "outputs": [
    {
     "name": "stdout",
     "output_type": "stream",
     "text": [
      "ds\n",
      "ds\n",
      "ds\n",
      "ds\n",
      "ds\n",
      "ds\n",
      "ds\n",
      "ds\n",
      "ds\n",
      "ds\n",
      "ds\n",
      "ds\n",
      "ds\n",
      "ds\n",
      "ds\n",
      "ds\n",
      "ds\n",
      "ds\n",
      "ds\n",
      "ds\n"
     ]
    }
   ],
   "source": [
    "x=1\n",
    "while x<=20:\n",
    "    print(\"ds\")\n",
    "    x=x+1"
   ]
  },
  {
   "cell_type": "code",
   "execution_count": 386,
   "id": "3444d075",
   "metadata": {},
   "outputs": [
    {
     "name": "stdout",
     "output_type": "stream",
     "text": [
      "8\n",
      "7\n",
      "6\n"
     ]
    }
   ],
   "source": [
    "x=8\n",
    "while x>=6:\n",
    "    print(x)\n",
    "    x=x-1"
   ]
  },
  {
   "cell_type": "code",
   "execution_count": 387,
   "id": "b04b177e",
   "metadata": {},
   "outputs": [
    {
     "name": "stdout",
     "output_type": "stream",
     "text": [
      "6\n"
     ]
    }
   ],
   "source": [
    "x=0\n",
    "while x<5:\n",
    "    x=x+3\n",
    "print(x)"
   ]
  },
  {
   "cell_type": "code",
   "execution_count": 388,
   "id": "79a22ee2",
   "metadata": {},
   "outputs": [
    {
     "name": "stdout",
     "output_type": "stream",
     "text": [
      "3\n",
      "6\n"
     ]
    }
   ],
   "source": [
    "x=0\n",
    "while x<5:\n",
    "    x=x+3\n",
    "    print(x)"
   ]
  },
  {
   "cell_type": "code",
   "execution_count": 389,
   "id": "0c17048c",
   "metadata": {},
   "outputs": [
    {
     "name": "stdout",
     "output_type": "stream",
     "text": [
      "0\n",
      "1\n",
      "2\n",
      "3\n",
      "4\n",
      "5\n",
      "6\n",
      "7\n",
      "8\n",
      "9\n",
      "10\n",
      "11\n",
      "12\n",
      "13\n",
      "14\n",
      "15\n",
      "16\n",
      "17\n",
      "18\n",
      "19\n",
      "20\n",
      "21\n",
      "22\n",
      "23\n",
      "24\n",
      "25\n",
      "26\n",
      "27\n",
      "28\n",
      "29\n",
      "30\n",
      "31\n",
      "32\n",
      "33\n",
      "34\n",
      "35\n",
      "36\n",
      "37\n",
      "38\n",
      "39\n",
      "40\n",
      "41\n",
      "42\n",
      "43\n",
      "44\n",
      "45\n",
      "46\n",
      "47\n",
      "48\n",
      "49\n",
      "50\n",
      "51\n",
      "52\n",
      "53\n",
      "54\n",
      "55\n",
      "56\n",
      "57\n",
      "58\n",
      "59\n",
      "60\n",
      "61\n",
      "62\n",
      "63\n",
      "64\n",
      "65\n",
      "66\n",
      "67\n",
      "68\n",
      "69\n",
      "70\n",
      "71\n",
      "72\n",
      "73\n",
      "74\n",
      "75\n",
      "76\n",
      "77\n",
      "78\n",
      "79\n",
      "80\n",
      "81\n",
      "82\n",
      "83\n",
      "84\n",
      "85\n",
      "86\n",
      "87\n",
      "88\n",
      "89\n",
      "90\n",
      "91\n",
      "92\n",
      "93\n",
      "94\n",
      "95\n",
      "96\n",
      "97\n",
      "98\n",
      "99\n",
      "100\n"
     ]
    }
   ],
   "source": [
    "# program to print 0 to 100 (inclusive) whole numbers\n",
    "  \n",
    "i=0\n",
    "while i<=100:\n",
    "    print(i)\n",
    "    i=i+1"
   ]
  },
  {
   "cell_type": "markdown",
   "id": "9a668821",
   "metadata": {},
   "source": [
    "i=0\n",
    "while i<=100:\n",
    "    print(i,end=\" \") #if we want get above output in horizontal,we have to add end=\" \"\n",
    "    i=i+1\n"
   ]
  },
  {
   "cell_type": "markdown",
   "id": "097e03d9",
   "metadata": {},
   "source": [
    "# Infinite loop\n",
    "         while 0<=2:\n",
    "         print(\"srk\")  there is no loop,only condition 0<=2,the condition never fails,so it will print \"srk\" infinite times\n",
    "                        \n",
    "            "
   ]
  },
  {
   "cell_type": "markdown",
   "id": "2a9dce8b",
   "metadata": {},
   "source": [
    " if we want to stop the infinite loop,two options are there_______1.click on the kernel\n",
    "                                                                  \n",
    "                                                                  2.break"
   ]
  },
  {
   "cell_type": "markdown",
   "id": "e87e817e",
   "metadata": {},
   "source": [
    "# loop termination\n",
    "     Break:when condition satisfies,it will stops the loop\n",
    "        "
   ]
  },
  {
   "cell_type": "markdown",
   "id": "f90d3730",
   "metadata": {},
   "source": [
    " syntax is ________     while condition\n",
    "                              _________\n",
    "                              _________\n",
    "                             \n",
    "                             if condition:\n",
    "                             \n",
    "                                break"
   ]
  },
  {
   "cell_type": "code",
   "execution_count": 390,
   "id": "7f787e34",
   "metadata": {},
   "outputs": [
    {
     "name": "stdout",
     "output_type": "stream",
     "text": [
      "1 ds\n",
      "2 ds\n",
      "3 ds\n",
      "4 ds\n",
      "5 ds\n",
      "6 ds\n",
      "7 ds\n",
      "8 ds\n",
      "9 ds\n",
      "10 ds\n",
      "11 ds\n",
      "12 ds\n",
      "13 ds\n",
      "14 ds\n",
      "15 ds\n",
      "16 ds\n",
      "17 ds\n",
      "18 ds\n",
      "19 ds\n",
      "20 ds\n"
     ]
    }
   ],
   "source": [
    "x=1\n",
    "while True:\n",
    "    print(x,\"ds\")\n",
    "    if(x>=20):\n",
    "        break\n",
    "    x=x+1"
   ]
  },
  {
   "cell_type": "code",
   "execution_count": 391,
   "id": "ba126528",
   "metadata": {},
   "outputs": [
    {
     "name": "stdout",
     "output_type": "stream",
     "text": [
      "0\n",
      "1\n",
      "2\n",
      "3\n"
     ]
    }
   ],
   "source": [
    "x=0\n",
    "while x<=6:\n",
    "    print(x)\n",
    "    if x==3:\n",
    "        break\n",
    "    x=x+1"
   ]
  },
  {
   "cell_type": "markdown",
   "id": "d7fd145f",
   "metadata": {},
   "source": [
    "Write a program for list of values,which are entered by user"
   ]
  },
  {
   "cell_type": "code",
   "execution_count": 392,
   "id": "1c768a2d",
   "metadata": {},
   "outputs": [
    {
     "name": "stdout",
     "output_type": "stream",
     "text": [
      "enter the number4\n",
      "enter the number#\n",
      "[4]\n"
     ]
    }
   ],
   "source": [
    "l=[]\n",
    "while True:\n",
    "    num = input(\"enter the number\")\n",
    "    if num == '#':\n",
    "        break\n",
    "    i=int(num)\n",
    "    l.append(i)\n",
    "print(l)"
   ]
  },
  {
   "cell_type": "code",
   "execution_count": 393,
   "id": "e7baabc3",
   "metadata": {
    "scrolled": true
   },
   "outputs": [
    {
     "name": "stdout",
     "output_type": "stream",
     "text": [
      "enter the number8\n",
      "enter the number#\n",
      "[8.0]\n"
     ]
    }
   ],
   "source": [
    "l=[]\n",
    "while True:\n",
    "    num = input(\"enter the number\")\n",
    "    if num=='#':\n",
    "        break\n",
    "    i=float(num)\n",
    "    l.append(i)\n",
    "print(l)"
   ]
  },
  {
   "cell_type": "markdown",
   "id": "7aaefff5",
   "metadata": {},
   "source": [
    "Ask the user to enter the number and sum it"
   ]
  },
  {
   "cell_type": "code",
   "execution_count": 394,
   "id": "14a0b5d8",
   "metadata": {},
   "outputs": [
    {
     "name": "stdout",
     "output_type": "stream",
     "text": [
      "6\n",
      "6\n",
      "8\n",
      "14\n",
      "#\n"
     ]
    }
   ],
   "source": [
    "sum=0\n",
    "while True:\n",
    "    i=input()\n",
    "    if i=='#':\n",
    "        break\n",
    "    sum=sum+int(i)\n",
    "    print(sum)\n",
    "    "
   ]
  },
  {
   "cell_type": "markdown",
   "id": "70e28c66",
   "metadata": {},
   "source": [
    "Ask the user to enter the number and sum it until sum>100"
   ]
  },
  {
   "cell_type": "code",
   "execution_count": 1,
   "id": "395d06a7",
   "metadata": {},
   "outputs": [
    {
     "name": "stdout",
     "output_type": "stream",
     "text": [
      "56\n",
      "90\n",
      "sum crossed 100\n",
      "sum\n"
     ]
    }
   ],
   "source": [
    "sum=0\n",
    "while True:\n",
    "    i=input()\n",
    "    sum=sum+int(i)\n",
    "    if sum>100:   \n",
    "        print(\"sum crossed 100\")\n",
    "        print(\"sum\")\n",
    "        break"
   ]
  },
  {
   "cell_type": "markdown",
   "id": "e7481494",
   "metadata": {},
   "source": [
    "# remove()"
   ]
  },
  {
   "cell_type": "code",
   "execution_count": 3,
   "id": "ef77758f",
   "metadata": {},
   "outputs": [
    {
     "data": {
      "text/plain": [
       "[20, 30, 40, 50, 10, 10, 20]"
      ]
     },
     "execution_count": 3,
     "metadata": {},
     "output_type": "execute_result"
    }
   ],
   "source": [
    "l=[10,20,30,40,50,10,10,20]\n",
    "l.remove(10)\n",
    "l"
   ]
  },
  {
   "cell_type": "code",
   "execution_count": 4,
   "id": "e7c7e21d",
   "metadata": {},
   "outputs": [
    {
     "ename": "ValueError",
     "evalue": "list.remove(x): x not in list",
     "output_type": "error",
     "traceback": [
      "\u001b[1;31m---------------------------------------------------------------------------\u001b[0m",
      "\u001b[1;31mValueError\u001b[0m                                Traceback (most recent call last)",
      "Cell \u001b[1;32mIn[4], line 3\u001b[0m\n\u001b[0;32m      1\u001b[0m x\u001b[38;5;241m=\u001b[39m\u001b[38;5;241m1\u001b[39m\n\u001b[0;32m      2\u001b[0m \u001b[38;5;28;01mwhile\u001b[39;00m x\u001b[38;5;241m<\u001b[39m\u001b[38;5;241m=\u001b[39m\u001b[38;5;28mlen\u001b[39m(l):\n\u001b[1;32m----> 3\u001b[0m     \u001b[43ml\u001b[49m\u001b[38;5;241;43m.\u001b[39;49m\u001b[43mremove\u001b[49m\u001b[43m(\u001b[49m\u001b[38;5;241;43m10\u001b[39;49m\u001b[43m)\u001b[49m\n\u001b[0;32m      4\u001b[0m     x\u001b[38;5;241m=\u001b[39mx\u001b[38;5;241m+\u001b[39m\u001b[38;5;241m1\u001b[39m\n",
      "\u001b[1;31mValueError\u001b[0m: list.remove(x): x not in list"
     ]
    }
   ],
   "source": [
    "x=1\n",
    "while x<=len(l):\n",
    "    l.remove(10)\n",
    "    x=x+1"
   ]
  },
  {
   "cell_type": "markdown",
   "id": "0b35df49",
   "metadata": {},
   "source": [
    "# while loop with else\n",
    "                  while condition\n",
    "                  _______________\n",
    "                  _______________\n",
    "                  else\n",
    "                       ___________\n",
    "                       ___________"
   ]
  },
  {
   "cell_type": "code",
   "execution_count": 2,
   "id": "df388797",
   "metadata": {},
   "outputs": [
    {
     "name": "stdout",
     "output_type": "stream",
     "text": [
      "1\n"
     ]
    }
   ],
   "source": [
    "i=1\n",
    "while i<=3:\n",
    "    print(i)\n",
    "    i=i+1\n",
    "    if i==2:\n",
    "        break\n",
    "else:\n",
    "    print(\"ds\")"
   ]
  },
  {
   "cell_type": "code",
   "execution_count": 3,
   "id": "1f62ebda",
   "metadata": {},
   "outputs": [
    {
     "name": "stdout",
     "output_type": "stream",
     "text": [
      "1\n",
      "ds\n",
      "2\n",
      "ds\n",
      "3\n",
      "ds\n"
     ]
    }
   ],
   "source": [
    "i=1\n",
    "while i<=3:\n",
    "    print(i)\n",
    "    i=i+1\n",
    "    if i==5:\n",
    "        break\n",
    "    else:\n",
    "        print(\"ds\")"
   ]
  },
  {
   "cell_type": "code",
   "execution_count": 4,
   "id": "04890e04",
   "metadata": {},
   "outputs": [
    {
     "name": "stdout",
     "output_type": "stream",
     "text": [
      "0\n",
      "item left in the list\n",
      "1\n",
      "item left in the list\n",
      "2\n"
     ]
    }
   ],
   "source": [
    "numbers=[1,2,3,4,5,6]\n",
    "i=0\n",
    "while i<=len(numbers):\n",
    "    print(i)\n",
    "    i=i+1\n",
    "    if i==3:\n",
    "        break\n",
    "    else:\n",
    "        print(\"item left in the list\")"
   ]
  },
  {
   "cell_type": "markdown",
   "id": "c5a03c0b",
   "metadata": {},
   "source": [
    "# Range()\n",
    "         It generates the sequence of integers"
   ]
  },
  {
   "cell_type": "code",
   "execution_count": 5,
   "id": "f947e4ba",
   "metadata": {},
   "outputs": [
    {
     "data": {
      "text/plain": [
       "[0, 1, 2, 3, 4, 5, 6, 7, 8, 9]"
      ]
     },
     "execution_count": 5,
     "metadata": {},
     "output_type": "execute_result"
    }
   ],
   "source": [
    "list(range(0,10))"
   ]
  },
  {
   "cell_type": "code",
   "execution_count": 6,
   "id": "1bd2417c",
   "metadata": {},
   "outputs": [
    {
     "data": {
      "text/plain": [
       "range(0, 10)"
      ]
     },
     "execution_count": 6,
     "metadata": {},
     "output_type": "execute_result"
    }
   ],
   "source": [
    "range(0,10)"
   ]
  },
  {
   "cell_type": "code",
   "execution_count": 7,
   "id": "10f44985",
   "metadata": {},
   "outputs": [
    {
     "data": {
      "text/plain": [
       "range(0, 10)"
      ]
     },
     "execution_count": 7,
     "metadata": {},
     "output_type": "execute_result"
    }
   ],
   "source": [
    "range(10)"
   ]
  },
  {
   "cell_type": "code",
   "execution_count": 11,
   "id": "c10da47e",
   "metadata": {},
   "outputs": [
    {
     "data": {
      "text/plain": [
       "[1, 3, 5, 7, 9]"
      ]
     },
     "execution_count": 11,
     "metadata": {},
     "output_type": "execute_result"
    }
   ],
   "source": [
    "list(range(1,10,2))             #increment of 2"
   ]
  },
  {
   "cell_type": "code",
   "execution_count": 12,
   "id": "08a2bc95",
   "metadata": {},
   "outputs": [
    {
     "data": {
      "text/plain": [
       "[]"
      ]
     },
     "execution_count": 12,
     "metadata": {},
     "output_type": "execute_result"
    }
   ],
   "source": [
    "list(range(1,10,-2))     # from 1 to 10 -ve direction is not possible,so it gives empty []"
   ]
  },
  {
   "cell_type": "code",
   "execution_count": 13,
   "id": "23e7c055",
   "metadata": {},
   "outputs": [
    {
     "data": {
      "text/plain": [
       "[10, 8, 6, 4, 2]"
      ]
     },
     "execution_count": 13,
     "metadata": {},
     "output_type": "execute_result"
    }
   ],
   "source": [
    "list(range(10,1,-2))"
   ]
  },
  {
   "cell_type": "markdown",
   "id": "993b3145",
   "metadata": {},
   "source": [
    "# for loop()\n",
    "              for each item,in the given sequence repeated the block of code\n",
    "          syntax is :            \n",
    "                          for item in sequence:\n",
    "                          __________\n",
    "                          __________"
   ]
  },
  {
   "cell_type": "markdown",
   "id": "effe7fc5",
   "metadata": {},
   "source": [
    "Difference between for and while\n"
   ]
  },
  {
   "cell_type": "markdown",
   "id": "770dd408",
   "metadata": {},
   "source": [
    "                    for                                             while\n",
    "                    \n",
    "    for item in sequence                                        while condition\n",
    "        ______________                                             _________\n",
    "        _______________                                            _________\n",
    "   \n",
    "   for each item in sequence,repeat                           till the condition satisfies,repeat \n",
    "      the block of code                                             block of code\n",
    "   \n",
    "   when all items are completed,the                           when condition fails,loop terminate                          \n",
    "        loop terminates"
   ]
  },
  {
   "cell_type": "code",
   "execution_count": 16,
   "id": "b28f1eb6",
   "metadata": {},
   "outputs": [
    {
     "name": "stdout",
     "output_type": "stream",
     "text": [
      "1 ds\n",
      "2 ds\n",
      "3 ds\n",
      "4 ds\n"
     ]
    }
   ],
   "source": [
    "l=[1,2,3,4]\n",
    "for i in l:\n",
    "    print(i,\"ds\")"
   ]
  },
  {
   "cell_type": "code",
   "execution_count": 17,
   "id": "1473783a",
   "metadata": {},
   "outputs": [
    {
     "name": "stdout",
     "output_type": "stream",
     "text": [
      "1 ds\n",
      "2 ds\n",
      "3 ds\n",
      "4 ds\n"
     ]
    }
   ],
   "source": [
    "x=1\n",
    "while x<=4:\n",
    "    print(x,\"ds\")\n",
    "    x=x+1"
   ]
  },
  {
   "cell_type": "markdown",
   "id": "53c7949b",
   "metadata": {},
   "source": [
    "Here,in for and while loop both are same answer but in while__ it works on condition\n",
    "                                                        for___ it works on each item"
   ]
  },
  {
   "cell_type": "markdown",
   "id": "78cb8aff",
   "metadata": {},
   "source": [
    "Range() is a homogenous where it has multiple items,but everything are integers\n",
    "list()  is a heterogenous where multiple items are of different datatype"
   ]
  },
  {
   "cell_type": "code",
   "execution_count": 18,
   "id": "ac0cbfcc",
   "metadata": {},
   "outputs": [
    {
     "name": "stdout",
     "output_type": "stream",
     "text": [
      "ds\n",
      "ds\n",
      "ds\n",
      "ds\n"
     ]
    }
   ],
   "source": [
    "l=[1,2,3,\"a\"]\n",
    "for j in l:\n",
    "    print(\"ds\")\n",
    "    "
   ]
  },
  {
   "cell_type": "code",
   "execution_count": 1,
   "id": "22718734",
   "metadata": {},
   "outputs": [
    {
     "name": "stdout",
     "output_type": "stream",
     "text": [
      "ds\n",
      "ds\n",
      "python\n",
      "ds\n"
     ]
    }
   ],
   "source": [
    "for i in range(1,5):\n",
    "    if i==3:\n",
    "        print(\"python\")\n",
    "    else:\n",
    "        print(\"ds\")"
   ]
  },
  {
   "cell_type": "markdown",
   "id": "bada788b",
   "metadata": {},
   "source": [
    " program for Multiplication Table"
   ]
  },
  {
   "cell_type": "code",
   "execution_count": 3,
   "id": "72f4346f",
   "metadata": {},
   "outputs": [
    {
     "name": "stdout",
     "output_type": "stream",
     "text": [
      "enter the number125\n",
      "125 * 1 = 125\n",
      "125 * 2 = 250\n",
      "125 * 3 = 375\n",
      "125 * 4 = 500\n",
      "125 * 5 = 625\n",
      "125 * 6 = 750\n",
      "125 * 7 = 875\n",
      "125 * 8 = 1000\n",
      "125 * 9 = 1125\n",
      "125 * 10 = 1250\n"
     ]
    }
   ],
   "source": [
    "num=int(input(\"enter the number\"))\n",
    "for i in range(1,11):\n",
    "    print(num,\"*\",i,\"=\",num*i)"
   ]
  },
  {
   "cell_type": "markdown",
   "id": "834cd322",
   "metadata": {},
   "source": [
    "Total sum of phone numbers,if the answer is 2 digit number and again add untill u get single digit"
   ]
  },
  {
   "cell_type": "code",
   "execution_count": 395,
   "id": "2af6d648",
   "metadata": {},
   "outputs": [
    {
     "name": "stdout",
     "output_type": "stream",
     "text": [
      "123456789\n",
      "3\n"
     ]
    }
   ],
   "source": [
    "num=input()\n",
    "sum=0\n",
    "for i in num:\n",
    "    sum=sum+int(i)\n",
    "    if sum>=10:\n",
    "         j=str(num)\n",
    "s=int(j[0])+int(j[1])\n",
    "print(s)"
   ]
  },
  {
   "cell_type": "markdown",
   "id": "e012998a",
   "metadata": {},
   "source": [
    "Break()"
   ]
  },
  {
   "cell_type": "code",
   "execution_count": 396,
   "id": "dc58fa14",
   "metadata": {},
   "outputs": [
    {
     "name": "stdout",
     "output_type": "stream",
     "text": [
      "python\n",
      "python\n",
      "python\n",
      "ds\n"
     ]
    }
   ],
   "source": [
    "for i in range(1,5):\n",
    "    print(\"python\")\n",
    "    if i==3:\n",
    "        print(\"ds\")\n",
    "        break"
   ]
  },
  {
   "cell_type": "markdown",
   "id": "f4d7043c",
   "metadata": {},
   "source": [
    "In above,break will occur and it will terminate but if we want to continue means we have to apply continue____"
   ]
  },
  {
   "cell_type": "code",
   "execution_count": 13,
   "id": "d1fcc376",
   "metadata": {},
   "outputs": [
    {
     "name": "stdout",
     "output_type": "stream",
     "text": [
      "python\n",
      "python\n",
      "python\n",
      "ds\n",
      "python\n"
     ]
    }
   ],
   "source": [
    "for i in range(1,5):\n",
    "    print(\"python\")\n",
    "    if i==3:\n",
    "        print(\"ds\")\n",
    "        continue"
   ]
  },
  {
   "cell_type": "code",
   "execution_count": 14,
   "id": "7eba0000",
   "metadata": {},
   "outputs": [
    {
     "name": "stdout",
     "output_type": "stream",
     "text": [
      "[1]\n",
      "[1, 2]\n",
      "[1, 2, 3]\n",
      "[1, 2, 3, 4]\n",
      "[1, 2, 3, 4, 5]\n",
      "[1, 2, 3, 4, 5, 6]\n",
      "[1, 2, 3, 4, 5, 6, 7]\n",
      "[1, 2, 3, 4, 5, 6, 7, 8]\n",
      "[1, 2, 3, 4, 5, 6, 7, 8, 9]\n",
      "[1, 2, 3, 4, 5, 6, 7, 8, 9, 10]\n"
     ]
    }
   ],
   "source": [
    "l=[]\n",
    "for i in range(1,11):\n",
    "    l.append(i)\n",
    "    print(l)"
   ]
  },
  {
   "cell_type": "code",
   "execution_count": 15,
   "id": "319482c5",
   "metadata": {},
   "outputs": [
    {
     "name": "stdout",
     "output_type": "stream",
     "text": [
      "[11]\n",
      "[11, 12]\n",
      "[11, 12, 13]\n",
      "[11, 12, 13, 14]\n"
     ]
    }
   ],
   "source": [
    "l=[1,2,3,4]\n",
    "k=[]\n",
    "for i in l:\n",
    "    j=i+10\n",
    "    k.append(j)\n",
    "    print(k)"
   ]
  },
  {
   "cell_type": "markdown",
   "id": "20346be0",
   "metadata": {},
   "source": [
    "# Nested loop"
   ]
  },
  {
   "cell_type": "code",
   "execution_count": 17,
   "id": "fc426ffd",
   "metadata": {},
   "outputs": [
    {
     "name": "stdout",
     "output_type": "stream",
     "text": [
      "61\n",
      "62\n",
      "61\n",
      "62\n",
      "61\n",
      "62\n"
     ]
    }
   ],
   "source": [
    "for i in range(1,4):\n",
    "    j=20\n",
    "    k=40\n",
    "    for l in range(1,3):\n",
    "        print(j+k+l)"
   ]
  },
  {
   "cell_type": "code",
   "execution_count": 18,
   "id": "10853d67",
   "metadata": {},
   "outputs": [
    {
     "name": "stdout",
     "output_type": "stream",
     "text": [
      "1 1\n",
      "1 2\n",
      "1 3\n",
      "2 1\n",
      "2 2\n",
      "2 3\n",
      "3 1\n",
      "3 2\n",
      "3 3\n"
     ]
    }
   ],
   "source": [
    "for i in range(1,4):\n",
    "    for j in range(1,4):\n",
    "        print(i,j)"
   ]
  },
  {
   "cell_type": "code",
   "execution_count": 1,
   "id": "79cff536",
   "metadata": {},
   "outputs": [
    {
     "name": "stdout",
     "output_type": "stream",
     "text": [
      "193\n"
     ]
    }
   ],
   "source": [
    "for i in[2,4,9]:\n",
    "    k=90\n",
    "    j=40\n",
    "    for z in range(4,5):\n",
    "         j=90\n",
    "print(i+j+k+z)\n",
    "    "
   ]
  },
  {
   "cell_type": "code",
   "execution_count": 7,
   "id": "0401a1ba",
   "metadata": {},
   "outputs": [
    {
     "name": "stdout",
     "output_type": "stream",
     "text": [
      "143\n"
     ]
    }
   ],
   "source": [
    "for i in[2,4,9]:\n",
    "    k=90\n",
    "    j=40\n",
    "    for z in range(4,6):\n",
    "        if z==4:\n",
    "             break\n",
    "print(j+k+i+z)"
   ]
  },
  {
   "cell_type": "code",
   "execution_count": 4,
   "id": "b26c606e",
   "metadata": {},
   "outputs": [
    {
     "name": "stdout",
     "output_type": "stream",
     "text": [
      "137\n",
      "139\n",
      "144\n"
     ]
    }
   ],
   "source": [
    "for i in [2,4,9]:\n",
    "    k=90\n",
    "    j=40\n",
    "    for z in range(4,6):\n",
    "        if z==5:\n",
    "            break\n",
    "    print(j+k+i+z)"
   ]
  },
  {
   "cell_type": "markdown",
   "id": "3e8d6c78",
   "metadata": {},
   "source": [
    "# Functions\n",
    "                 \n"
   ]
  },
  {
   "cell_type": "markdown",
   "id": "e0aa6419",
   "metadata": {},
   "source": [
    "            Function is a group of related statements that perform a specific task\n",
    "            \n",
    "            A function is a set of statements that take inputs, do some specific computation and produces output\n",
    "            \n",
    "            It avoids repetition and makes code reusable\n",
    "             \n",
    "            If we use functions written by others in the form of library,it can be termed as library function"
   ]
  },
  {
   "cell_type": "markdown",
   "id": "ee8cffef",
   "metadata": {},
   "source": [
    "# Types of function"
   ]
  },
  {
   "cell_type": "markdown",
   "id": "4870f4b6",
   "metadata": {},
   "source": [
    "1.Inbuilt function          # by default,python has inbuilt function,everyone who arenusing python they have Inbuilt functions\n",
    "\n",
    "2.User-defined function     #user created function according to his requirements"
   ]
  },
  {
   "cell_type": "markdown",
   "id": "1734043a",
   "metadata": {},
   "source": [
    "# Inbuilt function"
   ]
  },
  {
   "cell_type": "code",
   "execution_count": 8,
   "id": "2be2586e",
   "metadata": {},
   "outputs": [
    {
     "name": "stdout",
     "output_type": "stream",
     "text": [
      "10\n"
     ]
    }
   ],
   "source": [
    "a=10\n",
    "print(a)"
   ]
  },
  {
   "cell_type": "code",
   "execution_count": 10,
   "id": "dc56e2bf",
   "metadata": {},
   "outputs": [
    {
     "data": {
      "text/plain": [
       "10"
      ]
     },
     "execution_count": 10,
     "metadata": {},
     "output_type": "execute_result"
    }
   ],
   "source": [
    "# abs()  ----->find the absolute value\n",
    "abs(-10)\n",
    "    "
   ]
  },
  {
   "cell_type": "code",
   "execution_count": 11,
   "id": "711f620f",
   "metadata": {},
   "outputs": [
    {
     "ename": "TypeError",
     "evalue": "abs() takes exactly one argument (0 given)",
     "output_type": "error",
     "traceback": [
      "\u001b[1;31m---------------------------------------------------------------------------\u001b[0m",
      "\u001b[1;31mTypeError\u001b[0m                                 Traceback (most recent call last)",
      "Cell \u001b[1;32mIn[11], line 1\u001b[0m\n\u001b[1;32m----> 1\u001b[0m \u001b[38;5;28;43mabs\u001b[39;49m\u001b[43m(\u001b[49m\u001b[43m)\u001b[49m\n",
      "\u001b[1;31mTypeError\u001b[0m: abs() takes exactly one argument (0 given)"
     ]
    }
   ],
   "source": [
    "abs()        # one argument is missing"
   ]
  },
  {
   "cell_type": "markdown",
   "id": "4e9de15f",
   "metadata": {},
   "source": [
    "# User defined function\n",
    "              "
   ]
  },
  {
   "cell_type": "markdown",
   "id": "9d6e2f3a",
   "metadata": {},
   "source": [
    "                Functions that we define ourselves to do certain task are referred as user defined function\n",
    "                \n",
    "              user defined function help to decompose a large decompose a large program into small segments which makes program easy to understand,maintain and debug\n",
    "           \n",
    "           If repeated code occurs in a program,function can be used to include those codes and execute when needed by calling that function\n",
    "           \n",
    "         program working on large project can divide the workload by making diferent functions"
   ]
  },
  {
   "cell_type": "markdown",
   "id": "fe7f98ef",
   "metadata": {},
   "source": [
    "syntax is_______________\n",
    "                          def function_name(parameters):\n",
    "                         \n",
    "                         \" \" \"\n",
    "                         Doc String\n",
    "                          \" \" \"\n",
    "                          function body(statements)\n",
    "                          return[expression]"
   ]
  },
  {
   "cell_type": "markdown",
   "id": "36669494",
   "metadata": {},
   "source": [
    "1.Keyword \"def\" marks the start of function header\n",
    "\n",
    "2.Parameters(arguments) through which we pass values to a function.these are optional \n",
    "\n",
    "3.A colon(:) to mark the end of function header\n",
    "\n",
    "4.Doc string describe what the function does,this is optional\n",
    "\n",
    "5.\"return\" statement to return a value from the function,this is optional"
   ]
  },
  {
   "cell_type": "markdown",
   "id": "466bcf85",
   "metadata": {},
   "source": [
    "# return\n",
    "    "
   ]
  },
  {
   "cell_type": "markdown",
   "id": "879aa4e1",
   "metadata": {},
   "source": [
    "the return statement is used to exit a function and go back to place from where it was called\n",
    "\n",
    "return statement can contain an expression which gets evaluated and value is returned\n",
    "\n",
    "if there is no expression in the statement or the return statement itself is not present inside a function,then the \n",
    "function will return None object\n"
   ]
  },
  {
   "cell_type": "markdown",
   "id": "f456a191",
   "metadata": {},
   "source": [
    "# define a function\n"
   ]
  },
  {
   "cell_type": "code",
   "execution_count": 12,
   "id": "452bd10d",
   "metadata": {},
   "outputs": [],
   "source": [
    "def print_text():\n",
    "    print(\"this is text\")"
   ]
  },
  {
   "cell_type": "markdown",
   "id": "b517c396",
   "metadata": {},
   "source": [
    "# calling the function"
   ]
  },
  {
   "cell_type": "code",
   "execution_count": 13,
   "id": "f787405a",
   "metadata": {},
   "outputs": [
    {
     "name": "stdout",
     "output_type": "stream",
     "text": [
      "this is text\n"
     ]
    }
   ],
   "source": [
    "print_text()"
   ]
  },
  {
   "cell_type": "code",
   "execution_count": 14,
   "id": "ad25c3f3",
   "metadata": {},
   "outputs": [],
   "source": [
    "def add(a,b):\n",
    "    c=a+b\n",
    "    return c"
   ]
  },
  {
   "cell_type": "code",
   "execution_count": 15,
   "id": "1eaa6b48",
   "metadata": {},
   "outputs": [
    {
     "data": {
      "text/plain": [
       "5"
      ]
     },
     "execution_count": 15,
     "metadata": {},
     "output_type": "execute_result"
    }
   ],
   "source": [
    "add(2,3)"
   ]
  },
  {
   "cell_type": "code",
   "execution_count": 16,
   "id": "9ae2c244",
   "metadata": {},
   "outputs": [
    {
     "ename": "TypeError",
     "evalue": "add() missing 1 required positional argument: 'b'",
     "output_type": "error",
     "traceback": [
      "\u001b[1;31m---------------------------------------------------------------------------\u001b[0m",
      "\u001b[1;31mTypeError\u001b[0m                                 Traceback (most recent call last)",
      "Cell \u001b[1;32mIn[16], line 1\u001b[0m\n\u001b[1;32m----> 1\u001b[0m \u001b[43madd\u001b[49m\u001b[43m(\u001b[49m\u001b[38;5;241;43m2\u001b[39;49m\u001b[43m)\u001b[49m\n",
      "\u001b[1;31mTypeError\u001b[0m: add() missing 1 required positional argument: 'b'"
     ]
    }
   ],
   "source": [
    "add(2)"
   ]
  },
  {
   "cell_type": "code",
   "execution_count": 17,
   "id": "e18c14ce",
   "metadata": {},
   "outputs": [
    {
     "ename": "TypeError",
     "evalue": "add() takes 2 positional arguments but 3 were given",
     "output_type": "error",
     "traceback": [
      "\u001b[1;31m---------------------------------------------------------------------------\u001b[0m",
      "\u001b[1;31mTypeError\u001b[0m                                 Traceback (most recent call last)",
      "Cell \u001b[1;32mIn[17], line 1\u001b[0m\n\u001b[1;32m----> 1\u001b[0m \u001b[43madd\u001b[49m\u001b[43m(\u001b[49m\u001b[38;5;241;43m2\u001b[39;49m\u001b[43m,\u001b[49m\u001b[38;5;241;43m3\u001b[39;49m\u001b[43m,\u001b[49m\u001b[38;5;241;43m4\u001b[39;49m\u001b[43m)\u001b[49m\n",
      "\u001b[1;31mTypeError\u001b[0m: add() takes 2 positional arguments but 3 were given"
     ]
    }
   ],
   "source": [
    "add(2,3,4)"
   ]
  },
  {
   "cell_type": "code",
   "execution_count": 18,
   "id": "3c0b79b5",
   "metadata": {},
   "outputs": [
    {
     "data": {
      "text/plain": [
       "11"
      ]
     },
     "execution_count": 18,
     "metadata": {},
     "output_type": "execute_result"
    }
   ],
   "source": [
    "add(5,6)"
   ]
  },
  {
   "cell_type": "markdown",
   "id": "7a11c335",
   "metadata": {},
   "source": [
    "# define a function with argument"
   ]
  },
  {
   "cell_type": "code",
   "execution_count": 19,
   "id": "ca96a8ac",
   "metadata": {},
   "outputs": [],
   "source": [
    "def print_this(x):\n",
    "    print(x)"
   ]
  },
  {
   "cell_type": "code",
   "execution_count": 20,
   "id": "3dd42ae3",
   "metadata": {},
   "outputs": [
    {
     "name": "stdout",
     "output_type": "stream",
     "text": [
      "3\n"
     ]
    }
   ],
   "source": [
    "print_this(3)"
   ]
  },
  {
   "cell_type": "code",
   "execution_count": 21,
   "id": "53caa9fe",
   "metadata": {},
   "outputs": [
    {
     "name": "stdout",
     "output_type": "stream",
     "text": [
      "3\n",
      "None\n"
     ]
    }
   ],
   "source": [
    "print(print_this(3)) #here the output is 3 and none is for print i,e for the print again we r giving print"
   ]
  },
  {
   "cell_type": "markdown",
   "id": "56cae466",
   "metadata": {},
   "source": [
    " if we want to store the value in a variable use return()"
   ]
  },
  {
   "cell_type": "code",
   "execution_count": 23,
   "id": "a8510e20",
   "metadata": {},
   "outputs": [
    {
     "data": {
      "text/plain": [
       "5"
      ]
     },
     "execution_count": 23,
     "metadata": {},
     "output_type": "execute_result"
    }
   ],
   "source": [
    "def add(a,b):\n",
    "    c=a+b\n",
    "    return c\n",
    "add(2,3)"
   ]
  },
  {
   "cell_type": "markdown",
   "id": "71dbb34c",
   "metadata": {},
   "source": [
    "if we dont want to store the value in a variable go for print() option"
   ]
  },
  {
   "cell_type": "code",
   "execution_count": 32,
   "id": "8fb2d98e",
   "metadata": {},
   "outputs": [
    {
     "name": "stdout",
     "output_type": "stream",
     "text": [
      "6\n"
     ]
    }
   ],
   "source": [
    "def add(a,b):\n",
    "    c=a+b\n",
    "    print(c)\n",
    "add(2,4)\n",
    "        "
   ]
  },
  {
   "cell_type": "markdown",
   "id": "ed7729fd",
   "metadata": {},
   "source": [
    "define a function with argument and return value:"
   ]
  },
  {
   "cell_type": "code",
   "execution_count": 33,
   "id": "5ed3fa20",
   "metadata": {},
   "outputs": [
    {
     "data": {
      "text/plain": [
       "9"
      ]
     },
     "execution_count": 33,
     "metadata": {},
     "output_type": "execute_result"
    }
   ],
   "source": [
    "def square_this(x):\n",
    "    return x**2\n",
    "square_this(3)"
   ]
  },
  {
   "cell_type": "code",
   "execution_count": 3,
   "id": "b2222931",
   "metadata": {},
   "outputs": [
    {
     "name": "stdout",
     "output_type": "stream",
     "text": [
      "enter the marks98\n",
      "grade A\n"
     ]
    }
   ],
   "source": [
    "def check_marks(y):\n",
    "    if y>90:\n",
    "        print(\"grade A\")\n",
    "    elif(y>70):\n",
    "        print(\"grade B\")\n",
    "    else:\n",
    "        print(\"grade F\")\n",
    "y=int(input(\"enter the marks\"))\n",
    "check_marks(y)"
   ]
  },
  {
   "cell_type": "code",
   "execution_count": 5,
   "id": "6719fb3b",
   "metadata": {},
   "outputs": [],
   "source": [
    " def add_list(l):\n",
    "    '''\n",
    "    this function returns by adding 10 to each item in the list\n",
    "    '''\n",
    "    k=[]\n",
    "    for i in l:\n",
    "        j=i+10\n",
    "        k.append(j)\n",
    "        print(k)"
   ]
  },
  {
   "cell_type": "code",
   "execution_count": 6,
   "id": "ea24a65b",
   "metadata": {},
   "outputs": [
    {
     "name": "stdout",
     "output_type": "stream",
     "text": [
      "[50]\n",
      "[50, 12]\n",
      "[50, 12, 48]\n",
      "[50, 12, 48, 17]\n"
     ]
    }
   ],
   "source": [
    "add_list([40,2,38,7])"
   ]
  },
  {
   "cell_type": "markdown",
   "id": "e0ca1748",
   "metadata": {},
   "source": [
    "return two values from a single function"
   ]
  },
  {
   "cell_type": "code",
   "execution_count": 7,
   "id": "314e0fbb",
   "metadata": {},
   "outputs": [
    {
     "data": {
      "text/plain": [
       "(1, 3)"
      ]
     },
     "execution_count": 7,
     "metadata": {},
     "output_type": "execute_result"
    }
   ],
   "source": [
    "def min_max(nums):\n",
    "    return min(nums),max(nums)\n",
    "min_max([1,2,3])"
   ]
  },
  {
   "cell_type": "markdown",
   "id": "35681535",
   "metadata": {},
   "source": [
    "if we want to store the value in a variable"
   ]
  },
  {
   "cell_type": "code",
   "execution_count": 8,
   "id": "235ded04",
   "metadata": {},
   "outputs": [
    {
     "name": "stdout",
     "output_type": "stream",
     "text": [
      "1\n",
      "3\n"
     ]
    }
   ],
   "source": [
    "a,b=min_max([1,2,3])\n",
    "print(a)\n",
    "print(b)"
   ]
  },
  {
   "cell_type": "markdown",
   "id": "58a96103",
   "metadata": {},
   "source": [
    "return values can be assigned into multiple variables using tuple unpacking"
   ]
  },
  {
   "cell_type": "markdown",
   "id": "e5a22d3e",
   "metadata": {},
   "source": [
    "min_num,max_num=min_max(nums)\n",
    "\n",
    "print(min_num)\n",
    "\n",
    "print(max_num)"
   ]
  },
  {
   "cell_type": "markdown",
   "id": "d12a9567",
   "metadata": {},
   "source": [
    "# Different types of arguments\n",
    "\n"
   ]
  },
  {
   "cell_type": "markdown",
   "id": "76469fd1",
   "metadata": {},
   "source": [
    "Function with no arguments"
   ]
  },
  {
   "cell_type": "code",
   "execution_count": 9,
   "id": "519ade29",
   "metadata": {},
   "outputs": [
    {
     "name": "stdout",
     "output_type": "stream",
     "text": [
      "hello srk good morning\n"
     ]
    }
   ],
   "source": [
    "def greet():          # defining a function\n",
    "    print(\"hello\",\"srk\",\"good morning\")\n",
    "    \n",
    "greet()        # calling a function"
   ]
  },
  {
   "cell_type": "markdown",
   "id": "5d1c2d92",
   "metadata": {},
   "source": [
    "###  1. Positional Arguments\n",
    "          \n",
    "          the number of arguments while defining a function and calling a function should be same otherwise it throws error\n",
    "          order is preserved\n",
    "          \n",
    "          its executes in same order"
   ]
  },
  {
   "cell_type": "code",
   "execution_count": 10,
   "id": "3c66a3a3",
   "metadata": {},
   "outputs": [
    {
     "name": "stdout",
     "output_type": "stream",
     "text": [
      "hello srk good morning\n",
      "hello morning srk\n"
     ]
    }
   ],
   "source": [
    "def greet(name,msg):\n",
    "    print(\"hello\",name,msg)\n",
    "greet(\"srk\",\"good morning\")\n",
    "greet(\"morning\",\"srk\")"
   ]
  },
  {
   "cell_type": "code",
   "execution_count": 11,
   "id": "70a78e2f",
   "metadata": {},
   "outputs": [
    {
     "ename": "TypeError",
     "evalue": "greet() missing 1 required positional argument: 'msg'",
     "output_type": "error",
     "traceback": [
      "\u001b[1;31m---------------------------------------------------------------------------\u001b[0m",
      "\u001b[1;31mTypeError\u001b[0m                                 Traceback (most recent call last)",
      "Cell \u001b[1;32mIn[11], line 2\u001b[0m\n\u001b[0;32m      1\u001b[0m \u001b[38;5;66;03m# suppose if we pass one argument\u001b[39;00m\n\u001b[1;32m----> 2\u001b[0m \u001b[43mgreet\u001b[49m\u001b[43m(\u001b[49m\u001b[38;5;124;43m\"\u001b[39;49m\u001b[38;5;124;43mmorning\u001b[39;49m\u001b[38;5;124;43m\"\u001b[39;49m\u001b[43m)\u001b[49m\n",
      "\u001b[1;31mTypeError\u001b[0m: greet() missing 1 required positional argument: 'msg'"
     ]
    }
   ],
   "source": [
    "# suppose if we pass one argument\n",
    "greet(\"morning\")"
   ]
  },
  {
   "cell_type": "markdown",
   "id": "89690095",
   "metadata": {},
   "source": [
    "###  2.Default Arguments\n",
    "\n",
    "           while creating a function,we are assigning a default value to an argument by using assignment operator(=)\n",
    "           \n",
    "           if you dont assign value for default arguments,it will automatically selects the default value\n",
    "           \n",
    "           if you assign the value for default argument,it will consider that value which you have assigned"
   ]
  },
  {
   "cell_type": "code",
   "execution_count": 16,
   "id": "cec4f180",
   "metadata": {},
   "outputs": [
    {
     "name": "stdout",
     "output_type": "stream",
     "text": [
      "hello srk good night\n",
      "hello srk good morning\n"
     ]
    }
   ],
   "source": [
    "def greet1(name,msg=\"good morning\"):\n",
    "    print(\"hello\",name,msg)\n",
    "greet1(\"srk\",\"good night\")\n",
    "greet1(\"srk\")\n",
    "    "
   ]
  },
  {
   "cell_type": "markdown",
   "id": "c69b16a5",
   "metadata": {},
   "source": [
    "### 3.Keyword Arguments"
   ]
  },
  {
   "cell_type": "code",
   "execution_count": 17,
   "id": "35292d8b",
   "metadata": {},
   "outputs": [
    {
     "name": "stdout",
     "output_type": "stream",
     "text": [
      "hello subha good morning\n",
      "hello subha good morning\n"
     ]
    }
   ],
   "source": [
    "def greet(name,msg):\n",
    "    print(\"hello\",name,msg)\n",
    "greet(msg=\"good morning\",name=\"subha\")\n",
    "greet(\"subha\",\"good morning\")\n"
   ]
  },
  {
   "cell_type": "markdown",
   "id": "f082b316",
   "metadata": {},
   "source": [
    "####  4.Arbitary Arguments\n",
    "\n",
    "          sometimes we dont know in advance the number of arguments that will be passed into a function.\n",
    "          \n",
    "      python allow us to handle this kind of situation through function calls with arbitary number of arguments"
   ]
  },
  {
   "cell_type": "code",
   "execution_count": 18,
   "id": "b57b9a90",
   "metadata": {},
   "outputs": [
    {
     "name": "stdout",
     "output_type": "stream",
     "text": [
      "hello 1\n",
      "hello 2\n",
      "hello 3\n"
     ]
    }
   ],
   "source": [
    "def greet(*n):\n",
    "    for i in n:\n",
    "        print(\"hello\",i)\n",
    "greet(1,2,3)"
   ]
  },
  {
   "cell_type": "markdown",
   "id": "8e2fb6cb",
   "metadata": {},
   "source": [
    "# Recursive function or recursion\n",
    "              A function can call other functions, it is even possible for the function to call itself.These type \n",
    "    of construct are termed as recursive function"
   ]
  },
  {
   "cell_type": "code",
   "execution_count": 5,
   "id": "16407388",
   "metadata": {},
   "outputs": [],
   "source": [
    "def fact(n):\n",
    "    if n<=1:\n",
    "        return 1\n",
    "    else:\n",
    "        return n*fact(n-1)\n",
    "        "
   ]
  },
  {
   "cell_type": "code",
   "execution_count": 6,
   "id": "306aa910",
   "metadata": {},
   "outputs": [
    {
     "data": {
      "text/plain": [
       "120"
      ]
     },
     "execution_count": 6,
     "metadata": {},
     "output_type": "execute_result"
    }
   ],
   "source": [
    "fact(5)"
   ]
  },
  {
   "cell_type": "code",
   "execution_count": 8,
   "id": "09504df4",
   "metadata": {},
   "outputs": [
    {
     "data": {
      "text/plain": [
       "479001600"
      ]
     },
     "execution_count": 8,
     "metadata": {},
     "output_type": "execute_result"
    }
   ],
   "source": [
    "fact(12)"
   ]
  },
  {
   "cell_type": "markdown",
   "id": "507ff5fa",
   "metadata": {},
   "source": [
    "###  Anonymous(Lambda) function\n",
    "\n",
    "              Primarily used to temporarily define a function for use by another function"
   ]
  },
  {
   "cell_type": "markdown",
   "id": "59d47115",
   "metadata": {},
   "source": [
    "define a function the \"usual\"way"
   ]
  },
  {
   "cell_type": "code",
   "execution_count": 397,
   "id": "cea2603c",
   "metadata": {},
   "outputs": [],
   "source": [
    "def squared(x):\n",
    "    return x**2"
   ]
  },
  {
   "cell_type": "markdown",
   "id": "49c1a7e4",
   "metadata": {},
   "source": [
    "Define an identical function using Lambda"
   ]
  },
  {
   "cell_type": "code",
   "execution_count": 398,
   "id": "a5da4281",
   "metadata": {},
   "outputs": [],
   "source": [
    "squared=lambda x:x**2"
   ]
  },
  {
   "cell_type": "markdown",
   "id": "3450a9ed",
   "metadata": {},
   "source": [
    "Sort a list of strings by the last letter"
   ]
  },
  {
   "cell_type": "code",
   "execution_count": 14,
   "id": "17ae35fe",
   "metadata": {},
   "outputs": [
    {
     "data": {
      "text/plain": [
       "['marge', 'homer', 'bart']"
      ]
     },
     "execution_count": 14,
     "metadata": {},
     "output_type": "execute_result"
    }
   ],
   "source": [
    "def last_letter(word):\n",
    "    return word[-1]\n",
    "simpsons=['homer','marge','bart']\n",
    "sorted(simpsons,key=last_letter)"
   ]
  },
  {
   "cell_type": "code",
   "execution_count": 15,
   "id": "4617fdee",
   "metadata": {},
   "outputs": [
    {
     "data": {
      "text/plain": [
       "['marge', 'homer', 'bart']"
      ]
     },
     "execution_count": 15,
     "metadata": {},
     "output_type": "execute_result"
    }
   ],
   "source": [
    "sorted(simpsons,key=lambda word:word[-1])"
   ]
  },
  {
   "cell_type": "markdown",
   "id": "dc0a32b2",
   "metadata": {},
   "source": [
    "# Modules\n",
    "       A group of functions,variables saved to apython file(.py) which is nothing but module\n",
    "       "
   ]
  },
  {
   "cell_type": "markdown",
   "id": "30c44844",
   "metadata": {},
   "source": [
    "# Types of Modules\n",
    " "
   ]
  },
  {
   "cell_type": "markdown",
   "id": "78380907",
   "metadata": {},
   "source": [
    "Inbuilt Module: \n",
    "               \n",
    "               1.math\n",
    "               2.Random"
   ]
  },
  {
   "cell_type": "markdown",
   "id": "7a54e5b9",
   "metadata": {},
   "source": [
    "User defined Module:\n",
    "       \n",
    "        1.SRK module contains one variable and two functions\n",
    "        2.If we want to use members of module in our program then we should import that module\n",
    "        3.import module name"
   ]
  },
  {
   "cell_type": "markdown",
   "id": "0dcb3720",
   "metadata": {},
   "source": [
    "We can access members by using module name\n",
    "  \n",
    "    1.module name.variable()\n",
    "    2.module name.function()"
   ]
  },
  {
   "cell_type": "markdown",
   "id": "dbf8c615",
   "metadata": {},
   "source": [
    "Inbuilt module:\n",
    "    \n",
    "       Working with math module:\n",
    "                                 python provides inbuilt module math\n",
    "                                this module define several functions which can be used for mathematical operations"
   ]
  },
  {
   "cell_type": "code",
   "execution_count": 17,
   "id": "e79d15c5",
   "metadata": {},
   "outputs": [
    {
     "name": "stdout",
     "output_type": "stream",
     "text": [
      "Help on built-in module math:\n",
      "\n",
      "NAME\n",
      "    math\n",
      "\n",
      "DESCRIPTION\n",
      "    This module provides access to the mathematical functions\n",
      "    defined by the C standard.\n",
      "\n",
      "FUNCTIONS\n",
      "    acos(x, /)\n",
      "        Return the arc cosine (measured in radians) of x.\n",
      "        \n",
      "        The result is between 0 and pi.\n",
      "    \n",
      "    acosh(x, /)\n",
      "        Return the inverse hyperbolic cosine of x.\n",
      "    \n",
      "    asin(x, /)\n",
      "        Return the arc sine (measured in radians) of x.\n",
      "        \n",
      "        The result is between -pi/2 and pi/2.\n",
      "    \n",
      "    asinh(x, /)\n",
      "        Return the inverse hyperbolic sine of x.\n",
      "    \n",
      "    atan(x, /)\n",
      "        Return the arc tangent (measured in radians) of x.\n",
      "        \n",
      "        The result is between -pi/2 and pi/2.\n",
      "    \n",
      "    atan2(y, x, /)\n",
      "        Return the arc tangent (measured in radians) of y/x.\n",
      "        \n",
      "        Unlike atan(y/x), the signs of both x and y are considered.\n",
      "    \n",
      "    atanh(x, /)\n",
      "        Return the inverse hyperbolic tangent of x.\n",
      "    \n",
      "    ceil(x, /)\n",
      "        Return the ceiling of x as an Integral.\n",
      "        \n",
      "        This is the smallest integer >= x.\n",
      "    \n",
      "    comb(n, k, /)\n",
      "        Number of ways to choose k items from n items without repetition and without order.\n",
      "        \n",
      "        Evaluates to n! / (k! * (n - k)!) when k <= n and evaluates\n",
      "        to zero when k > n.\n",
      "        \n",
      "        Also called the binomial coefficient because it is equivalent\n",
      "        to the coefficient of k-th term in polynomial expansion of the\n",
      "        expression (1 + x)**n.\n",
      "        \n",
      "        Raises TypeError if either of the arguments are not integers.\n",
      "        Raises ValueError if either of the arguments are negative.\n",
      "    \n",
      "    copysign(x, y, /)\n",
      "        Return a float with the magnitude (absolute value) of x but the sign of y.\n",
      "        \n",
      "        On platforms that support signed zeros, copysign(1.0, -0.0)\n",
      "        returns -1.0.\n",
      "    \n",
      "    cos(x, /)\n",
      "        Return the cosine of x (measured in radians).\n",
      "    \n",
      "    cosh(x, /)\n",
      "        Return the hyperbolic cosine of x.\n",
      "    \n",
      "    degrees(x, /)\n",
      "        Convert angle x from radians to degrees.\n",
      "    \n",
      "    dist(p, q, /)\n",
      "        Return the Euclidean distance between two points p and q.\n",
      "        \n",
      "        The points should be specified as sequences (or iterables) of\n",
      "        coordinates.  Both inputs must have the same dimension.\n",
      "        \n",
      "        Roughly equivalent to:\n",
      "            sqrt(sum((px - qx) ** 2.0 for px, qx in zip(p, q)))\n",
      "    \n",
      "    erf(x, /)\n",
      "        Error function at x.\n",
      "    \n",
      "    erfc(x, /)\n",
      "        Complementary error function at x.\n",
      "    \n",
      "    exp(x, /)\n",
      "        Return e raised to the power of x.\n",
      "    \n",
      "    expm1(x, /)\n",
      "        Return exp(x)-1.\n",
      "        \n",
      "        This function avoids the loss of precision involved in the direct evaluation of exp(x)-1 for small x.\n",
      "    \n",
      "    fabs(x, /)\n",
      "        Return the absolute value of the float x.\n",
      "    \n",
      "    factorial(x, /)\n",
      "        Find x!.\n",
      "        \n",
      "        Raise a ValueError if x is negative or non-integral.\n",
      "    \n",
      "    floor(x, /)\n",
      "        Return the floor of x as an Integral.\n",
      "        \n",
      "        This is the largest integer <= x.\n",
      "    \n",
      "    fmod(x, y, /)\n",
      "        Return fmod(x, y), according to platform C.\n",
      "        \n",
      "        x % y may differ.\n",
      "    \n",
      "    frexp(x, /)\n",
      "        Return the mantissa and exponent of x, as pair (m, e).\n",
      "        \n",
      "        m is a float and e is an int, such that x = m * 2.**e.\n",
      "        If x is 0, m and e are both 0.  Else 0.5 <= abs(m) < 1.0.\n",
      "    \n",
      "    fsum(seq, /)\n",
      "        Return an accurate floating point sum of values in the iterable seq.\n",
      "        \n",
      "        Assumes IEEE-754 floating point arithmetic.\n",
      "    \n",
      "    gamma(x, /)\n",
      "        Gamma function at x.\n",
      "    \n",
      "    gcd(*integers)\n",
      "        Greatest Common Divisor.\n",
      "    \n",
      "    hypot(...)\n",
      "        hypot(*coordinates) -> value\n",
      "        \n",
      "        Multidimensional Euclidean distance from the origin to a point.\n",
      "        \n",
      "        Roughly equivalent to:\n",
      "            sqrt(sum(x**2 for x in coordinates))\n",
      "        \n",
      "        For a two dimensional point (x, y), gives the hypotenuse\n",
      "        using the Pythagorean theorem:  sqrt(x*x + y*y).\n",
      "        \n",
      "        For example, the hypotenuse of a 3/4/5 right triangle is:\n",
      "        \n",
      "            >>> hypot(3.0, 4.0)\n",
      "            5.0\n",
      "    \n",
      "    isclose(a, b, *, rel_tol=1e-09, abs_tol=0.0)\n",
      "        Determine whether two floating point numbers are close in value.\n",
      "        \n",
      "          rel_tol\n",
      "            maximum difference for being considered \"close\", relative to the\n",
      "            magnitude of the input values\n",
      "          abs_tol\n",
      "            maximum difference for being considered \"close\", regardless of the\n",
      "            magnitude of the input values\n",
      "        \n",
      "        Return True if a is close in value to b, and False otherwise.\n",
      "        \n",
      "        For the values to be considered close, the difference between them\n",
      "        must be smaller than at least one of the tolerances.\n",
      "        \n",
      "        -inf, inf and NaN behave similarly to the IEEE 754 Standard.  That\n",
      "        is, NaN is not close to anything, even itself.  inf and -inf are\n",
      "        only close to themselves.\n",
      "    \n",
      "    isfinite(x, /)\n",
      "        Return True if x is neither an infinity nor a NaN, and False otherwise.\n",
      "    \n",
      "    isinf(x, /)\n",
      "        Return True if x is a positive or negative infinity, and False otherwise.\n",
      "    \n",
      "    isnan(x, /)\n",
      "        Return True if x is a NaN (not a number), and False otherwise.\n",
      "    \n",
      "    isqrt(n, /)\n",
      "        Return the integer part of the square root of the input.\n",
      "    \n",
      "    lcm(*integers)\n",
      "        Least Common Multiple.\n",
      "    \n",
      "    ldexp(x, i, /)\n",
      "        Return x * (2**i).\n",
      "        \n",
      "        This is essentially the inverse of frexp().\n",
      "    \n",
      "    lgamma(x, /)\n",
      "        Natural logarithm of absolute value of Gamma function at x.\n",
      "    \n",
      "    log(...)\n",
      "        log(x, [base=math.e])\n",
      "        Return the logarithm of x to the given base.\n",
      "        \n",
      "        If the base not specified, returns the natural logarithm (base e) of x.\n",
      "    \n",
      "    log10(x, /)\n",
      "        Return the base 10 logarithm of x.\n",
      "    \n",
      "    log1p(x, /)\n",
      "        Return the natural logarithm of 1+x (base e).\n",
      "        \n",
      "        The result is computed in a way which is accurate for x near zero.\n",
      "    \n",
      "    log2(x, /)\n",
      "        Return the base 2 logarithm of x.\n",
      "    \n",
      "    modf(x, /)\n",
      "        Return the fractional and integer parts of x.\n",
      "        \n",
      "        Both results carry the sign of x and are floats.\n",
      "    \n",
      "    nextafter(x, y, /)\n",
      "        Return the next floating-point value after x towards y.\n",
      "    \n",
      "    perm(n, k=None, /)\n",
      "        Number of ways to choose k items from n items without repetition and with order.\n",
      "        \n",
      "        Evaluates to n! / (n - k)! when k <= n and evaluates\n",
      "        to zero when k > n.\n",
      "        \n",
      "        If k is not specified or is None, then k defaults to n\n",
      "        and the function returns n!.\n",
      "        \n",
      "        Raises TypeError if either of the arguments are not integers.\n",
      "        Raises ValueError if either of the arguments are negative.\n",
      "    \n",
      "    pow(x, y, /)\n",
      "        Return x**y (x to the power of y).\n",
      "    \n",
      "    prod(iterable, /, *, start=1)\n",
      "        Calculate the product of all the elements in the input iterable.\n",
      "        \n",
      "        The default start value for the product is 1.\n",
      "        \n",
      "        When the iterable is empty, return the start value.  This function is\n",
      "        intended specifically for use with numeric values and may reject\n",
      "        non-numeric types.\n",
      "    \n",
      "    radians(x, /)\n",
      "        Convert angle x from degrees to radians.\n",
      "    \n",
      "    remainder(x, y, /)\n",
      "        Difference between x and the closest integer multiple of y.\n",
      "        \n",
      "        Return x - n*y where n*y is the closest integer multiple of y.\n",
      "        In the case where x is exactly halfway between two multiples of\n",
      "        y, the nearest even value of n is used. The result is always exact.\n",
      "    \n",
      "    sin(x, /)\n",
      "        Return the sine of x (measured in radians).\n",
      "    \n",
      "    sinh(x, /)\n",
      "        Return the hyperbolic sine of x.\n",
      "    \n",
      "    sqrt(x, /)\n",
      "        Return the square root of x.\n",
      "    \n",
      "    tan(x, /)\n",
      "        Return the tangent of x (measured in radians).\n",
      "    \n",
      "    tanh(x, /)\n",
      "        Return the hyperbolic tangent of x.\n",
      "    \n",
      "    trunc(x, /)\n",
      "        Truncates the Real x to the nearest Integral toward 0.\n",
      "        \n",
      "        Uses the __trunc__ magic method.\n",
      "    \n",
      "    ulp(x, /)\n",
      "        Return the value of the least significant bit of the float x.\n",
      "\n",
      "DATA\n",
      "    e = 2.718281828459045\n",
      "    inf = inf\n",
      "    nan = nan\n",
      "    pi = 3.141592653589793\n",
      "    tau = 6.283185307179586\n",
      "\n",
      "FILE\n",
      "    (built-in)\n",
      "\n",
      "\n"
     ]
    },
    {
     "data": {
      "text/plain": [
       "8.0"
      ]
     },
     "execution_count": 17,
     "metadata": {},
     "output_type": "execute_result"
    }
   ],
   "source": [
    "import math\n",
    "help(math)\n",
    "math.pow(2,3)  #from math import pow"
   ]
  },
  {
   "cell_type": "code",
   "execution_count": 18,
   "id": "00ad1018",
   "metadata": {},
   "outputs": [
    {
     "data": {
      "text/plain": [
       "2.0"
      ]
     },
     "execution_count": 18,
     "metadata": {},
     "output_type": "execute_result"
    }
   ],
   "source": [
    "math.sqrt(4)    # from math import sqrt"
   ]
  },
  {
   "cell_type": "markdown",
   "id": "127ceaf8",
   "metadata": {},
   "source": [
    "Working with random modules\n",
    "              \n",
    "              the module defines several functions to generate random numbers\n",
    "    we can use these functions while developing games,in cryptography and to generate random numberson fly for authetication"
   ]
  },
  {
   "cell_type": "code",
   "execution_count": 19,
   "id": "2bdcc463",
   "metadata": {},
   "outputs": [
    {
     "data": {
      "text/plain": [
       "0.5353588250701101"
      ]
     },
     "execution_count": 19,
     "metadata": {},
     "output_type": "execute_result"
    }
   ],
   "source": [
    "import random     # random function always generate same float value between 0 and 1\n",
    "random.random()"
   ]
  },
  {
   "cell_type": "code",
   "execution_count": 20,
   "id": "0189af3f",
   "metadata": {},
   "outputs": [
    {
     "name": "stdout",
     "output_type": "stream",
     "text": [
      "0.5064315549979141\n",
      "0.9550209223159667\n",
      "0.10534177085622165\n",
      "0.4274973732538795\n",
      "0.9466371157043291\n"
     ]
    }
   ],
   "source": [
    "for i in range(5):\n",
    "    print(random.random())"
   ]
  },
  {
   "cell_type": "markdown",
   "id": "561f65db",
   "metadata": {},
   "source": [
    "randint() function:\n",
    "    \n",
    "         to generate random integer between2 given numbers(Inclusive)"
   ]
  },
  {
   "cell_type": "code",
   "execution_count": 21,
   "id": "3e78ae4d",
   "metadata": {},
   "outputs": [
    {
     "data": {
      "text/plain": [
       "43"
      ]
     },
     "execution_count": 21,
     "metadata": {},
     "output_type": "execute_result"
    }
   ],
   "source": [
    "random.randint(1,100)"
   ]
  },
  {
   "cell_type": "code",
   "execution_count": 23,
   "id": "49f33c31",
   "metadata": {},
   "outputs": [
    {
     "name": "stdout",
     "output_type": "stream",
     "text": [
      "98\n",
      "51\n",
      "73\n",
      "77\n",
      "80\n",
      "86\n",
      "100\n",
      "94\n",
      "92\n",
      "64\n"
     ]
    }
   ],
   "source": [
    "for i in range(10):\n",
    "    print(random.randint(1,100))"
   ]
  },
  {
   "cell_type": "markdown",
   "id": "c6333ea4",
   "metadata": {},
   "source": [
    "randrange()function:\n",
    "    \n",
    "           to generate random integer or integers in guven range"
   ]
  },
  {
   "cell_type": "code",
   "execution_count": 24,
   "id": "342da5d1",
   "metadata": {},
   "outputs": [
    {
     "data": {
      "text/plain": [
       "59"
      ]
     },
     "execution_count": 24,
     "metadata": {},
     "output_type": "execute_result"
    }
   ],
   "source": [
    "random.randrange(2,101)\n"
   ]
  },
  {
   "cell_type": "markdown",
   "id": "7fe0b84d",
   "metadata": {},
   "source": [
    "choice() function:\n",
    "          \n",
    "        It won't return random number\n",
    "        It will return a random object"
   ]
  },
  {
   "cell_type": "code",
   "execution_count": 25,
   "id": "cab6cb54",
   "metadata": {},
   "outputs": [
    {
     "data": {
      "text/plain": [
       "'vinny'"
      ]
     },
     "execution_count": 25,
     "metadata": {},
     "output_type": "execute_result"
    }
   ],
   "source": [
    "list=[\"sunny\",\"bunny\",\"chinny\"],\"vinny\"\n",
    "random.choice(list)"
   ]
  },
  {
   "cell_type": "markdown",
   "id": "284cf722",
   "metadata": {},
   "source": [
    "# user defined module\n"
   ]
  },
  {
   "cell_type": "markdown",
   "id": "b6207cda",
   "metadata": {},
   "source": [
    "import Srk\n",
    "  "
   ]
  },
  {
   "cell_type": "markdown",
   "id": "85f96f43",
   "metadata": {},
   "source": [
    "      this will work,only when we have used defined module in our working directory\n",
    "      \n",
    "      if the module is available in another location,then we have change for working directory"
   ]
  },
  {
   "cell_type": "code",
   "execution_count": null,
   "id": "0b217c58",
   "metadata": {},
   "outputs": [],
   "source": []
  }
 ],
 "metadata": {
  "kernelspec": {
   "display_name": "Python 3 (ipykernel)",
   "language": "python",
   "name": "python3"
  },
  "language_info": {
   "codemirror_mode": {
    "name": "ipython",
    "version": 3
   },
   "file_extension": ".py",
   "mimetype": "text/x-python",
   "name": "python",
   "nbconvert_exporter": "python",
   "pygments_lexer": "ipython3",
   "version": "3.10.9"
  }
 },
 "nbformat": 4,
 "nbformat_minor": 5
}
