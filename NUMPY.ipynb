{
 "cells": [
  {
   "cell_type": "markdown",
   "id": "fd24a177",
   "metadata": {},
   "source": [
    "# NUMPY(Numerical python)"
   ]
  },
  {
   "cell_type": "markdown",
   "id": "64895543",
   "metadata": {},
   "source": [
    "Numpy:"
   ]
  },
  {
   "cell_type": "markdown",
   "id": "7364aadb",
   "metadata": {},
   "source": [
    "--- Used for working of arrays"
   ]
  },
  {
   "cell_type": "markdown",
   "id": "49112b77",
   "metadata": {},
   "source": [
    "--- In python we have lists that serve the purpose of arrays,but they are slow to process"
   ]
  },
  {
   "cell_type": "markdown",
   "id": "fabe038f",
   "metadata": {},
   "source": [
    "--- Numpy is incredible library to perform mathematical and statistical operations due to its fast and memory efficient as it is optimized to work with latest CPU architectures"
   ]
  },
  {
   "cell_type": "markdown",
   "id": "1c3a00b5",
   "metadata": {},
   "source": [
    "--- Numpy aims to provide an array object that is upto 50x faster than traditional python lists.So processes can access and\n",
    "     manipulate them very efficiently"
   ]
  },
  {
   "cell_type": "markdown",
   "id": "95a64225",
   "metadata": {},
   "source": [
    "# in easyway\n",
    "       \n",
    "       Numpy is numerical python where it is used to work in terms of numerical data and mathematical operations "
   ]
  },
  {
   "cell_type": "markdown",
   "id": "276efb79",
   "metadata": {},
   "source": [
    "# difference between nparray and list----------\n",
    "            \n",
    "    Numpy-----arrays\n",
    "    python---- we have list to serve the purpose of arrays,but they are slow"
   ]
  },
  {
   "cell_type": "code",
   "execution_count": 9,
   "id": "df5f792b",
   "metadata": {},
   "outputs": [
    {
     "name": "stdout",
     "output_type": "stream",
     "text": [
      "[1, 2, 3, 4, 5]\n"
     ]
    },
    {
     "data": {
      "text/plain": [
       "list"
      ]
     },
     "execution_count": 9,
     "metadata": {},
     "output_type": "execute_result"
    }
   ],
   "source": [
    "a=[1,2,3,4,5]            # here in python,the output is list of array and type of list\n",
    "print(a)\n",
    "type(a)"
   ]
  },
  {
   "cell_type": "code",
   "execution_count": 1,
   "id": "0d238abc",
   "metadata": {
    "scrolled": true
   },
   "outputs": [
    {
     "name": "stdout",
     "output_type": "stream",
     "text": [
      "[1 2 3 4 5]\n"
     ]
    },
    {
     "data": {
      "text/plain": [
       "numpy.ndarray"
      ]
     },
     "execution_count": 1,
     "metadata": {},
     "output_type": "execute_result"
    }
   ],
   "source": [
    "#in numpy\n",
    "import numpy as np    # here we are importing numpy as np \n",
    "a=[1,2,3,4,5]\n",
    "np_a=np.array(a)      # converting the list of array as np.array(ahow to convert)\n",
    "print(np_a)\n",
    "type(np_a)\n",
    "    "
   ]
  },
  {
   "cell_type": "markdown",
   "id": "efebf4b2",
   "metadata": {},
   "source": [
    "How to convert list to array-----\n",
    "            \n",
    "            np.array()   # is a function available in numpy module"
   ]
  },
  {
   "cell_type": "markdown",
   "id": "2400bf53",
   "metadata": {},
   "source": [
    "while printing the output the difference between list and numpy is----\n",
    "   \n",
    "            list----[1,2,3,4,5]\n",
    "           numpy----[1 2 3 4 5]   #comma is not there"
   ]
  },
  {
   "cell_type": "code",
   "execution_count": 14,
   "id": "9ae8660f",
   "metadata": {},
   "outputs": [
    {
     "name": "stdout",
     "output_type": "stream",
     "text": [
      "[11, 12, 13]\n"
     ]
    }
   ],
   "source": [
    "l1=[1,2,3]                                         \n",
    "l=[]                                                \n",
    "for i in range(len(l1)):                            \n",
    "    a=l1[i]+10                                        \n",
    "    l.append(a)                                        \n",
    "print(l)                                                "
   ]
  },
  {
   "cell_type": "code",
   "execution_count": 15,
   "id": "42f36fc5",
   "metadata": {},
   "outputs": [
    {
     "name": "stdout",
     "output_type": "stream",
     "text": [
      "[11, 12, 13]\n"
     ]
    }
   ],
   "source": [
    "l1=[1,2,3]\n",
    "l=[]\n",
    "for i in l1:\n",
    "    a=i+10\n",
    "    l.append(a)\n",
    "print(l)"
   ]
  },
  {
   "cell_type": "code",
   "execution_count": null,
   "id": "04d31312",
   "metadata": {},
   "outputs": [],
   "source": [
    "# the above code is for python but in numpy-----"
   ]
  },
  {
   "cell_type": "code",
   "execution_count": 16,
   "id": "00731c00",
   "metadata": {},
   "outputs": [
    {
     "data": {
      "text/plain": [
       "array([11, 12, 13])"
      ]
     },
     "execution_count": 16,
     "metadata": {},
     "output_type": "execute_result"
    }
   ],
   "source": [
    "l1=[1,2,3]\n",
    "np.array(l1)+10     # by default,in backend the for loop is applicable for     np.array(l1)+10"
   ]
  },
  {
   "cell_type": "code",
   "execution_count": 17,
   "id": "92816f2c",
   "metadata": {},
   "outputs": [
    {
     "name": "stdout",
     "output_type": "stream",
     "text": [
      "1\n",
      "2\n",
      "3\n"
     ]
    }
   ],
   "source": [
    "# list comprehension(in core python)\n",
    "\n",
    "l1=[1,2,3]\n",
    "for i in l1:\n",
    "    print(i)"
   ]
  },
  {
   "cell_type": "code",
   "execution_count": 19,
   "id": "ca0717d6",
   "metadata": {},
   "outputs": [
    {
     "name": "stdout",
     "output_type": "stream",
     "text": [
      "[1, 2, 3]\n"
     ]
    }
   ],
   "source": [
    "l=[]\n",
    "for i in l1:\n",
    "    l.append(i)\n",
    "print(l)\n",
    "    "
   ]
  },
  {
   "cell_type": "code",
   "execution_count": 20,
   "id": "56e92dcd",
   "metadata": {},
   "outputs": [
    {
     "data": {
      "text/plain": [
       "[1, 2, 3]"
      ]
     },
     "execution_count": 20,
     "metadata": {},
     "output_type": "execute_result"
    }
   ],
   "source": [
    "# in numpy\n",
    "l=[]\n",
    "[i for i in l1]     # whatever we want to append write in first position in for loop"
   ]
  },
  {
   "cell_type": "code",
   "execution_count": 21,
   "id": "e45289db",
   "metadata": {},
   "outputs": [
    {
     "data": {
      "text/plain": [
       "[11, 12, 13]"
      ]
     },
     "execution_count": 21,
     "metadata": {},
     "output_type": "execute_result"
    }
   ],
   "source": [
    "# for adding 10    whatever we want to add,first we write the appending and then for loop\n",
    "[i+10 for i in l1]    # by default in backend for loop for i+10 is done"
   ]
  },
  {
   "cell_type": "code",
   "execution_count": 23,
   "id": "58113684",
   "metadata": {},
   "outputs": [
    {
     "name": "stdout",
     "output_type": "stream",
     "text": [
      "[5, 7, 9]\n"
     ]
    }
   ],
   "source": [
    "# input is l1=[1,2,3] and l2=[4,5,6] and output is l=[5,7,9] what is code?\n",
    "l1=[1,2,3]\n",
    "l2=[4,5,6]\n",
    "l=[]\n",
    "for i in range (3):\n",
    "    a = l1[i]+l2[i]\n",
    "    l.append(a)\n",
    "print(l)"
   ]
  },
  {
   "cell_type": "code",
   "execution_count": 9,
   "id": "a52b6f4c",
   "metadata": {},
   "outputs": [
    {
     "data": {
      "text/plain": [
       "array([5, 7, 9])"
      ]
     },
     "execution_count": 9,
     "metadata": {},
     "output_type": "execute_result"
    }
   ],
   "source": [
    "import numpy as np\n",
    "np.array(l1)\n",
    "np.array(l2)\n",
    "l1=[1,2,3]\n",
    "l2=[4,5,6]\n",
    "np.array(l1)+np.array(l2)"
   ]
  },
  {
   "cell_type": "markdown",
   "id": "4731b771",
   "metadata": {},
   "source": [
    "# Numpy Arrays"
   ]
  },
  {
   "cell_type": "markdown",
   "id": "a82a6e86",
   "metadata": {},
   "source": [
    "# 0-D:(0-dimension)\n",
    "       \n",
    "           means a single value\n",
    "      \n",
    "    "
   ]
  },
  {
   "cell_type": "code",
   "execution_count": 12,
   "id": "7d7a3b76",
   "metadata": {},
   "outputs": [
    {
     "name": "stdout",
     "output_type": "stream",
     "text": [
      "45\n"
     ]
    },
    {
     "data": {
      "text/plain": [
       "numpy.ndarray"
      ]
     },
     "execution_count": 12,
     "metadata": {},
     "output_type": "execute_result"
    }
   ],
   "source": [
    "a=45\n",
    "arr_0=np.array(a)      #arr_0 is variable name\n",
    "print(arr_0)\n",
    "type(arr_0)"
   ]
  },
  {
   "cell_type": "code",
   "execution_count": 13,
   "id": "baf439a4",
   "metadata": {},
   "outputs": [
    {
     "data": {
      "text/plain": [
       "0"
      ]
     },
     "execution_count": 13,
     "metadata": {},
     "output_type": "execute_result"
    }
   ],
   "source": [
    "arr_0.ndim"
   ]
  },
  {
   "cell_type": "code",
   "execution_count": 14,
   "id": "60269dbc",
   "metadata": {},
   "outputs": [
    {
     "data": {
      "text/plain": [
       "()"
      ]
     },
     "execution_count": 14,
     "metadata": {},
     "output_type": "execute_result"
    }
   ],
   "source": [
    "arr_0.shape     #if the output is empty it is o-dimension"
   ]
  },
  {
   "cell_type": "markdown",
   "id": "a81070b6",
   "metadata": {},
   "source": [
    "# 1-D:(1-dimension)\n",
    "       \n",
    "      minimum it should be list\n",
    "    "
   ]
  },
  {
   "cell_type": "code",
   "execution_count": 20,
   "id": "e2918314",
   "metadata": {},
   "outputs": [
    {
     "name": "stdout",
     "output_type": "stream",
     "text": [
      "[45]\n"
     ]
    },
    {
     "data": {
      "text/plain": [
       "numpy.ndarray"
      ]
     },
     "execution_count": 20,
     "metadata": {},
     "output_type": "execute_result"
    }
   ],
   "source": [
    "a=[45]\n",
    "arr1=np.array(a)\n",
    "print(arr1)\n",
    "type(arr1)"
   ]
  },
  {
   "cell_type": "code",
   "execution_count": 21,
   "id": "64ffa167",
   "metadata": {},
   "outputs": [
    {
     "data": {
      "text/plain": [
       "1"
      ]
     },
     "execution_count": 21,
     "metadata": {},
     "output_type": "execute_result"
    }
   ],
   "source": [
    "arr1.ndim\n"
   ]
  },
  {
   "cell_type": "code",
   "execution_count": 22,
   "id": "975c6eec",
   "metadata": {},
   "outputs": [
    {
     "data": {
      "text/plain": [
       "(1,)"
      ]
     },
     "execution_count": 22,
     "metadata": {},
     "output_type": "execute_result"
    }
   ],
   "source": [
    "arr1.shape         (1,) means 1 dimensional"
   ]
  },
  {
   "cell_type": "markdown",
   "id": "ed845016",
   "metadata": {},
   "source": [
    "# 2-D(2-dimension):   (no of rows,no of columns)\n",
    "            \n",
    "          A combination of two 1-dimensions"
   ]
  },
  {
   "cell_type": "code",
   "execution_count": 25,
   "id": "6ba2335d",
   "metadata": {},
   "outputs": [
    {
     "name": "stdout",
     "output_type": "stream",
     "text": [
      "[[1 2 3]\n",
      " [4 5 6]]\n"
     ]
    },
    {
     "data": {
      "text/plain": [
       "numpy.ndarray"
      ]
     },
     "execution_count": 25,
     "metadata": {},
     "output_type": "execute_result"
    }
   ],
   "source": [
    "a=[[1,2,3],[4,5,6]]\n",
    "arr2=np.array(a)\n",
    "print(arr2)\n",
    "type(arr2)"
   ]
  },
  {
   "cell_type": "code",
   "execution_count": 26,
   "id": "f2f295a6",
   "metadata": {},
   "outputs": [
    {
     "data": {
      "text/plain": [
       "2"
      ]
     },
     "execution_count": 26,
     "metadata": {},
     "output_type": "execute_result"
    }
   ],
   "source": [
    "arr2.ndim"
   ]
  },
  {
   "cell_type": "code",
   "execution_count": 27,
   "id": "3ba84cc2",
   "metadata": {},
   "outputs": [
    {
     "data": {
      "text/plain": [
       "(2, 3)"
      ]
     },
     "execution_count": 27,
     "metadata": {},
     "output_type": "execute_result"
    }
   ],
   "source": [
    "arr2.shape"
   ]
  },
  {
   "cell_type": "code",
   "execution_count": 28,
   "id": "f03a4710",
   "metadata": {},
   "outputs": [
    {
     "data": {
      "text/plain": [
       "array([0, 1, 2, 3])"
      ]
     },
     "execution_count": 28,
     "metadata": {},
     "output_type": "execute_result"
    }
   ],
   "source": [
    "a=np.array([0,1,2,3])\n",
    "a"
   ]
  },
  {
   "cell_type": "code",
   "execution_count": 29,
   "id": "ca04677f",
   "metadata": {},
   "outputs": [
    {
     "name": "stdout",
     "output_type": "stream",
     "text": [
      "[0 1 2 3]\n"
     ]
    }
   ],
   "source": [
    "print(a)           # here the output is [0 1 2 3]with no commas ,we can identify as a list"
   ]
  },
  {
   "cell_type": "code",
   "execution_count": 30,
   "id": "c24c257b",
   "metadata": {},
   "outputs": [
    {
     "data": {
      "text/plain": [
       "1"
      ]
     },
     "execution_count": 30,
     "metadata": {},
     "output_type": "execute_result"
    }
   ],
   "source": [
    "a.ndim"
   ]
  },
  {
   "cell_type": "code",
   "execution_count": 31,
   "id": "fd38581d",
   "metadata": {},
   "outputs": [
    {
     "data": {
      "text/plain": [
       "(4,)"
      ]
     },
     "execution_count": 31,
     "metadata": {},
     "output_type": "execute_result"
    }
   ],
   "source": [
    "a.shape"
   ]
  },
  {
   "cell_type": "code",
   "execution_count": 32,
   "id": "2c5facce",
   "metadata": {},
   "outputs": [
    {
     "name": "stdout",
     "output_type": "stream",
     "text": [
      "subha\n"
     ]
    }
   ],
   "source": [
    "arr=np.array(\"subha\")\n",
    "print(arr)"
   ]
  },
  {
   "cell_type": "code",
   "execution_count": 33,
   "id": "564cc5f9",
   "metadata": {},
   "outputs": [
    {
     "data": {
      "text/plain": [
       "numpy.ndarray"
      ]
     },
     "execution_count": 33,
     "metadata": {},
     "output_type": "execute_result"
    }
   ],
   "source": [
    "type(arr)"
   ]
  },
  {
   "cell_type": "code",
   "execution_count": 34,
   "id": "f4e1667a",
   "metadata": {},
   "outputs": [
    {
     "data": {
      "text/plain": [
       "0"
      ]
     },
     "execution_count": 34,
     "metadata": {},
     "output_type": "execute_result"
    }
   ],
   "source": [
    "arr.ndim"
   ]
  },
  {
   "cell_type": "code",
   "execution_count": 38,
   "id": "72028714",
   "metadata": {},
   "outputs": [
    {
     "name": "stdout",
     "output_type": "stream",
     "text": [
      "[1 2 3]\n"
     ]
    }
   ],
   "source": [
    "a1=[1,2,3]\n",
    "arr1=np.array(a1)\n",
    "print(arr1)"
   ]
  },
  {
   "cell_type": "code",
   "execution_count": 39,
   "id": "aae2ec34",
   "metadata": {},
   "outputs": [
    {
     "data": {
      "text/plain": [
       "1"
      ]
     },
     "execution_count": 39,
     "metadata": {},
     "output_type": "execute_result"
    }
   ],
   "source": [
    "arr1.ndim"
   ]
  },
  {
   "cell_type": "code",
   "execution_count": 40,
   "id": "073b2435",
   "metadata": {},
   "outputs": [
    {
     "data": {
      "text/plain": [
       "(3,)"
      ]
     },
     "execution_count": 40,
     "metadata": {},
     "output_type": "execute_result"
    }
   ],
   "source": [
    "arr1.shape"
   ]
  },
  {
   "cell_type": "code",
   "execution_count": 3,
   "id": "69abfa97",
   "metadata": {},
   "outputs": [
    {
     "name": "stdout",
     "output_type": "stream",
     "text": [
      "[[1 2 3]]\n"
     ]
    }
   ],
   "source": [
    "import numpy as np\n",
    "a2=[[1,2,3]]        # if no brackets are there 0-d,1 bracket-1d,2 brackets-2d\n",
    "arr2=np.array(a2)\n",
    "print(arr2)"
   ]
  },
  {
   "cell_type": "code",
   "execution_count": 4,
   "id": "8c63fff9",
   "metadata": {},
   "outputs": [
    {
     "data": {
      "text/plain": [
       "2"
      ]
     },
     "execution_count": 4,
     "metadata": {},
     "output_type": "execute_result"
    }
   ],
   "source": [
    "arr2.ndim"
   ]
  },
  {
   "cell_type": "code",
   "execution_count": 5,
   "id": "e6978d8e",
   "metadata": {},
   "outputs": [
    {
     "data": {
      "text/plain": [
       "(1, 3)"
      ]
     },
     "execution_count": 5,
     "metadata": {},
     "output_type": "execute_result"
    }
   ],
   "source": [
    "arr2.shape"
   ]
  },
  {
   "cell_type": "markdown",
   "id": "dfc2f819",
   "metadata": {},
   "source": [
    "# Functions for creating 1D array\n",
    "          \n",
    "    \n"
   ]
  },
  {
   "cell_type": "markdown",
   "id": "b93977ad",
   "metadata": {},
   "source": [
    "arange: is an array_valued version of the built -in python range fn\n",
    "    \n",
    "    syntax:np.arange(start,end,step)"
   ]
  },
  {
   "cell_type": "code",
   "execution_count": 3,
   "id": "dfe34b75",
   "metadata": {},
   "outputs": [
    {
     "name": "stdout",
     "output_type": "stream",
     "text": [
      "[ 10  20  30  40  50  60  70  80  90 100]\n"
     ]
    }
   ],
   "source": [
    "import numpy as np\n",
    "a=np.arange(10,110,10)    #it converts into normal range fn without commas\n",
    "print(a)"
   ]
  },
  {
   "cell_type": "markdown",
   "id": "ae4d4fb9",
   "metadata": {},
   "source": [
    "linspace: return evenly spaced numbers over a specified interval\n",
    "     \n",
    "        syntax: np.linspace(start,end,no of samples)"
   ]
  },
  {
   "cell_type": "code",
   "execution_count": 4,
   "id": "3605059a",
   "metadata": {},
   "outputs": [
    {
     "data": {
      "text/plain": [
       "array([1., 2., 3., 4., 5.])"
      ]
     },
     "execution_count": 4,
     "metadata": {},
     "output_type": "execute_result"
    }
   ],
   "source": [
    "np.linspace(1,5,5)"
   ]
  },
  {
   "cell_type": "code",
   "execution_count": 5,
   "id": "abf19021",
   "metadata": {},
   "outputs": [
    {
     "data": {
      "text/plain": [
       "array([1.        , 2.33333333, 3.66666667, 5.        ])"
      ]
     },
     "execution_count": 5,
     "metadata": {},
     "output_type": "execute_result"
    }
   ],
   "source": [
    "np.linspace(1,5,4)"
   ]
  },
  {
   "cell_type": "markdown",
   "id": "e5e21827",
   "metadata": {},
   "source": [
    "Zeros: Generates arrays of zeros\n",
    "    \n",
    "    syntax : np.zeros(shape)"
   ]
  },
  {
   "cell_type": "code",
   "execution_count": 6,
   "id": "b222fc09",
   "metadata": {},
   "outputs": [
    {
     "data": {
      "text/plain": [
       "array([0., 0., 0.])"
      ]
     },
     "execution_count": 6,
     "metadata": {},
     "output_type": "execute_result"
    }
   ],
   "source": [
    "np.zeros((3,))"
   ]
  },
  {
   "cell_type": "markdown",
   "id": "52d0a229",
   "metadata": {},
   "source": [
    "Ones: generates arrays of ones\n",
    "   \n",
    "        syntax :np.ones(shape)\n",
    "    "
   ]
  },
  {
   "cell_type": "code",
   "execution_count": 7,
   "id": "4f45f1a8",
   "metadata": {},
   "outputs": [
    {
     "data": {
      "text/plain": [
       "array([1., 1., 1.])"
      ]
     },
     "execution_count": 7,
     "metadata": {},
     "output_type": "execute_result"
    }
   ],
   "source": [
    "np.ones((3,))"
   ]
  },
  {
   "cell_type": "markdown",
   "id": "7f9d78a3",
   "metadata": {},
   "source": [
    "np.zeros()--------only 0's\n",
    "\n",
    "np.ones()---------only 1's"
   ]
  },
  {
   "cell_type": "markdown",
   "id": "4f2ec56c",
   "metadata": {},
   "source": [
    "but we want 2's mean"
   ]
  },
  {
   "cell_type": "code",
   "execution_count": 10,
   "id": "bb506d2a",
   "metadata": {},
   "outputs": [
    {
     "data": {
      "text/plain": [
       "array([2., 2., 2.])"
      ]
     },
     "execution_count": 10,
     "metadata": {},
     "output_type": "execute_result"
    }
   ],
   "source": [
    "np.zeros((3,))+2"
   ]
  },
  {
   "cell_type": "markdown",
   "id": "c3c520a9",
   "metadata": {},
   "source": [
    "they created zeros and ones only ---\n",
    "     \n",
    "    in numpy array matrices are used\n",
    "    "
   ]
  },
  {
   "cell_type": "code",
   "execution_count": null,
   "id": "1b7039dc",
   "metadata": {},
   "outputs": [],
   "source": [
    "zero matrix   [0 0]                    unity matrix     [1 1]\n",
    "               \n",
    "               [0 0]                                     [1 1]"
   ]
  },
  {
   "cell_type": "markdown",
   "id": "7335975e",
   "metadata": {},
   "source": [
    "by default it takes float value ---[0.,0.,]  or [1.,1.,]"
   ]
  },
  {
   "cell_type": "markdown",
   "id": "b435229e",
   "metadata": {},
   "source": [
    "if we want in int----\n"
   ]
  },
  {
   "cell_type": "code",
   "execution_count": 11,
   "id": "ef5660a3",
   "metadata": {},
   "outputs": [
    {
     "data": {
      "text/plain": [
       "array([[0, 0],\n",
       "       [0, 0]])"
      ]
     },
     "execution_count": 11,
     "metadata": {},
     "output_type": "execute_result"
    }
   ],
   "source": [
    "np.zeros((2,2),dtype=int)"
   ]
  },
  {
   "cell_type": "markdown",
   "id": "098e5acb",
   "metadata": {},
   "source": [
    "# random.randint\n",
    "       \n",
    "        return random integers from start(inclusive) to end (exclusive)\n",
    "    \n",
    "       syntax  is---- np.random.randint(start,end,no of samples)"
   ]
  },
  {
   "cell_type": "code",
   "execution_count": 15,
   "id": "ec621d9a",
   "metadata": {},
   "outputs": [
    {
     "data": {
      "text/plain": [
       "array([13, 40, 36, 28, 14])"
      ]
     },
     "execution_count": 15,
     "metadata": {},
     "output_type": "execute_result"
    }
   ],
   "source": [
    "np.random.randint(1,41,5)"
   ]
  },
  {
   "cell_type": "markdown",
   "id": "20496f1e",
   "metadata": {},
   "source": [
    "# Accessing elements/extracting the value\n",
    " \n",
    "1.Accessing a single value through Indexing\n",
    "\n",
    "2.Accessing a multiple values based on slicing\n",
    "\n",
    "3.Accessing a multiple values based on indexing\n",
    "\n",
    "4.Accessing a multiple values based on condition"
   ]
  },
  {
   "cell_type": "code",
   "execution_count": 2,
   "id": "55bf5b6f",
   "metadata": {},
   "outputs": [
    {
     "name": "stdout",
     "output_type": "stream",
     "text": [
      "[10 20 30 40 50]\n"
     ]
    }
   ],
   "source": [
    "import numpy as np\n",
    "a=np.arange(10,51,10)\n",
    "print(a)\n"
   ]
  },
  {
   "cell_type": "markdown",
   "id": "651a233c",
   "metadata": {},
   "source": [
    "1.accessing a single value through indexing\n",
    "\n"
   ]
  },
  {
   "cell_type": "code",
   "execution_count": 3,
   "id": "17d67301",
   "metadata": {},
   "outputs": [
    {
     "data": {
      "text/plain": [
       "20"
      ]
     },
     "execution_count": 3,
     "metadata": {},
     "output_type": "execute_result"
    }
   ],
   "source": [
    "a[1]    #positive indexing"
   ]
  },
  {
   "cell_type": "code",
   "execution_count": 4,
   "id": "68b8a725",
   "metadata": {},
   "outputs": [
    {
     "data": {
      "text/plain": [
       "50"
      ]
     },
     "execution_count": 4,
     "metadata": {},
     "output_type": "execute_result"
    }
   ],
   "source": [
    "a[-1]    # negative indexing"
   ]
  },
  {
   "cell_type": "code",
   "execution_count": 5,
   "id": "afb51eee",
   "metadata": {},
   "outputs": [
    {
     "ename": "IndexError",
     "evalue": "only integers, slices (`:`), ellipsis (`...`), numpy.newaxis (`None`) and integer or boolean arrays are valid indices",
     "output_type": "error",
     "traceback": [
      "\u001b[1;31m---------------------------------------------------------------------------\u001b[0m",
      "\u001b[1;31mIndexError\u001b[0m                                Traceback (most recent call last)",
      "Cell \u001b[1;32mIn[5], line 1\u001b[0m\n\u001b[1;32m----> 1\u001b[0m \u001b[43ma\u001b[49m\u001b[43m[\u001b[49m\u001b[38;5;241;43m1.5\u001b[39;49m\u001b[43m]\u001b[49m\n",
      "\u001b[1;31mIndexError\u001b[0m: only integers, slices (`:`), ellipsis (`...`), numpy.newaxis (`None`) and integer or boolean arrays are valid indices"
     ]
    }
   ],
   "source": [
    "a[1.5]     # index cant be in float"
   ]
  },
  {
   "cell_type": "markdown",
   "id": "a5c588fc",
   "metadata": {},
   "source": [
    "2.accessing a multiple values based on slicing\n"
   ]
  },
  {
   "cell_type": "code",
   "execution_count": 6,
   "id": "48963b36",
   "metadata": {},
   "outputs": [
    {
     "data": {
      "text/plain": [
       "array([20, 40])"
      ]
     },
     "execution_count": 6,
     "metadata": {},
     "output_type": "execute_result"
    }
   ],
   "source": [
    "a[1:5:2]"
   ]
  },
  {
   "cell_type": "code",
   "execution_count": 7,
   "id": "8a4918fc",
   "metadata": {},
   "outputs": [
    {
     "data": {
      "text/plain": [
       "array([], dtype=int32)"
      ]
     },
     "execution_count": 7,
     "metadata": {},
     "output_type": "execute_result"
    }
   ],
   "source": [
    "a[-1:-4]        # here SP is -4 and Ep is -1 but increment is 1 it gives noting so it empty array[]"
   ]
  },
  {
   "cell_type": "code",
   "execution_count": 8,
   "id": "b04505f7",
   "metadata": {},
   "outputs": [
    {
     "data": {
      "text/plain": [
       "array([20, 30, 40])"
      ]
     },
     "execution_count": 8,
     "metadata": {},
     "output_type": "execute_result"
    }
   ],
   "source": [
    "a[-4:4]"
   ]
  },
  {
   "cell_type": "markdown",
   "id": "3f4d91c6",
   "metadata": {},
   "source": [
    "3.accessing a multiple values based on indexing\n",
    "     \n",
    "      syntax : array[(list of index numbers)]"
   ]
  },
  {
   "cell_type": "code",
   "execution_count": 6,
   "id": "c502e436",
   "metadata": {},
   "outputs": [
    {
     "data": {
      "text/plain": [
       "array([10, 40, 50])"
      ]
     },
     "execution_count": 6,
     "metadata": {},
     "output_type": "execute_result"
    }
   ],
   "source": [
    "l=[10,20,30,40,50]\n",
    "a=np.array(l)\n",
    "a[[0,3,4]]"
   ]
  },
  {
   "cell_type": "code",
   "execution_count": 13,
   "id": "bc9edead",
   "metadata": {},
   "outputs": [
    {
     "data": {
      "text/plain": [
       "array([10, 10, 10, 10, 20, 10, 20, 10, 40])"
      ]
     },
     "execution_count": 13,
     "metadata": {},
     "output_type": "execute_result"
    }
   ],
   "source": [
    "l=[10,10,10,20,40,10,40,30,50]\n",
    "a=np.array(l)\n",
    "a[[0,0,0,1,3,0,3,2,4]]"
   ]
  },
  {
   "cell_type": "code",
   "execution_count": 8,
   "id": "8f438436",
   "metadata": {},
   "outputs": [
    {
     "ename": "IndexError",
     "evalue": "index 6 is out of bounds for axis 0 with size 5",
     "output_type": "error",
     "traceback": [
      "\u001b[1;31m---------------------------------------------------------------------------\u001b[0m",
      "\u001b[1;31mIndexError\u001b[0m                                Traceback (most recent call last)",
      "Cell \u001b[1;32mIn[8], line 1\u001b[0m\n\u001b[1;32m----> 1\u001b[0m \u001b[43ma\u001b[49m\u001b[43m[\u001b[49m\u001b[43m[\u001b[49m\u001b[38;5;241;43m0\u001b[39;49m\u001b[43m,\u001b[49m\u001b[38;5;241;43m4\u001b[39;49m\u001b[43m,\u001b[49m\u001b[38;5;241;43m6\u001b[39;49m\u001b[43m,\u001b[49m\u001b[38;5;241;43m5\u001b[39;49m\u001b[43m,\u001b[49m\u001b[38;5;241;43m4\u001b[39;49m\u001b[43m]\u001b[49m\u001b[43m]\u001b[49m\n",
      "\u001b[1;31mIndexError\u001b[0m: index 6 is out of bounds for axis 0 with size 5"
     ]
    }
   ],
   "source": [
    "a[[0,4,6,5,4]]"
   ]
  },
  {
   "cell_type": "markdown",
   "id": "573aefe5",
   "metadata": {},
   "source": [
    "4.accessing a multiple values based on condition(Mask indexing or Fancy indexing)\n",
    "\n",
    "                           \n",
    "                     syntax:array[condition]  (first,it will check the condition the item or value which satisfies the \n",
    "                                        condition(means which item gives True for the condition)that item will be selected)"
   ]
  },
  {
   "cell_type": "markdown",
   "id": "890cf0e9",
   "metadata": {},
   "source": [
    "What is meant by NUMPY array?\n",
    "     \n",
    "       first it create empty list a[]\n",
    "          then forloop for()\n",
    "            then append a.append()"
   ]
  },
  {
   "cell_type": "markdown",
   "id": "7f36eac4",
   "metadata": {},
   "source": [
    "code for index no in core python is___________\n",
    "              \n",
    "              a[0,0,0,1,3,0,3,2,4]\n",
    "              index=[0,0,0,1,3,0,3,2,4]\n",
    "              l=[]\n",
    "              for i in index:\n",
    "              l.append(a[index])\n",
    "              \n"
   ]
  },
  {
   "cell_type": "markdown",
   "id": "a5051684",
   "metadata": {},
   "source": [
    "MODIFY THE VALUES IN NUMPY:"
   ]
  },
  {
   "cell_type": "markdown",
   "id": "37d9ca6e",
   "metadata": {},
   "source": [
    "ADD A SINGLE VALUE IN A ARRAY____________\n",
    "          \n",
    "           SYNTAX : np.append(array,value)"
   ]
  },
  {
   "cell_type": "code",
   "execution_count": 7,
   "id": "6ad72d55",
   "metadata": {},
   "outputs": [
    {
     "data": {
      "text/plain": [
       "array([10,  4,  1,  3,  4])"
      ]
     },
     "execution_count": 7,
     "metadata": {},
     "output_type": "execute_result"
    }
   ],
   "source": [
    "import numpy as np\n",
    "l=[10,4,1,3,4]\n",
    "a=np.array(l)\n",
    "a\n"
   ]
  },
  {
   "cell_type": "code",
   "execution_count": 8,
   "id": "45699170",
   "metadata": {},
   "outputs": [
    {
     "data": {
      "text/plain": [
       "array([ 10,   4,   1,   3,   4, 110])"
      ]
     },
     "execution_count": 8,
     "metadata": {},
     "output_type": "execute_result"
    }
   ],
   "source": [
    "np.append(a,110)"
   ]
  },
  {
   "cell_type": "markdown",
   "id": "e048d9ae",
   "metadata": {},
   "source": [
    "ADD  MULTIPLE  VALUES  IN  A  ARRAY"
   ]
  },
  {
   "cell_type": "code",
   "execution_count": 16,
   "id": "6203f1c0",
   "metadata": {},
   "outputs": [
    {
     "data": {
      "text/plain": [
       "array([ 10,   4,   1,   3,   4, 110, 120, 130])"
      ]
     },
     "execution_count": 16,
     "metadata": {},
     "output_type": "execute_result"
    }
   ],
   "source": [
    "np.append(a,[110,120,130])     #without storing 'a' in single values\n"
   ]
  },
  {
   "cell_type": "code",
   "execution_count": 21,
   "id": "4cad197e",
   "metadata": {},
   "outputs": [
    {
     "data": {
      "text/plain": [
       "array([ 10,   4,   1,   3,   4, 110, 110, 110, 110, 110])"
      ]
     },
     "execution_count": 21,
     "metadata": {},
     "output_type": "execute_result"
    }
   ],
   "source": [
    "#AFTER STORING THE ARRAY INTO 'a' THE OUTPUT IS__________\n",
    "\n",
    "a=np.append(a,110)\n",
    "a"
   ]
  },
  {
   "cell_type": "code",
   "execution_count": 22,
   "id": "f2e8d96b",
   "metadata": {},
   "outputs": [
    {
     "data": {
      "text/plain": [
       "array([ 10,   4,   1,   3,   4, 110, 110, 110, 110, 110, 110, 120, 130])"
      ]
     },
     "execution_count": 22,
     "metadata": {},
     "output_type": "execute_result"
    }
   ],
   "source": [
    "np.append(a,[110,120,130])"
   ]
  },
  {
   "cell_type": "markdown",
   "id": "f53d329d",
   "metadata": {},
   "source": [
    "REPLACE A SINGLE VALUE IN A 1D-ARRAY"
   ]
  },
  {
   "cell_type": "code",
   "execution_count": 3,
   "id": "8d9868c3",
   "metadata": {},
   "outputs": [
    {
     "data": {
      "text/plain": [
       "array([ 10,   4,   1,   3,   4, 110])"
      ]
     },
     "execution_count": 3,
     "metadata": {},
     "output_type": "execute_result"
    }
   ],
   "source": [
    "import numpy as np\n",
    "l=[10,4,1,3,4,110]\n",
    "a=np.array(l)\n",
    "a"
   ]
  },
  {
   "cell_type": "code",
   "execution_count": 4,
   "id": "145017fd",
   "metadata": {},
   "outputs": [
    {
     "name": "stdout",
     "output_type": "stream",
     "text": [
      "[150   4   1   3   4 110]\n"
     ]
    }
   ],
   "source": [
    "a[0]=150                # adding 150 at index 0\n",
    "print(a)"
   ]
  },
  {
   "cell_type": "markdown",
   "id": "b60bd0ac",
   "metadata": {},
   "source": [
    "Replace multiple values with a single value in a array"
   ]
  },
  {
   "cell_type": "code",
   "execution_count": 5,
   "id": "23399c24",
   "metadata": {},
   "outputs": [
    {
     "data": {
      "text/plain": [
       "array([150, 800,   1,   3, 800, 110])"
      ]
     },
     "execution_count": 5,
     "metadata": {},
     "output_type": "execute_result"
    }
   ],
   "source": [
    "a[[1,4]]=800          # replace 1 and 4 index positions values with 800\n",
    "a"
   ]
  },
  {
   "cell_type": "code",
   "execution_count": 6,
   "id": "f816a153",
   "metadata": {},
   "outputs": [
    {
     "data": {
      "text/plain": [
       "array([150, 800, 200,   3, 800, 200])"
      ]
     },
     "execution_count": 6,
     "metadata": {},
     "output_type": "execute_result"
    }
   ],
   "source": [
    "a[[2,5]]=200\n",
    "a"
   ]
  },
  {
   "cell_type": "markdown",
   "id": "178dd4bf",
   "metadata": {},
   "source": [
    "REPLACING A MULTIPLE VALUES WITH A MULTIPLE VALUES IN A ARRAY"
   ]
  },
  {
   "cell_type": "code",
   "execution_count": 7,
   "id": "1324e704",
   "metadata": {},
   "outputs": [
    {
     "data": {
      "text/plain": [
       "array([150,  10, 200,   3,   4, 200])"
      ]
     },
     "execution_count": 7,
     "metadata": {},
     "output_type": "execute_result"
    }
   ],
   "source": [
    "a[[1,4]]=[10,4]\n",
    "a\n"
   ]
  },
  {
   "cell_type": "markdown",
   "id": "06dd09a5",
   "metadata": {},
   "source": [
    "DELETE A SINGLE VALUE IN A ARRAY"
   ]
  },
  {
   "cell_type": "code",
   "execution_count": 8,
   "id": "1a12ff10",
   "metadata": {},
   "outputs": [
    {
     "data": {
      "text/plain": [
       "array([150, 200,   3,   4, 200])"
      ]
     },
     "execution_count": 8,
     "metadata": {},
     "output_type": "execute_result"
    }
   ],
   "source": [
    "np.delete(a,1)          #  a-array,1-index no"
   ]
  },
  {
   "cell_type": "markdown",
   "id": "a77826b4",
   "metadata": {},
   "source": [
    "DELETE MULTIPLE VALUES IN A ARRAY"
   ]
  },
  {
   "cell_type": "code",
   "execution_count": 9,
   "id": "dfceb2e7",
   "metadata": {},
   "outputs": [
    {
     "data": {
      "text/plain": [
       "array([150,  10, 200,   3,   4, 200])"
      ]
     },
     "execution_count": 9,
     "metadata": {},
     "output_type": "execute_result"
    }
   ],
   "source": [
    "a"
   ]
  },
  {
   "cell_type": "code",
   "execution_count": 10,
   "id": "a8914b31",
   "metadata": {},
   "outputs": [
    {
     "data": {
      "text/plain": [
       "array([150,   3,   4, 200])"
      ]
     },
     "execution_count": 10,
     "metadata": {},
     "output_type": "execute_result"
    }
   ],
   "source": [
    "np.delete(a,[1,2])      "
   ]
  },
  {
   "cell_type": "markdown",
   "id": "0ab3b460",
   "metadata": {},
   "source": [
    "# copy array"
   ]
  },
  {
   "cell_type": "code",
   "execution_count": 11,
   "id": "6cc5b28c",
   "metadata": {},
   "outputs": [
    {
     "name": "stdout",
     "output_type": "stream",
     "text": [
      "[1 2 3]\n",
      "[100   2   3]\n"
     ]
    }
   ],
   "source": [
    "a=np.array([1,2,3])\n",
    "b=a.copy()                  # this is a shallow copy\n",
    "b[0]=100\n",
    "print(a)\n",
    "print(b)"
   ]
  },
  {
   "cell_type": "code",
   "execution_count": 12,
   "id": "a9ed429f",
   "metadata": {},
   "outputs": [
    {
     "name": "stdout",
     "output_type": "stream",
     "text": [
      "[100   2   3]\n",
      "[100   2   3]\n"
     ]
    }
   ],
   "source": [
    "a=np.array([1,2,3])\n",
    "b=a\n",
    "b[0]=100                # this is a deep copy\n",
    "print(a)\n",
    "print(b)"
   ]
  },
  {
   "cell_type": "markdown",
   "id": "5ca65d25",
   "metadata": {},
   "source": [
    "# sorting an array\n",
    "    \n",
    "           By default ascending order,if we want descending order----np.reverse=True"
   ]
  },
  {
   "cell_type": "code",
   "execution_count": 13,
   "id": "0268c237",
   "metadata": {},
   "outputs": [
    {
     "data": {
      "text/plain": [
       "array([1, 2, 4, 6, 8])"
      ]
     },
     "execution_count": 13,
     "metadata": {},
     "output_type": "execute_result"
    }
   ],
   "source": [
    "np.sort([4,6,8,2,1])"
   ]
  },
  {
   "cell_type": "markdown",
   "id": "af2172f2",
   "metadata": {},
   "source": [
    "# Arithmetic operations"
   ]
  },
  {
   "cell_type": "code",
   "execution_count": 14,
   "id": "f6966c4f",
   "metadata": {},
   "outputs": [
    {
     "data": {
      "text/plain": [
       "array([1, 2, 3, 4])"
      ]
     },
     "execution_count": 14,
     "metadata": {},
     "output_type": "execute_result"
    }
   ],
   "source": [
    "a=np.array([1,2,3,4])\n",
    "a"
   ]
  },
  {
   "cell_type": "code",
   "execution_count": 15,
   "id": "6df76ae0",
   "metadata": {},
   "outputs": [
    {
     "data": {
      "text/plain": [
       "array([2, 3, 4, 5])"
      ]
     },
     "execution_count": 15,
     "metadata": {},
     "output_type": "execute_result"
    }
   ],
   "source": [
    "a+1"
   ]
  },
  {
   "cell_type": "code",
   "execution_count": 16,
   "id": "71451986",
   "metadata": {},
   "outputs": [
    {
     "data": {
      "text/plain": [
       "array([ 1,  4,  9, 16])"
      ]
     },
     "execution_count": 16,
     "metadata": {},
     "output_type": "execute_result"
    }
   ],
   "source": [
    "a**2"
   ]
  },
  {
   "cell_type": "code",
   "execution_count": 17,
   "id": "eb2e99d5",
   "metadata": {},
   "outputs": [
    {
     "name": "stdout",
     "output_type": "stream",
     "text": [
      "[1 2 3 4]\n",
      "[5 6 7 8]\n",
      "[1 2 3 4]\n"
     ]
    }
   ],
   "source": [
    "a=np.array([1,2,3,4])\n",
    "b=np.array([5,6,7,8])\n",
    "c=np.array([1,2,3,4])\n",
    "print(a)\n",
    "print(b)\n",
    "print(c)"
   ]
  },
  {
   "cell_type": "code",
   "execution_count": 18,
   "id": "29f64a4b",
   "metadata": {},
   "outputs": [
    {
     "data": {
      "text/plain": [
       "array([ 6,  8, 10, 12])"
      ]
     },
     "execution_count": 18,
     "metadata": {},
     "output_type": "execute_result"
    }
   ],
   "source": [
    "a+b\n"
   ]
  },
  {
   "cell_type": "code",
   "execution_count": 19,
   "id": "2fab333c",
   "metadata": {},
   "outputs": [
    {
     "data": {
      "text/plain": [
       "array([-4, -4, -4, -4])"
      ]
     },
     "execution_count": 19,
     "metadata": {},
     "output_type": "execute_result"
    }
   ],
   "source": [
    "a-b"
   ]
  },
  {
   "cell_type": "code",
   "execution_count": 20,
   "id": "d9ab71f9",
   "metadata": {},
   "outputs": [
    {
     "data": {
      "text/plain": [
       "array([ 5, 12, 21, 32])"
      ]
     },
     "execution_count": 20,
     "metadata": {},
     "output_type": "execute_result"
    }
   ],
   "source": [
    "a*b"
   ]
  },
  {
   "cell_type": "markdown",
   "id": "aa485d0e",
   "metadata": {},
   "source": [
    "# Comparision operators"
   ]
  },
  {
   "cell_type": "code",
   "execution_count": 21,
   "id": "a9d856e8",
   "metadata": {},
   "outputs": [
    {
     "data": {
      "text/plain": [
       "array([False, False, False, False])"
      ]
     },
     "execution_count": 21,
     "metadata": {},
     "output_type": "execute_result"
    }
   ],
   "source": [
    "a==b"
   ]
  },
  {
   "cell_type": "code",
   "execution_count": 22,
   "id": "068e4786",
   "metadata": {},
   "outputs": [
    {
     "data": {
      "text/plain": [
       "array([ True,  True,  True,  True])"
      ]
     },
     "execution_count": 22,
     "metadata": {},
     "output_type": "execute_result"
    }
   ],
   "source": [
    "a==c"
   ]
  },
  {
   "cell_type": "markdown",
   "id": "0b05a13d",
   "metadata": {},
   "source": [
    "if we want to get values_______"
   ]
  },
  {
   "cell_type": "code",
   "execution_count": 23,
   "id": "615b51ca",
   "metadata": {},
   "outputs": [
    {
     "data": {
      "text/plain": [
       "array([1, 2, 3, 4])"
      ]
     },
     "execution_count": 23,
     "metadata": {},
     "output_type": "execute_result"
    }
   ],
   "source": [
    "a[a==c]"
   ]
  },
  {
   "cell_type": "code",
   "execution_count": 33,
   "id": "47a41e13",
   "metadata": {},
   "outputs": [
    {
     "name": "stdout",
     "output_type": "stream",
     "text": [
      "[1 2 3 4]\n",
      "[5 6 7 8]\n",
      "[1 2 5 4]\n"
     ]
    }
   ],
   "source": [
    "a=np.array([1,2,3,4])\n",
    "b=np.array([5,6,7,8])\n",
    "c=np.array([1,2,5,4])\n",
    "print(a)\n",
    "print(b)\n",
    "print(c)"
   ]
  },
  {
   "cell_type": "code",
   "execution_count": 25,
   "id": "66acbb44",
   "metadata": {},
   "outputs": [
    {
     "data": {
      "text/plain": [
       "array([1, 2, 4])"
      ]
     },
     "execution_count": 25,
     "metadata": {},
     "output_type": "execute_result"
    }
   ],
   "source": [
    "a[a==c]                # it gives true values"
   ]
  },
  {
   "cell_type": "code",
   "execution_count": 26,
   "id": "e9ad1c54",
   "metadata": {},
   "outputs": [
    {
     "data": {
      "text/plain": [
       "array([False, False, False, False])"
      ]
     },
     "execution_count": 26,
     "metadata": {},
     "output_type": "execute_result"
    }
   ],
   "source": [
    "a>b"
   ]
  },
  {
   "cell_type": "code",
   "execution_count": 36,
   "id": "92d4f6ce",
   "metadata": {},
   "outputs": [
    {
     "data": {
      "text/plain": [
       "False"
      ]
     },
     "execution_count": 36,
     "metadata": {},
     "output_type": "execute_result"
    }
   ],
   "source": [
    "np.array_equal(a,b)"
   ]
  },
  {
   "cell_type": "code",
   "execution_count": 37,
   "id": "788a0920",
   "metadata": {},
   "outputs": [
    {
     "data": {
      "text/plain": [
       "False"
      ]
     },
     "execution_count": 37,
     "metadata": {},
     "output_type": "execute_result"
    }
   ],
   "source": [
    "np.array_equal(a,c)"
   ]
  },
  {
   "cell_type": "markdown",
   "id": "5c179fa4",
   "metadata": {},
   "source": [
    "# Mathematical operations"
   ]
  },
  {
   "cell_type": "code",
   "execution_count": 38,
   "id": "a7287eb6",
   "metadata": {},
   "outputs": [
    {
     "data": {
      "text/plain": [
       "array([0, 1, 2, 3, 4, 5])"
      ]
     },
     "execution_count": 38,
     "metadata": {},
     "output_type": "execute_result"
    }
   ],
   "source": [
    "a=np.arange(0,6)\n",
    "a"
   ]
  },
  {
   "cell_type": "code",
   "execution_count": 39,
   "id": "c2582ab4",
   "metadata": {},
   "outputs": [
    {
     "data": {
      "text/plain": [
       "array([ 0.        ,  0.84147098,  0.90929743,  0.14112001, -0.7568025 ,\n",
       "       -0.95892427])"
      ]
     },
     "execution_count": 39,
     "metadata": {},
     "output_type": "execute_result"
    }
   ],
   "source": [
    "np.sin(a)"
   ]
  },
  {
   "cell_type": "code",
   "execution_count": 40,
   "id": "82660239",
   "metadata": {},
   "outputs": [
    {
     "data": {
      "text/plain": [
       "array([  1.        ,   2.71828183,   7.3890561 ,  20.08553692,\n",
       "        54.59815003, 148.4131591 ])"
      ]
     },
     "execution_count": 40,
     "metadata": {},
     "output_type": "execute_result"
    }
   ],
   "source": [
    "np.exp(a)"
   ]
  },
  {
   "cell_type": "code",
   "execution_count": 45,
   "id": "43ff8b33",
   "metadata": {},
   "outputs": [
    {
     "data": {
      "text/plain": [
       "array([      -inf, 0.        , 0.69314718, 1.09861229, 1.38629436,\n",
       "       1.60943791])"
      ]
     },
     "execution_count": 45,
     "metadata": {},
     "output_type": "execute_result"
    }
   ],
   "source": [
    "import warnings\n",
    "warnings.simplefilter(\"ignore\")\n",
    "np.log(a)"
   ]
  },
  {
   "cell_type": "markdown",
   "id": "52518916",
   "metadata": {},
   "source": [
    "# 2D Numpy Array  "
   ]
  },
  {
   "cell_type": "code",
   "execution_count": 46,
   "id": "4b249c43",
   "metadata": {},
   "outputs": [
    {
     "name": "stdout",
     "output_type": "stream",
     "text": [
      "[[0 1 2]]\n"
     ]
    }
   ],
   "source": [
    "b=np.array([[0,1,2]]) \n",
    "print(b)"
   ]
  },
  {
   "cell_type": "code",
   "execution_count": 47,
   "id": "e05fd959",
   "metadata": {},
   "outputs": [
    {
     "data": {
      "text/plain": [
       "2"
      ]
     },
     "execution_count": 47,
     "metadata": {},
     "output_type": "execute_result"
    }
   ],
   "source": [
    "b.ndim"
   ]
  },
  {
   "cell_type": "code",
   "execution_count": 48,
   "id": "0a80ecfb",
   "metadata": {},
   "outputs": [
    {
     "data": {
      "text/plain": [
       "(1, 3)"
      ]
     },
     "execution_count": 48,
     "metadata": {},
     "output_type": "execute_result"
    }
   ],
   "source": [
    "b.shape"
   ]
  },
  {
   "cell_type": "code",
   "execution_count": 49,
   "id": "97780b53",
   "metadata": {},
   "outputs": [
    {
     "data": {
      "text/plain": [
       "array([[0., 0., 0.],\n",
       "       [0., 0., 0.],\n",
       "       [0., 0., 0.]])"
      ]
     },
     "execution_count": 49,
     "metadata": {},
     "output_type": "execute_result"
    }
   ],
   "source": [
    "np.zeros((3,3))         # 2D array with 3 rows and 3 columns"
   ]
  },
  {
   "cell_type": "markdown",
   "id": "9e3cd3fe",
   "metadata": {},
   "source": [
    "BY DEFAULT IT TAKES FLOAT VALUES,IF WE WANT INT VALUES MEANS WE HAVE TO GIVE dtype=int"
   ]
  },
  {
   "cell_type": "code",
   "execution_count": 83,
   "id": "0586db35",
   "metadata": {},
   "outputs": [
    {
     "name": "stdout",
     "output_type": "stream",
     "text": [
      "[[0 0 0]\n",
      " [0 0 0]\n",
      " [0 0 0]]\n"
     ]
    }
   ],
   "source": [
    "print(np.zeros((3,3),dtype=int))"
   ]
  },
  {
   "cell_type": "code",
   "execution_count": 54,
   "id": "e6e08d7f",
   "metadata": {},
   "outputs": [
    {
     "data": {
      "text/plain": [
       "array([[1., 1.],\n",
       "       [1., 1.],\n",
       "       [1., 1.]])"
      ]
     },
     "execution_count": 54,
     "metadata": {},
     "output_type": "execute_result"
    }
   ],
   "source": [
    "np.ones((3,2))"
   ]
  },
  {
   "cell_type": "code",
   "execution_count": 57,
   "id": "5a91363b",
   "metadata": {},
   "outputs": [
    {
     "name": "stdout",
     "output_type": "stream",
     "text": [
      "[[1 1]\n",
      " [1 1]\n",
      " [1 1]]\n"
     ]
    }
   ],
   "source": [
    "print(np.ones((3,2),dtype=int))"
   ]
  },
  {
   "cell_type": "markdown",
   "id": "073e1e75",
   "metadata": {},
   "source": [
    "# Identity Matrix"
   ]
  },
  {
   "cell_type": "code",
   "execution_count": 81,
   "id": "17279091",
   "metadata": {},
   "outputs": [
    {
     "data": {
      "text/plain": [
       "array([[1., 0., 0.],\n",
       "       [0., 1., 0.],\n",
       "       [0., 0., 1.]])"
      ]
     },
     "execution_count": 81,
     "metadata": {},
     "output_type": "execute_result"
    }
   ],
   "source": [
    "np.eye(3,3)"
   ]
  },
  {
   "cell_type": "code",
   "execution_count": 53,
   "id": "8fdb55c8",
   "metadata": {},
   "outputs": [
    {
     "data": {
      "text/plain": [
       "array([[1., 0.],\n",
       "       [0., 1.],\n",
       "       [0., 0.]])"
      ]
     },
     "execution_count": 53,
     "metadata": {},
     "output_type": "execute_result"
    }
   ],
   "source": [
    "np.eye(3,2)"
   ]
  },
  {
   "cell_type": "code",
   "execution_count": 80,
   "id": "efdad29f",
   "metadata": {},
   "outputs": [
    {
     "name": "stdout",
     "output_type": "stream",
     "text": [
      "[[1 0]\n",
      " [0 1]\n",
      " [0 0]]\n"
     ]
    }
   ],
   "source": [
    "print(np.eye(3,2,dtype=int))"
   ]
  },
  {
   "cell_type": "markdown",
   "id": "466c5b67",
   "metadata": {},
   "source": [
    "# Diagonal matrix"
   ]
  },
  {
   "cell_type": "code",
   "execution_count": 61,
   "id": "c6e98cdb",
   "metadata": {},
   "outputs": [
    {
     "data": {
      "text/plain": [
       "array([[1, 0, 0],\n",
       "       [0, 2, 0],\n",
       "       [0, 0, 3]])"
      ]
     },
     "execution_count": 61,
     "metadata": {},
     "output_type": "execute_result"
    }
   ],
   "source": [
    "np.diag([1,2,3])"
   ]
  },
  {
   "cell_type": "code",
   "execution_count": 62,
   "id": "109fc9fa",
   "metadata": {},
   "outputs": [
    {
     "data": {
      "text/plain": [
       "array([[1, 0, 0, 0],\n",
       "       [0, 2, 0, 0],\n",
       "       [0, 0, 3, 0],\n",
       "       [0, 0, 0, 4]])"
      ]
     },
     "execution_count": 62,
     "metadata": {},
     "output_type": "execute_result"
    }
   ],
   "source": [
    "np.diag([1,2,3,4])"
   ]
  },
  {
   "cell_type": "code",
   "execution_count": 64,
   "id": "40a6fefb",
   "metadata": {},
   "outputs": [
    {
     "data": {
      "text/plain": [
       "array([[1, 2],\n",
       "       [0, 4]])"
      ]
     },
     "execution_count": 64,
     "metadata": {},
     "output_type": "execute_result"
    }
   ],
   "source": [
    "a=np.array([[1,2],[0,4]])\n",
    "a"
   ]
  },
  {
   "cell_type": "code",
   "execution_count": 65,
   "id": "dcc831d9",
   "metadata": {},
   "outputs": [
    {
     "data": {
      "text/plain": [
       "array([[1, 2],\n",
       "       [0, 4]])"
      ]
     },
     "execution_count": 65,
     "metadata": {},
     "output_type": "execute_result"
    }
   ],
   "source": [
    "np.array([[1,2],[0,4]])"
   ]
  },
  {
   "cell_type": "code",
   "execution_count": 66,
   "id": "25e55f3b",
   "metadata": {},
   "outputs": [
    {
     "data": {
      "text/plain": [
       "array([1, 4])"
      ]
     },
     "execution_count": 66,
     "metadata": {},
     "output_type": "execute_result"
    }
   ],
   "source": [
    "np.diag(a)      # it extracts the diagonal values"
   ]
  },
  {
   "cell_type": "markdown",
   "id": "53a307f2",
   "metadata": {},
   "source": [
    "In np.diag,input is 1D the output is 2D\n",
    "  \n",
    "    np.diag,input is 2D the output is 1D"
   ]
  },
  {
   "cell_type": "code",
   "execution_count": 67,
   "id": "bc70a06c",
   "metadata": {},
   "outputs": [
    {
     "name": "stdout",
     "output_type": "stream",
     "text": [
      "[[10 20 50]\n",
      " [30 40 60]]\n"
     ]
    }
   ],
   "source": [
    "a=np.array([[10,20,50],[30,40,60]])\n",
    "print(a)"
   ]
  },
  {
   "cell_type": "markdown",
   "id": "1ce378db",
   "metadata": {},
   "source": [
    "Indexing of 2D array"
   ]
  },
  {
   "cell_type": "code",
   "execution_count": 68,
   "id": "d7685468",
   "metadata": {},
   "outputs": [
    {
     "data": {
      "text/plain": [
       "array([10, 20, 50])"
      ]
     },
     "execution_count": 68,
     "metadata": {},
     "output_type": "execute_result"
    }
   ],
   "source": [
    "a[0]"
   ]
  },
  {
   "cell_type": "code",
   "execution_count": 69,
   "id": "4395e0f9",
   "metadata": {},
   "outputs": [
    {
     "data": {
      "text/plain": [
       "array([30, 40, 60])"
      ]
     },
     "execution_count": 69,
     "metadata": {},
     "output_type": "execute_result"
    }
   ],
   "source": [
    "a[1]"
   ]
  },
  {
   "cell_type": "code",
   "execution_count": 70,
   "id": "08a2dee3",
   "metadata": {},
   "outputs": [
    {
     "data": {
      "text/plain": [
       "50"
      ]
     },
     "execution_count": 70,
     "metadata": {},
     "output_type": "execute_result"
    }
   ],
   "source": [
    "a[0,2]"
   ]
  },
  {
   "cell_type": "code",
   "execution_count": 71,
   "id": "0e6007dd",
   "metadata": {},
   "outputs": [
    {
     "data": {
      "text/plain": [
       "array([50, 60])"
      ]
     },
     "execution_count": 71,
     "metadata": {},
     "output_type": "execute_result"
    }
   ],
   "source": [
    "a[:,2]"
   ]
  },
  {
   "cell_type": "code",
   "execution_count": 2,
   "id": "3cdbbdb7",
   "metadata": {},
   "outputs": [
    {
     "name": "stdout",
     "output_type": "stream",
     "text": [
      "[[10 20 50]\n",
      " [30 40 60]\n",
      " [20 80 90]]\n"
     ]
    }
   ],
   "source": [
    "import numpy as np\n",
    "a=np.array([[10,20,50],[30,40,60],[20,80,90]])\n",
    "print(a)"
   ]
  },
  {
   "cell_type": "code",
   "execution_count": 3,
   "id": "ebf1ff08",
   "metadata": {},
   "outputs": [
    {
     "data": {
      "text/plain": [
       "array([50, 60])"
      ]
     },
     "execution_count": 3,
     "metadata": {},
     "output_type": "execute_result"
    }
   ],
   "source": [
    "a[0:2,2]         # 0:2 means 0 to2 rows i.e,0,1  "
   ]
  },
  {
   "cell_type": "code",
   "execution_count": 74,
   "id": "ab28eed4",
   "metadata": {},
   "outputs": [
    {
     "data": {
      "text/plain": [
       "array([[10, 20, 50],\n",
       "       [30, 40, 60]])"
      ]
     },
     "execution_count": 74,
     "metadata": {},
     "output_type": "execute_result"
    }
   ],
   "source": [
    "a[0:2,]         # 0 to 2 rows i.e 0,1 are rows and column no is not mentioned means it gives entire rows"
   ]
  },
  {
   "cell_type": "code",
   "execution_count": 4,
   "id": "8a89cee7",
   "metadata": {},
   "outputs": [
    {
     "data": {
      "text/plain": [
       "array([30, 40, 60])"
      ]
     },
     "execution_count": 4,
     "metadata": {},
     "output_type": "execute_result"
    }
   ],
   "source": [
    "a[1]"
   ]
  },
  {
   "cell_type": "code",
   "execution_count": 5,
   "id": "dd9b1f6b",
   "metadata": {},
   "outputs": [
    {
     "data": {
      "text/plain": [
       "50"
      ]
     },
     "execution_count": 5,
     "metadata": {},
     "output_type": "execute_result"
    }
   ],
   "source": [
    "a[0,2]"
   ]
  },
  {
   "cell_type": "code",
   "execution_count": 6,
   "id": "78e2ea68",
   "metadata": {},
   "outputs": [
    {
     "data": {
      "text/plain": [
       "array([50, 60, 90])"
      ]
     },
     "execution_count": 6,
     "metadata": {},
     "output_type": "execute_result"
    }
   ],
   "source": [
    "a[:,2]                # all columns values with indexing 2 i.e a[row indexing:,column indexing]"
   ]
  },
  {
   "cell_type": "code",
   "execution_count": 7,
   "id": "13408689",
   "metadata": {},
   "outputs": [
    {
     "name": "stdout",
     "output_type": "stream",
     "text": [
      "[[10 20 50]\n",
      " [30 40 60]\n",
      " [20 80 90]]\n"
     ]
    }
   ],
   "source": [
    "a=np.array([[10,20,50],[30,40,60],[20,80,90]])\n",
    "print(a)"
   ]
  },
  {
   "cell_type": "code",
   "execution_count": 8,
   "id": "415fd085",
   "metadata": {},
   "outputs": [
    {
     "data": {
      "text/plain": [
       "50"
      ]
     },
     "execution_count": 8,
     "metadata": {},
     "output_type": "execute_result"
    }
   ],
   "source": [
    "a[0,2]                 # a[row index,column index] i.e 0th row 2nd column value"
   ]
  },
  {
   "cell_type": "code",
   "execution_count": 9,
   "id": "f579b38f",
   "metadata": {},
   "outputs": [
    {
     "data": {
      "text/plain": [
       "array([50, 60])"
      ]
     },
     "execution_count": 9,
     "metadata": {},
     "output_type": "execute_result"
    }
   ],
   "source": [
    "a[0:2,2]              # 0:2--- means 0 to 2 rows i.e 0 and 1 row and 2 is 2nd column values"
   ]
  },
  {
   "cell_type": "code",
   "execution_count": 10,
   "id": "61345d01",
   "metadata": {},
   "outputs": [
    {
     "data": {
      "text/plain": [
       "array([[10, 20, 50],\n",
       "       [30, 40, 60]])"
      ]
     },
     "execution_count": 10,
     "metadata": {},
     "output_type": "execute_result"
    }
   ],
   "source": [
    "a[0:2,]         # 0 to 2 rows i.e 0 and 1 rows and column no is not mentioned it means entire rows"
   ]
  },
  {
   "cell_type": "code",
   "execution_count": 11,
   "id": "12dbbe0a",
   "metadata": {},
   "outputs": [
    {
     "data": {
      "text/plain": [
       "array([10, 80])"
      ]
     },
     "execution_count": 11,
     "metadata": {},
     "output_type": "execute_result"
    }
   ],
   "source": [
    "a[[0,2],[0,1]]"
   ]
  },
  {
   "cell_type": "markdown",
   "id": "5a78f185",
   "metadata": {},
   "source": [
    " a[0,2]---------[10,20,50]\n",
    "                [20,80,90]\n",
    "        \n",
    " a[0,1]---------[10,20,50]\n",
    "                [30,40,60]\n",
    "        \n",
    "        \n",
    "        but output we get is [10,80]    but manually we got the output as [10,20]\n",
    "                                                                           [20,80]\n",
    "            \n",
    "            here ,for numpy multiple rows and columns are not applicable so it is disadvantage\n",
    "            so we go for PANDAS"
   ]
  },
  {
   "cell_type": "markdown",
   "id": "be0aea06",
   "metadata": {},
   "source": [
    "ASSIGNING VALUE IN 2D ARRAY"
   ]
  },
  {
   "cell_type": "code",
   "execution_count": 12,
   "id": "83db9e58",
   "metadata": {},
   "outputs": [
    {
     "data": {
      "text/plain": [
       "array([[10, 20, 50],\n",
       "       [25, 30, 60],\n",
       "       [20, 80, 90]])"
      ]
     },
     "execution_count": 12,
     "metadata": {},
     "output_type": "execute_result"
    }
   ],
   "source": [
    "a[1]=[25,30,60]             # here,we are replacing the 1st row with [25,30,60]\n",
    "a"
   ]
  },
  {
   "cell_type": "code",
   "execution_count": 13,
   "id": "d5683ece",
   "metadata": {},
   "outputs": [
    {
     "data": {
      "text/plain": [
       "array([[ 10,  20, 500],\n",
       "       [ 25,  30,  60],\n",
       "       [ 20,  80,  90]])"
      ]
     },
     "execution_count": 13,
     "metadata": {},
     "output_type": "execute_result"
    }
   ],
   "source": [
    "a[0,2]=500                  # value of 0th row 2nd column is changed to 500\n",
    "a"
   ]
  },
  {
   "cell_type": "markdown",
   "id": "e3f2e48c",
   "metadata": {},
   "source": [
    "# Flattening\n",
    "            \n",
    "          Converting nd array to 1d array"
   ]
  },
  {
   "cell_type": "code",
   "execution_count": 14,
   "id": "35a6baac",
   "metadata": {},
   "outputs": [
    {
     "name": "stdout",
     "output_type": "stream",
     "text": [
      "[[0 1 2]\n",
      " [3 4 5]]\n",
      "[0 1 2 3 4 5]\n"
     ]
    }
   ],
   "source": [
    "a=np.array([[0,1,2],[3,4,5]])\n",
    "print(a)\n",
    "b=a.ravel()              # ravel() is the fn name\n",
    "print(b)"
   ]
  },
  {
   "cell_type": "markdown",
   "id": "53bbb27b",
   "metadata": {},
   "source": [
    "# Reshape array"
   ]
  },
  {
   "cell_type": "code",
   "execution_count": 15,
   "id": "68c8a910",
   "metadata": {},
   "outputs": [
    {
     "name": "stdout",
     "output_type": "stream",
     "text": [
      "[0 1 2 3 4 5]\n",
      "(6,)\n"
     ]
    }
   ],
   "source": [
    "arr=np.arange(6)\n",
    "print(arr)\n",
    "print(arr.shape)"
   ]
  },
  {
   "cell_type": "code",
   "execution_count": 16,
   "id": "f6caa9c0",
   "metadata": {},
   "outputs": [
    {
     "data": {
      "text/plain": [
       "array([[0, 1, 2],\n",
       "       [3, 4, 5]])"
      ]
     },
     "execution_count": 16,
     "metadata": {},
     "output_type": "execute_result"
    }
   ],
   "source": [
    "a1=arr.reshape(2,3)       # it converts the above 6D into 2 rows and 3 columns\n",
    "a1"
   ]
  },
  {
   "cell_type": "code",
   "execution_count": 17,
   "id": "e02fd9ea",
   "metadata": {},
   "outputs": [
    {
     "data": {
      "text/plain": [
       "array([[0, 1],\n",
       "       [2, 3],\n",
       "       [4, 5]])"
      ]
     },
     "execution_count": 17,
     "metadata": {},
     "output_type": "execute_result"
    }
   ],
   "source": [
    "a2=arr.reshape(3,2)\n",
    "a2"
   ]
  },
  {
   "cell_type": "code",
   "execution_count": 19,
   "id": "6a5048cc",
   "metadata": {},
   "outputs": [
    {
     "name": "stdout",
     "output_type": "stream",
     "text": [
      "[[ 0  1  5]\n",
      " [10 50  8]]\n",
      "(2, 3)\n"
     ]
    }
   ],
   "source": [
    "a=np.array([[0,1,5],[10,50,8]])\n",
    "print(a)\n",
    "print(a.shape)"
   ]
  },
  {
   "cell_type": "code",
   "execution_count": 20,
   "id": "a7ed1716",
   "metadata": {},
   "outputs": [
    {
     "data": {
      "text/plain": [
       "array([[ 0,  1],\n",
       "       [ 5, 10],\n",
       "       [50,  8]])"
      ]
     },
     "execution_count": 20,
     "metadata": {},
     "output_type": "execute_result"
    }
   ],
   "source": [
    "a.reshape(3,2)"
   ]
  },
  {
   "cell_type": "markdown",
   "id": "83939880",
   "metadata": {},
   "source": [
    "earlier the data is (2,3),it has converted into 1D and then to our required shape [0 1 5 10 50 8]---> [[0,1],\n",
    "                                                                                                          [5,10],\n",
    "                                                                                                        [50.8]]\n",
    "                                                                                 \n",
    "\n",
    "   Instead of that ,we can write in another form by using Transpose\n",
    "  \n",
    "     Transpose converts rows-->columns\n",
    "                        columns--->rows"
   ]
  },
  {
   "cell_type": "code",
   "execution_count": 21,
   "id": "a6e3338e",
   "metadata": {},
   "outputs": [
    {
     "name": "stdout",
     "output_type": "stream",
     "text": [
      "[[ 0 10]\n",
      " [ 1 50]\n",
      " [ 5  8]]\n"
     ]
    }
   ],
   "source": [
    "c=a.T\n",
    "print(c)"
   ]
  },
  {
   "cell_type": "code",
   "execution_count": 22,
   "id": "597f8f6e",
   "metadata": {},
   "outputs": [
    {
     "name": "stdout",
     "output_type": "stream",
     "text": [
      "[[ 0]\n",
      " [ 1]\n",
      " [ 5]\n",
      " [10]\n",
      " [50]\n",
      " [ 8]]\n"
     ]
    }
   ],
   "source": [
    " print(a.reshape(6,1))"
   ]
  },
  {
   "cell_type": "code",
   "execution_count": 4,
   "id": "be023cfb",
   "metadata": {},
   "outputs": [
    {
     "data": {
      "text/plain": [
       "0"
      ]
     },
     "execution_count": 4,
     "metadata": {},
     "output_type": "execute_result"
    }
   ],
   "source": [
    "import numpy as np\n",
    "a=np.array(10)\n",
    "a.ndim"
   ]
  },
  {
   "cell_type": "markdown",
   "id": "39333df7",
   "metadata": {},
   "source": [
    " here single value is there,so it is 0D.if we want 1D means ,it is a combination of 0D,that we write in list"
   ]
  },
  {
   "cell_type": "code",
   "execution_count": 5,
   "id": "08b84c4e",
   "metadata": {},
   "outputs": [
    {
     "data": {
      "text/plain": [
       "1"
      ]
     },
     "execution_count": 5,
     "metadata": {},
     "output_type": "execute_result"
    }
   ],
   "source": [
    "a=np.array([10,20])\n",
    "a.ndim"
   ]
  },
  {
   "cell_type": "markdown",
   "id": "94099c00",
   "metadata": {},
   "source": [
    "2D-Nestedlist i.e a=[[1,2,3],[4,5,6]]\n",
    "\n",
    "combinations of 1D gives 2D"
   ]
  },
  {
   "cell_type": "markdown",
   "id": "443394a1",
   "metadata": {},
   "source": [
    "# Sort\n",
    "           \n",
    "           sorting along axis\n",
    "           \n",
    "           in NUMPY   axis=0------>column wise\n",
    "                      axis=1------>row wise"
   ]
  },
  {
   "cell_type": "code",
   "execution_count": 2,
   "id": "afedf62b",
   "metadata": {},
   "outputs": [
    {
     "data": {
      "text/plain": [
       "array([[ 4,  5,  6],\n",
       "       [ 2,  2,  8],\n",
       "       [ 8,  9, 20]])"
      ]
     },
     "execution_count": 2,
     "metadata": {},
     "output_type": "execute_result"
    }
   ],
   "source": [
    "import numpy as np\n",
    "a=np.array([[5,4,6],[2,8,2],[8,9,20]])\n",
    "b=np.sort(a,axis=1)                    #axis=1 (row wise)\n",
    "b"
   ]
  },
  {
   "cell_type": "code",
   "execution_count": 3,
   "id": "243f407e",
   "metadata": {},
   "outputs": [
    {
     "name": "stdout",
     "output_type": "stream",
     "text": [
      "[[ 5  6]\n",
      " [ 7  8]\n",
      " [ 9 10]]\n"
     ]
    }
   ],
   "source": [
    "a=np.array([[1,2],[3,4],[5,6]])\n",
    "b=np.array([[4,4],[4,4],[4,4]])\n",
    "print(a+b)"
   ]
  },
  {
   "cell_type": "code",
   "execution_count": 4,
   "id": "7675e0f5",
   "metadata": {},
   "outputs": [
    {
     "name": "stdout",
     "output_type": "stream",
     "text": [
      "[[ 5 12]\n",
      " [21 32]]\n"
     ]
    }
   ],
   "source": [
    "a=np.array([[1,2],[3,4]])\n",
    "b=np.array([[5,6],[7,8]])\n",
    "print(a*b)"
   ]
  },
  {
   "cell_type": "code",
   "execution_count": 6,
   "id": "3c441551",
   "metadata": {},
   "outputs": [
    {
     "data": {
      "text/plain": [
       "array([[19, 22],\n",
       "       [43, 50]])"
      ]
     },
     "execution_count": 6,
     "metadata": {},
     "output_type": "execute_result"
    }
   ],
   "source": [
    "a=np.array([[1,2],[3,4]])\n",
    "b=np.array([[5,6],[7,8]])\n",
    "np.matmul(a,b)                # matrix multiplication"
   ]
  },
  {
   "cell_type": "code",
   "execution_count": 7,
   "id": "7028693d",
   "metadata": {},
   "outputs": [
    {
     "name": "stdout",
     "output_type": "stream",
     "text": [
      "[[1 2]\n",
      " [3 4]]\n",
      "[[10 20]\n",
      " [30 40]]\n"
     ]
    }
   ],
   "source": [
    "a=np.array([[1,2],[3,4]])\n",
    "b=np.array([[10,20],[30,40]])\n",
    "print(a)\n",
    "print(b)"
   ]
  },
  {
   "cell_type": "code",
   "execution_count": 8,
   "id": "17f8830e",
   "metadata": {},
   "outputs": [
    {
     "data": {
      "text/plain": [
       "array([[ 1,  2],\n",
       "       [ 3,  4],\n",
       "       [10, 20],\n",
       "       [30, 40]])"
      ]
     },
     "execution_count": 8,
     "metadata": {},
     "output_type": "execute_result"
    }
   ],
   "source": [
    "np.concatenate((a,b),axis=0)"
   ]
  },
  {
   "cell_type": "markdown",
   "id": "2a635ed5",
   "metadata": {},
   "source": [
    "Columnwise concatenation or Vertical stacking"
   ]
  },
  {
   "cell_type": "code",
   "execution_count": 9,
   "id": "be3f76eb",
   "metadata": {},
   "outputs": [
    {
     "data": {
      "text/plain": [
       "array([[ 1,  2],\n",
       "       [ 3,  4],\n",
       "       [10, 20],\n",
       "       [30, 40]])"
      ]
     },
     "execution_count": 9,
     "metadata": {},
     "output_type": "execute_result"
    }
   ],
   "source": [
    "np.vstack((a,b))"
   ]
  },
  {
   "cell_type": "markdown",
   "id": "ecfd82d9",
   "metadata": {},
   "source": [
    "Rowwise concatenation or Horizontal stacking"
   ]
  },
  {
   "cell_type": "code",
   "execution_count": 10,
   "id": "6176e9a2",
   "metadata": {},
   "outputs": [
    {
     "data": {
      "text/plain": [
       "array([[[ 1,  2],\n",
       "        [ 3,  4]],\n",
       "\n",
       "       [[10, 20],\n",
       "        [30, 40]]])"
      ]
     },
     "execution_count": 10,
     "metadata": {},
     "output_type": "execute_result"
    }
   ],
   "source": [
    "np.stack((a,b))                    # equal to np.concatenate((a,b),axis=1)"
   ]
  },
  {
   "cell_type": "code",
   "execution_count": null,
   "id": "deb6739c",
   "metadata": {},
   "outputs": [],
   "source": []
  }
 ],
 "metadata": {
  "kernelspec": {
   "display_name": "Python 3 (ipykernel)",
   "language": "python",
   "name": "python3"
  },
  "language_info": {
   "codemirror_mode": {
    "name": "ipython",
    "version": 3
   },
   "file_extension": ".py",
   "mimetype": "text/x-python",
   "name": "python",
   "nbconvert_exporter": "python",
   "pygments_lexer": "ipython3",
   "version": "3.12.7"
  }
 },
 "nbformat": 4,
 "nbformat_minor": 5
}
